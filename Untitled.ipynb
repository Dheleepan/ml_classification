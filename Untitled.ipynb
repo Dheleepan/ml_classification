{
 "cells": [
  {
   "cell_type": "code",
   "execution_count": 1,
   "metadata": {},
   "outputs": [],
   "source": [
    "import numpy as np\n",
    "import pandas as pd\n",
    "import seaborn as sns\n",
    "import matplotlib.pyplot as plt\n",
    "import warnings\n",
    "warnings.filterwarnings('ignore')\n",
    "%matplotlib inline\n",
    "from wordcloud import WordCloud, STOPWORDS"
   ]
  },
  {
   "cell_type": "code",
   "execution_count": 2,
   "metadata": {},
   "outputs": [],
   "source": [
    "import nltk\n"
   ]
  },
  {
   "cell_type": "code",
   "execution_count": 3,
   "metadata": {},
   "outputs": [],
   "source": [
    "df = pd.read_csv('fake.csv')\n"
   ]
  },
  {
   "cell_type": "code",
   "execution_count": 4,
   "metadata": {},
   "outputs": [
    {
     "data": {
      "text/html": [
       "<div>\n",
       "<style scoped>\n",
       "    .dataframe tbody tr th:only-of-type {\n",
       "        vertical-align: middle;\n",
       "    }\n",
       "\n",
       "    .dataframe tbody tr th {\n",
       "        vertical-align: top;\n",
       "    }\n",
       "\n",
       "    .dataframe thead th {\n",
       "        text-align: right;\n",
       "    }\n",
       "</style>\n",
       "<table border=\"1\" class=\"dataframe\">\n",
       "  <thead>\n",
       "    <tr style=\"text-align: right;\">\n",
       "      <th></th>\n",
       "      <th>uuid</th>\n",
       "      <th>ord_in_thread</th>\n",
       "      <th>author</th>\n",
       "      <th>published</th>\n",
       "      <th>title</th>\n",
       "      <th>text</th>\n",
       "      <th>language</th>\n",
       "      <th>crawled</th>\n",
       "      <th>site_url</th>\n",
       "      <th>country</th>\n",
       "      <th>domain_rank</th>\n",
       "      <th>thread_title</th>\n",
       "      <th>spam_score</th>\n",
       "      <th>main_img_url</th>\n",
       "      <th>replies_count</th>\n",
       "      <th>participants_count</th>\n",
       "      <th>likes</th>\n",
       "      <th>comments</th>\n",
       "      <th>shares</th>\n",
       "      <th>type</th>\n",
       "    </tr>\n",
       "  </thead>\n",
       "  <tbody>\n",
       "    <tr>\n",
       "      <th>0</th>\n",
       "      <td>6a175f46bcd24d39b3e962ad0f29936721db70db</td>\n",
       "      <td>0</td>\n",
       "      <td>Barracuda Brigade</td>\n",
       "      <td>2016-10-26T21:41:00.000+03:00</td>\n",
       "      <td>Muslims BUSTED: They Stole Millions In Gov’t B...</td>\n",
       "      <td>Print They should pay all the back all the mon...</td>\n",
       "      <td>english</td>\n",
       "      <td>2016-10-27T01:49:27.168+03:00</td>\n",
       "      <td>100percentfedup.com</td>\n",
       "      <td>US</td>\n",
       "      <td>25689.0</td>\n",
       "      <td>Muslims BUSTED: They Stole Millions In Gov’t B...</td>\n",
       "      <td>0.000</td>\n",
       "      <td>http://bb4sp.com/wp-content/uploads/2016/10/Fu...</td>\n",
       "      <td>0</td>\n",
       "      <td>1</td>\n",
       "      <td>0</td>\n",
       "      <td>0</td>\n",
       "      <td>0</td>\n",
       "      <td>bias</td>\n",
       "    </tr>\n",
       "    <tr>\n",
       "      <th>1</th>\n",
       "      <td>2bdc29d12605ef9cf3f09f9875040a7113be5d5b</td>\n",
       "      <td>0</td>\n",
       "      <td>reasoning with facts</td>\n",
       "      <td>2016-10-29T08:47:11.259+03:00</td>\n",
       "      <td>Re: Why Did Attorney General Loretta Lynch Ple...</td>\n",
       "      <td>Why Did Attorney General Loretta Lynch Plead T...</td>\n",
       "      <td>english</td>\n",
       "      <td>2016-10-29T08:47:11.259+03:00</td>\n",
       "      <td>100percentfedup.com</td>\n",
       "      <td>US</td>\n",
       "      <td>25689.0</td>\n",
       "      <td>Re: Why Did Attorney General Loretta Lynch Ple...</td>\n",
       "      <td>0.000</td>\n",
       "      <td>http://bb4sp.com/wp-content/uploads/2016/10/Fu...</td>\n",
       "      <td>0</td>\n",
       "      <td>1</td>\n",
       "      <td>0</td>\n",
       "      <td>0</td>\n",
       "      <td>0</td>\n",
       "      <td>bias</td>\n",
       "    </tr>\n",
       "    <tr>\n",
       "      <th>2</th>\n",
       "      <td>c70e149fdd53de5e61c29281100b9de0ed268bc3</td>\n",
       "      <td>0</td>\n",
       "      <td>Barracuda Brigade</td>\n",
       "      <td>2016-10-31T01:41:49.479+02:00</td>\n",
       "      <td>BREAKING: Weiner Cooperating With FBI On Hilla...</td>\n",
       "      <td>Red State : \\nFox News Sunday reported this mo...</td>\n",
       "      <td>english</td>\n",
       "      <td>2016-10-31T01:41:49.479+02:00</td>\n",
       "      <td>100percentfedup.com</td>\n",
       "      <td>US</td>\n",
       "      <td>25689.0</td>\n",
       "      <td>BREAKING: Weiner Cooperating With FBI On Hilla...</td>\n",
       "      <td>0.000</td>\n",
       "      <td>http://bb4sp.com/wp-content/uploads/2016/10/Fu...</td>\n",
       "      <td>0</td>\n",
       "      <td>1</td>\n",
       "      <td>0</td>\n",
       "      <td>0</td>\n",
       "      <td>0</td>\n",
       "      <td>bias</td>\n",
       "    </tr>\n",
       "    <tr>\n",
       "      <th>3</th>\n",
       "      <td>7cf7c15731ac2a116dd7f629bd57ea468ed70284</td>\n",
       "      <td>0</td>\n",
       "      <td>Fed Up</td>\n",
       "      <td>2016-11-01T05:22:00.000+02:00</td>\n",
       "      <td>PIN DROP SPEECH BY FATHER OF DAUGHTER Kidnappe...</td>\n",
       "      <td>Email Kayla Mueller was a prisoner and torture...</td>\n",
       "      <td>english</td>\n",
       "      <td>2016-11-01T15:46:26.304+02:00</td>\n",
       "      <td>100percentfedup.com</td>\n",
       "      <td>US</td>\n",
       "      <td>25689.0</td>\n",
       "      <td>PIN DROP SPEECH BY FATHER OF DAUGHTER Kidnappe...</td>\n",
       "      <td>0.068</td>\n",
       "      <td>http://100percentfedup.com/wp-content/uploads/...</td>\n",
       "      <td>0</td>\n",
       "      <td>0</td>\n",
       "      <td>0</td>\n",
       "      <td>0</td>\n",
       "      <td>0</td>\n",
       "      <td>bias</td>\n",
       "    </tr>\n",
       "    <tr>\n",
       "      <th>4</th>\n",
       "      <td>0206b54719c7e241ffe0ad4315b808290dbe6c0f</td>\n",
       "      <td>0</td>\n",
       "      <td>Fed Up</td>\n",
       "      <td>2016-11-01T21:56:00.000+02:00</td>\n",
       "      <td>FANTASTIC! TRUMP'S 7 POINT PLAN To Reform Heal...</td>\n",
       "      <td>Email HEALTHCARE REFORM TO MAKE AMERICA GREAT ...</td>\n",
       "      <td>english</td>\n",
       "      <td>2016-11-01T23:59:42.266+02:00</td>\n",
       "      <td>100percentfedup.com</td>\n",
       "      <td>US</td>\n",
       "      <td>25689.0</td>\n",
       "      <td>FANTASTIC! TRUMP'S 7 POINT PLAN To Reform Heal...</td>\n",
       "      <td>0.865</td>\n",
       "      <td>http://100percentfedup.com/wp-content/uploads/...</td>\n",
       "      <td>0</td>\n",
       "      <td>0</td>\n",
       "      <td>0</td>\n",
       "      <td>0</td>\n",
       "      <td>0</td>\n",
       "      <td>bias</td>\n",
       "    </tr>\n",
       "    <tr>\n",
       "      <th>5</th>\n",
       "      <td>8f30f5ea14c9d5914a9fe4f55ab2581772af4c31</td>\n",
       "      <td>0</td>\n",
       "      <td>Barracuda Brigade</td>\n",
       "      <td>2016-11-02T16:31:28.550+02:00</td>\n",
       "      <td>Hillary Goes Absolutely Berserk On Protester A...</td>\n",
       "      <td>Print Hillary goes absolutely berserk! She exp...</td>\n",
       "      <td>english</td>\n",
       "      <td>2016-11-02T16:31:28.550+02:00</td>\n",
       "      <td>100percentfedup.com</td>\n",
       "      <td>US</td>\n",
       "      <td>25689.0</td>\n",
       "      <td>Hillary Goes Absolutely Berserk On Protester A...</td>\n",
       "      <td>0.000</td>\n",
       "      <td>http://bb4sp.com/wp-content/uploads/2016/11/Fu...</td>\n",
       "      <td>0</td>\n",
       "      <td>1</td>\n",
       "      <td>0</td>\n",
       "      <td>0</td>\n",
       "      <td>0</td>\n",
       "      <td>bias</td>\n",
       "    </tr>\n",
       "    <tr>\n",
       "      <th>6</th>\n",
       "      <td>d3cc0fe38f41a59f7c48f8c3528ca5f74193148f</td>\n",
       "      <td>0</td>\n",
       "      <td>Fed Up</td>\n",
       "      <td>2016-11-04T19:40:00.000+02:00</td>\n",
       "      <td>BREAKING! NYPD Ready To Make Arrests In Weiner...</td>\n",
       "      <td>BREAKING! NYPD Ready To Make Arrests In Weiner...</td>\n",
       "      <td>english</td>\n",
       "      <td>2016-11-05T02:13:46.065+02:00</td>\n",
       "      <td>100percentfedup.com</td>\n",
       "      <td>US</td>\n",
       "      <td>25689.0</td>\n",
       "      <td>BREAKING! NYPD Ready To Make Arrests In Weiner...</td>\n",
       "      <td>0.701</td>\n",
       "      <td>http://100percentfedup.com/wp-content/uploads/...</td>\n",
       "      <td>0</td>\n",
       "      <td>0</td>\n",
       "      <td>0</td>\n",
       "      <td>0</td>\n",
       "      <td>0</td>\n",
       "      <td>bias</td>\n",
       "    </tr>\n",
       "    <tr>\n",
       "      <th>7</th>\n",
       "      <td>b4bbf8b5c19e8864f5257832a58b81ef4ed2d4e4</td>\n",
       "      <td>0</td>\n",
       "      <td>Fed Up</td>\n",
       "      <td>2016-11-05T01:19:00.000+02:00</td>\n",
       "      <td>WOW! WHISTLEBLOWER TELLS CHILLING STORY Of Mas...</td>\n",
       "      <td>BREAKING! NYPD Ready To Make Arrests In Weiner...</td>\n",
       "      <td>english</td>\n",
       "      <td>2016-11-05T05:59:07.458+02:00</td>\n",
       "      <td>100percentfedup.com</td>\n",
       "      <td>US</td>\n",
       "      <td>25689.0</td>\n",
       "      <td>WOW! WHISTLEBLOWER TELLS CHILLING STORY Of Mas...</td>\n",
       "      <td>0.188</td>\n",
       "      <td>http://100percentfedup.com/wp-content/uploads/...</td>\n",
       "      <td>0</td>\n",
       "      <td>0</td>\n",
       "      <td>0</td>\n",
       "      <td>0</td>\n",
       "      <td>0</td>\n",
       "      <td>bias</td>\n",
       "    </tr>\n",
       "    <tr>\n",
       "      <th>8</th>\n",
       "      <td>a19aabaa5a61eb8bc22fadaaa003e5fbba5c4bf6</td>\n",
       "      <td>0</td>\n",
       "      <td>Fed Up</td>\n",
       "      <td>2016-11-06T23:54:00.000+02:00</td>\n",
       "      <td>BREAKING: CLINTON CLEARED...Was This A Coordin...</td>\n",
       "      <td>\\nLimbaugh said that the revelations in the Wi...</td>\n",
       "      <td>english</td>\n",
       "      <td>2016-11-07T10:20:06.409+02:00</td>\n",
       "      <td>100percentfedup.com</td>\n",
       "      <td>US</td>\n",
       "      <td>25689.0</td>\n",
       "      <td>BREAKING: CLINTON CLEARED...Was This A Coordin...</td>\n",
       "      <td>0.144</td>\n",
       "      <td>http://100percentfedup.com/wp-content/uploads/...</td>\n",
       "      <td>0</td>\n",
       "      <td>0</td>\n",
       "      <td>0</td>\n",
       "      <td>0</td>\n",
       "      <td>0</td>\n",
       "      <td>bias</td>\n",
       "    </tr>\n",
       "    <tr>\n",
       "      <th>9</th>\n",
       "      <td>f54d8e13010d0a79893995ee65360ad4b38b5a35</td>\n",
       "      <td>0</td>\n",
       "      <td>Fed Up</td>\n",
       "      <td>2016-11-07T02:43:00.000+02:00</td>\n",
       "      <td>EVIL HILLARY SUPPORTERS Yell \"F*ck Trump\"…Burn...</td>\n",
       "      <td>Email \\nThese people are sick and evil. They w...</td>\n",
       "      <td>english</td>\n",
       "      <td>2016-11-07T10:20:27.252+02:00</td>\n",
       "      <td>100percentfedup.com</td>\n",
       "      <td>US</td>\n",
       "      <td>25689.0</td>\n",
       "      <td>EVIL HILLARY SUPPORTERS Yell \"F*ck Trump\"…Burn...</td>\n",
       "      <td>0.995</td>\n",
       "      <td>http://100percentfedup.com/wp-content/uploads/...</td>\n",
       "      <td>0</td>\n",
       "      <td>0</td>\n",
       "      <td>0</td>\n",
       "      <td>0</td>\n",
       "      <td>0</td>\n",
       "      <td>bias</td>\n",
       "    </tr>\n",
       "  </tbody>\n",
       "</table>\n",
       "</div>"
      ],
      "text/plain": [
       "                                       uuid  ord_in_thread  \\\n",
       "0  6a175f46bcd24d39b3e962ad0f29936721db70db              0   \n",
       "1  2bdc29d12605ef9cf3f09f9875040a7113be5d5b              0   \n",
       "2  c70e149fdd53de5e61c29281100b9de0ed268bc3              0   \n",
       "3  7cf7c15731ac2a116dd7f629bd57ea468ed70284              0   \n",
       "4  0206b54719c7e241ffe0ad4315b808290dbe6c0f              0   \n",
       "5  8f30f5ea14c9d5914a9fe4f55ab2581772af4c31              0   \n",
       "6  d3cc0fe38f41a59f7c48f8c3528ca5f74193148f              0   \n",
       "7  b4bbf8b5c19e8864f5257832a58b81ef4ed2d4e4              0   \n",
       "8  a19aabaa5a61eb8bc22fadaaa003e5fbba5c4bf6              0   \n",
       "9  f54d8e13010d0a79893995ee65360ad4b38b5a35              0   \n",
       "\n",
       "                 author                      published  \\\n",
       "0     Barracuda Brigade  2016-10-26T21:41:00.000+03:00   \n",
       "1  reasoning with facts  2016-10-29T08:47:11.259+03:00   \n",
       "2     Barracuda Brigade  2016-10-31T01:41:49.479+02:00   \n",
       "3                Fed Up  2016-11-01T05:22:00.000+02:00   \n",
       "4                Fed Up  2016-11-01T21:56:00.000+02:00   \n",
       "5     Barracuda Brigade  2016-11-02T16:31:28.550+02:00   \n",
       "6                Fed Up  2016-11-04T19:40:00.000+02:00   \n",
       "7                Fed Up  2016-11-05T01:19:00.000+02:00   \n",
       "8                Fed Up  2016-11-06T23:54:00.000+02:00   \n",
       "9                Fed Up  2016-11-07T02:43:00.000+02:00   \n",
       "\n",
       "                                               title  \\\n",
       "0  Muslims BUSTED: They Stole Millions In Gov’t B...   \n",
       "1  Re: Why Did Attorney General Loretta Lynch Ple...   \n",
       "2  BREAKING: Weiner Cooperating With FBI On Hilla...   \n",
       "3  PIN DROP SPEECH BY FATHER OF DAUGHTER Kidnappe...   \n",
       "4  FANTASTIC! TRUMP'S 7 POINT PLAN To Reform Heal...   \n",
       "5  Hillary Goes Absolutely Berserk On Protester A...   \n",
       "6  BREAKING! NYPD Ready To Make Arrests In Weiner...   \n",
       "7  WOW! WHISTLEBLOWER TELLS CHILLING STORY Of Mas...   \n",
       "8  BREAKING: CLINTON CLEARED...Was This A Coordin...   \n",
       "9  EVIL HILLARY SUPPORTERS Yell \"F*ck Trump\"…Burn...   \n",
       "\n",
       "                                                text language  \\\n",
       "0  Print They should pay all the back all the mon...  english   \n",
       "1  Why Did Attorney General Loretta Lynch Plead T...  english   \n",
       "2  Red State : \\nFox News Sunday reported this mo...  english   \n",
       "3  Email Kayla Mueller was a prisoner and torture...  english   \n",
       "4  Email HEALTHCARE REFORM TO MAKE AMERICA GREAT ...  english   \n",
       "5  Print Hillary goes absolutely berserk! She exp...  english   \n",
       "6  BREAKING! NYPD Ready To Make Arrests In Weiner...  english   \n",
       "7  BREAKING! NYPD Ready To Make Arrests In Weiner...  english   \n",
       "8  \\nLimbaugh said that the revelations in the Wi...  english   \n",
       "9  Email \\nThese people are sick and evil. They w...  english   \n",
       "\n",
       "                         crawled             site_url country  domain_rank  \\\n",
       "0  2016-10-27T01:49:27.168+03:00  100percentfedup.com      US      25689.0   \n",
       "1  2016-10-29T08:47:11.259+03:00  100percentfedup.com      US      25689.0   \n",
       "2  2016-10-31T01:41:49.479+02:00  100percentfedup.com      US      25689.0   \n",
       "3  2016-11-01T15:46:26.304+02:00  100percentfedup.com      US      25689.0   \n",
       "4  2016-11-01T23:59:42.266+02:00  100percentfedup.com      US      25689.0   \n",
       "5  2016-11-02T16:31:28.550+02:00  100percentfedup.com      US      25689.0   \n",
       "6  2016-11-05T02:13:46.065+02:00  100percentfedup.com      US      25689.0   \n",
       "7  2016-11-05T05:59:07.458+02:00  100percentfedup.com      US      25689.0   \n",
       "8  2016-11-07T10:20:06.409+02:00  100percentfedup.com      US      25689.0   \n",
       "9  2016-11-07T10:20:27.252+02:00  100percentfedup.com      US      25689.0   \n",
       "\n",
       "                                        thread_title  spam_score  \\\n",
       "0  Muslims BUSTED: They Stole Millions In Gov’t B...       0.000   \n",
       "1  Re: Why Did Attorney General Loretta Lynch Ple...       0.000   \n",
       "2  BREAKING: Weiner Cooperating With FBI On Hilla...       0.000   \n",
       "3  PIN DROP SPEECH BY FATHER OF DAUGHTER Kidnappe...       0.068   \n",
       "4  FANTASTIC! TRUMP'S 7 POINT PLAN To Reform Heal...       0.865   \n",
       "5  Hillary Goes Absolutely Berserk On Protester A...       0.000   \n",
       "6  BREAKING! NYPD Ready To Make Arrests In Weiner...       0.701   \n",
       "7  WOW! WHISTLEBLOWER TELLS CHILLING STORY Of Mas...       0.188   \n",
       "8  BREAKING: CLINTON CLEARED...Was This A Coordin...       0.144   \n",
       "9  EVIL HILLARY SUPPORTERS Yell \"F*ck Trump\"…Burn...       0.995   \n",
       "\n",
       "                                        main_img_url  replies_count  \\\n",
       "0  http://bb4sp.com/wp-content/uploads/2016/10/Fu...              0   \n",
       "1  http://bb4sp.com/wp-content/uploads/2016/10/Fu...              0   \n",
       "2  http://bb4sp.com/wp-content/uploads/2016/10/Fu...              0   \n",
       "3  http://100percentfedup.com/wp-content/uploads/...              0   \n",
       "4  http://100percentfedup.com/wp-content/uploads/...              0   \n",
       "5  http://bb4sp.com/wp-content/uploads/2016/11/Fu...              0   \n",
       "6  http://100percentfedup.com/wp-content/uploads/...              0   \n",
       "7  http://100percentfedup.com/wp-content/uploads/...              0   \n",
       "8  http://100percentfedup.com/wp-content/uploads/...              0   \n",
       "9  http://100percentfedup.com/wp-content/uploads/...              0   \n",
       "\n",
       "   participants_count  likes  comments  shares  type  \n",
       "0                   1      0         0       0  bias  \n",
       "1                   1      0         0       0  bias  \n",
       "2                   1      0         0       0  bias  \n",
       "3                   0      0         0       0  bias  \n",
       "4                   0      0         0       0  bias  \n",
       "5                   1      0         0       0  bias  \n",
       "6                   0      0         0       0  bias  \n",
       "7                   0      0         0       0  bias  \n",
       "8                   0      0         0       0  bias  \n",
       "9                   0      0         0       0  bias  "
      ]
     },
     "execution_count": 4,
     "metadata": {},
     "output_type": "execute_result"
    }
   ],
   "source": [
    "df.head(10)"
   ]
  },
  {
   "cell_type": "code",
   "execution_count": 5,
   "metadata": {},
   "outputs": [
    {
     "data": {
      "text/plain": [
       "(12999, 20)"
      ]
     },
     "execution_count": 5,
     "metadata": {},
     "output_type": "execute_result"
    }
   ],
   "source": [
    "df.shape"
   ]
  },
  {
   "cell_type": "code",
   "execution_count": 6,
   "metadata": {},
   "outputs": [
    {
     "data": {
      "text/plain": [
       "uuid                     0\n",
       "ord_in_thread            0\n",
       "author                2424\n",
       "published                0\n",
       "title                  680\n",
       "text                    46\n",
       "language                 0\n",
       "crawled                  0\n",
       "site_url                 0\n",
       "country                176\n",
       "domain_rank           4223\n",
       "thread_title            12\n",
       "spam_score               0\n",
       "main_img_url          3643\n",
       "replies_count            0\n",
       "participants_count       0\n",
       "likes                    0\n",
       "comments                 0\n",
       "shares                   0\n",
       "type                     0\n",
       "dtype: int64"
      ]
     },
     "execution_count": 6,
     "metadata": {},
     "output_type": "execute_result"
    }
   ],
   "source": [
    "df.isnull().sum(axis=0)"
   ]
  },
  {
   "cell_type": "code",
   "execution_count": 7,
   "metadata": {},
   "outputs": [
    {
     "data": {
      "text/plain": [
       "<matplotlib.axes._subplots.AxesSubplot at 0x1aaca2f5dc8>"
      ]
     },
     "execution_count": 7,
     "metadata": {},
     "output_type": "execute_result"
    },
    {
     "data": {
      "image/png": "[encoded data removed]",
      "text/plain": [
       "<Figure size 432x288 with 1 Axes>"
      ]
     },
     "metadata": {
      "needs_background": "light"
     },
     "output_type": "display_data"
    }
   ],
   "source": [
    "sns.heatmap(df.isnull(),cmap='viridis',cbar=False)"
   ]
  },
  {
   "cell_type": "code",
   "execution_count": 8,
   "metadata": {},
   "outputs": [
    {
     "data": {
      "text/plain": [
       "<seaborn.axisgrid.PairGrid at 0x1aacd38d988>"
      ]
     },
     "execution_count": 8,
     "metadata": {},
     "output_type": "execute_result"
    },
    {
     "data": {
      "image/png": "[encoded data removed]",
      "text/plain": [
       "<Figure size 1440x1440 with 72 Axes>"
      ]
     },
     "metadata": {
      "needs_background": "light"
     },
     "output_type": "display_data"
    }
   ],
   "source": [
    "sns.pairplot(df)"
   ]
  },
  {
   "cell_type": "code",
   "execution_count": 9,
   "metadata": {},
   "outputs": [
    {
     "data": {
      "text/plain": [
       "<matplotlib.axes._subplots.AxesSubplot at 0x1aad8a7a288>"
      ]
     },
     "execution_count": 9,
     "metadata": {},
     "output_type": "execute_result"
    },
    {
     "data": {
      "image/png": "[encoded data removed]",
      "text/plain": [
       "<Figure size 432x288 with 2 Axes>"
      ]
     },
     "metadata": {
      "needs_background": "light"
     },
     "output_type": "display_data"
    }
   ],
   "source": [
    "sns.heatmap(df.corr(),cmap='viridis')"
   ]
  },
  {
   "cell_type": "code",
   "execution_count": 10,
   "metadata": {},
   "outputs": [
    {
     "data": {
      "image/png": "[encoded data removed]",
      "text/plain": [
       "<Figure size 432x288 with 9 Axes>"
      ]
     },
     "metadata": {
      "needs_background": "light"
     },
     "output_type": "display_data"
    }
   ],
   "source": [
    "colors=['r','y','g','b']\n",
    "df.hist(figsize=(6,4),rwidth=0.8,color='r',grid=False)\n",
    "plt.tight_layout()"
   ]
  },
  {
   "cell_type": "code",
   "execution_count": 11,
   "metadata": {},
   "outputs": [
    {
     "name": "stdout",
     "output_type": "stream",
     "text": [
      "<class 'pandas.core.frame.DataFrame'>\n",
      "RangeIndex: 12999 entries, 0 to 12998\n",
      "Data columns (total 20 columns):\n",
      " #   Column              Non-Null Count  Dtype  \n",
      "---  ------              --------------  -----  \n",
      " 0   uuid                12999 non-null  object \n",
      " 1   ord_in_thread       12999 non-null  int64  \n",
      " 2   author              10575 non-null  object \n",
      " 3   published           12999 non-null  object \n",
      " 4   title               12319 non-null  object \n",
      " 5   text                12953 non-null  object \n",
      " 6   language            12999 non-null  object \n",
      " 7   crawled             12999 non-null  object \n",
      " 8   site_url            12999 non-null  object \n",
      " 9   country             12823 non-null  object \n",
      " 10  domain_rank         8776 non-null   float64\n",
      " 11  thread_title        12987 non-null  object \n",
      " 12  spam_score          12999 non-null  float64\n",
      " 13  main_img_url        9356 non-null   object \n",
      " 14  replies_count       12999 non-null  int64  \n",
      " 15  participants_count  12999 non-null  int64  \n",
      " 16  likes               12999 non-null  int64  \n",
      " 17  comments            12999 non-null  int64  \n",
      " 18  shares              12999 non-null  int64  \n",
      " 19  type                12999 non-null  object \n",
      "dtypes: float64(2), int64(6), object(12)\n",
      "memory usage: 2.0+ MB\n"
     ]
    }
   ],
   "source": [
    "df.info()"
   ]
  },
  {
   "cell_type": "code",
   "execution_count": 12,
   "metadata": {},
   "outputs": [
    {
     "data": {
      "text/plain": [
       "array([1], dtype=int64)"
      ]
     },
     "execution_count": 12,
     "metadata": {},
     "output_type": "execute_result"
    }
   ],
   "source": [
    "df['uuid'].value_counts().unique()"
   ]
  },
  {
   "cell_type": "code",
   "execution_count": 13,
   "metadata": {},
   "outputs": [
    {
     "data": {
      "text/plain": [
       "12999"
      ]
     },
     "execution_count": 13,
     "metadata": {},
     "output_type": "execute_result"
    }
   ],
   "source": [
    "len(df['uuid'].value_counts())"
   ]
  },
  {
   "cell_type": "code",
   "execution_count": 14,
   "metadata": {},
   "outputs": [],
   "source": [
    "df1 = df.drop('uuid',axis=1)"
   ]
  },
  {
   "cell_type": "code",
   "execution_count": 15,
   "metadata": {},
   "outputs": [
    {
     "data": {
      "text/html": [
       "<div>\n",
       "<style scoped>\n",
       "    .dataframe tbody tr th:only-of-type {\n",
       "        vertical-align: middle;\n",
       "    }\n",
       "\n",
       "    .dataframe tbody tr th {\n",
       "        vertical-align: top;\n",
       "    }\n",
       "\n",
       "    .dataframe thead th {\n",
       "        text-align: right;\n",
       "    }\n",
       "</style>\n",
       "<table border=\"1\" class=\"dataframe\">\n",
       "  <thead>\n",
       "    <tr style=\"text-align: right;\">\n",
       "      <th></th>\n",
       "      <th>ord_in_thread</th>\n",
       "      <th>author</th>\n",
       "      <th>published</th>\n",
       "      <th>title</th>\n",
       "      <th>text</th>\n",
       "      <th>language</th>\n",
       "      <th>crawled</th>\n",
       "      <th>site_url</th>\n",
       "      <th>country</th>\n",
       "      <th>domain_rank</th>\n",
       "      <th>thread_title</th>\n",
       "      <th>spam_score</th>\n",
       "      <th>main_img_url</th>\n",
       "      <th>replies_count</th>\n",
       "      <th>participants_count</th>\n",
       "      <th>likes</th>\n",
       "      <th>comments</th>\n",
       "      <th>shares</th>\n",
       "      <th>type</th>\n",
       "    </tr>\n",
       "  </thead>\n",
       "  <tbody>\n",
       "    <tr>\n",
       "      <th>0</th>\n",
       "      <td>0</td>\n",
       "      <td>Barracuda Brigade</td>\n",
       "      <td>2016-10-26T21:41:00.000+03:00</td>\n",
       "      <td>Muslims BUSTED: They Stole Millions In Gov’t B...</td>\n",
       "      <td>Print They should pay all the back all the mon...</td>\n",
       "      <td>english</td>\n",
       "      <td>2016-10-27T01:49:27.168+03:00</td>\n",
       "      <td>100percentfedup.com</td>\n",
       "      <td>US</td>\n",
       "      <td>25689.0</td>\n",
       "      <td>Muslims BUSTED: They Stole Millions In Gov’t B...</td>\n",
       "      <td>0.0</td>\n",
       "      <td>http://bb4sp.com/wp-content/uploads/2016/10/Fu...</td>\n",
       "      <td>0</td>\n",
       "      <td>1</td>\n",
       "      <td>0</td>\n",
       "      <td>0</td>\n",
       "      <td>0</td>\n",
       "      <td>bias</td>\n",
       "    </tr>\n",
       "  </tbody>\n",
       "</table>\n",
       "</div>"
      ],
      "text/plain": [
       "   ord_in_thread             author                      published  \\\n",
       "0              0  Barracuda Brigade  2016-10-26T21:41:00.000+03:00   \n",
       "\n",
       "                                               title  \\\n",
       "0  Muslims BUSTED: They Stole Millions In Gov’t B...   \n",
       "\n",
       "                                                text language  \\\n",
       "0  Print They should pay all the back all the mon...  english   \n",
       "\n",
       "                         crawled             site_url country  domain_rank  \\\n",
       "0  2016-10-27T01:49:27.168+03:00  100percentfedup.com      US      25689.0   \n",
       "\n",
       "                                        thread_title  spam_score  \\\n",
       "0  Muslims BUSTED: They Stole Millions In Gov’t B...         0.0   \n",
       "\n",
       "                                        main_img_url  replies_count  \\\n",
       "0  http://bb4sp.com/wp-content/uploads/2016/10/Fu...              0   \n",
       "\n",
       "   participants_count  likes  comments  shares  type  \n",
       "0                   1      0         0       0  bias  "
      ]
     },
     "execution_count": 15,
     "metadata": {},
     "output_type": "execute_result"
    }
   ],
   "source": [
    "df1.head(1)"
   ]
  },
  {
   "cell_type": "code",
   "execution_count": 16,
   "metadata": {},
   "outputs": [],
   "source": [
    "count=df1['ord_in_thread'].value_counts()"
   ]
  },
  {
   "cell_type": "code",
   "execution_count": 17,
   "metadata": {},
   "outputs": [
    {
     "data": {
      "text/plain": [
       "<matplotlib.axes._subplots.AxesSubplot at 0x1aad579d808>"
      ]
     },
     "execution_count": 17,
     "metadata": {},
     "output_type": "execute_result"
    },
    {
     "data": {
      "image/png": "[encoded data removed]",
      "text/plain": [
       "<Figure size 432x288 with 1 Axes>"
      ]
     },
     "metadata": {
      "needs_background": "light"
     },
     "output_type": "display_data"
    }
   ],
   "source": [
    "df1['ord_in_thread'].plot(kind='hist')"
   ]
  },
  {
   "cell_type": "code",
   "execution_count": 18,
   "metadata": {},
   "outputs": [
    {
     "data": {
      "text/plain": [
       "2424"
      ]
     },
     "execution_count": 18,
     "metadata": {},
     "output_type": "execute_result"
    }
   ],
   "source": [
    "df1['author'].isnull().sum(axis=0)"
   ]
  },
  {
   "cell_type": "code",
   "execution_count": 19,
   "metadata": {},
   "outputs": [],
   "source": [
    "df1= df1.dropna(subset=['author'])"
   ]
  },
  {
   "cell_type": "code",
   "execution_count": 20,
   "metadata": {},
   "outputs": [
    {
     "data": {
      "text/plain": [
       "(10575, 19)"
      ]
     },
     "execution_count": 20,
     "metadata": {},
     "output_type": "execute_result"
    }
   ],
   "source": [
    "df1.shape"
   ]
  },
  {
   "cell_type": "code",
   "execution_count": 21,
   "metadata": {},
   "outputs": [
    {
     "data": {
      "text/plain": [
       "array(['Barracuda Brigade', 'reasoning with facts', 'Fed Up', ...,\n",
       "       'major major maj...', 'beemasters', 'i&#039;m-confused'],\n",
       "      dtype=object)"
      ]
     },
     "execution_count": 21,
     "metadata": {},
     "output_type": "execute_result"
    }
   ],
   "source": [
    "df1['author'].unique()"
   ]
  },
  {
   "cell_type": "code",
   "execution_count": 22,
   "metadata": {},
   "outputs": [
    {
     "data": {
      "text/plain": [
       "2259"
      ]
     },
     "execution_count": 22,
     "metadata": {},
     "output_type": "execute_result"
    }
   ],
   "source": [
    "len(df1['author'].value_counts())"
   ]
  },
  {
   "cell_type": "code",
   "execution_count": 23,
   "metadata": {},
   "outputs": [],
   "source": [
    "df1['published']= pd.to_datetime(df1['published'])"
   ]
  },
  {
   "cell_type": "code",
   "execution_count": 24,
   "metadata": {},
   "outputs": [
    {
     "data": {
      "text/html": [
       "<div>\n",
       "<style scoped>\n",
       "    .dataframe tbody tr th:only-of-type {\n",
       "        vertical-align: middle;\n",
       "    }\n",
       "\n",
       "    .dataframe tbody tr th {\n",
       "        vertical-align: top;\n",
       "    }\n",
       "\n",
       "    .dataframe thead th {\n",
       "        text-align: right;\n",
       "    }\n",
       "</style>\n",
       "<table border=\"1\" class=\"dataframe\">\n",
       "  <thead>\n",
       "    <tr style=\"text-align: right;\">\n",
       "      <th></th>\n",
       "      <th>ord_in_thread</th>\n",
       "      <th>author</th>\n",
       "      <th>published</th>\n",
       "      <th>title</th>\n",
       "      <th>text</th>\n",
       "      <th>language</th>\n",
       "      <th>crawled</th>\n",
       "      <th>site_url</th>\n",
       "      <th>country</th>\n",
       "      <th>domain_rank</th>\n",
       "      <th>thread_title</th>\n",
       "      <th>spam_score</th>\n",
       "      <th>main_img_url</th>\n",
       "      <th>replies_count</th>\n",
       "      <th>participants_count</th>\n",
       "      <th>likes</th>\n",
       "      <th>comments</th>\n",
       "      <th>shares</th>\n",
       "      <th>type</th>\n",
       "    </tr>\n",
       "  </thead>\n",
       "  <tbody>\n",
       "    <tr>\n",
       "      <th>0</th>\n",
       "      <td>0</td>\n",
       "      <td>Barracuda Brigade</td>\n",
       "      <td>2016-10-26 21:41:00+03:00</td>\n",
       "      <td>Muslims BUSTED: They Stole Millions In Gov’t B...</td>\n",
       "      <td>Print They should pay all the back all the mon...</td>\n",
       "      <td>english</td>\n",
       "      <td>2016-10-27T01:49:27.168+03:00</td>\n",
       "      <td>100percentfedup.com</td>\n",
       "      <td>US</td>\n",
       "      <td>25689.0</td>\n",
       "      <td>Muslims BUSTED: They Stole Millions In Gov’t B...</td>\n",
       "      <td>0.000</td>\n",
       "      <td>http://bb4sp.com/wp-content/uploads/2016/10/Fu...</td>\n",
       "      <td>0</td>\n",
       "      <td>1</td>\n",
       "      <td>0</td>\n",
       "      <td>0</td>\n",
       "      <td>0</td>\n",
       "      <td>bias</td>\n",
       "    </tr>\n",
       "    <tr>\n",
       "      <th>1</th>\n",
       "      <td>0</td>\n",
       "      <td>reasoning with facts</td>\n",
       "      <td>2016-10-29 08:47:11.259000+03:00</td>\n",
       "      <td>Re: Why Did Attorney General Loretta Lynch Ple...</td>\n",
       "      <td>Why Did Attorney General Loretta Lynch Plead T...</td>\n",
       "      <td>english</td>\n",
       "      <td>2016-10-29T08:47:11.259+03:00</td>\n",
       "      <td>100percentfedup.com</td>\n",
       "      <td>US</td>\n",
       "      <td>25689.0</td>\n",
       "      <td>Re: Why Did Attorney General Loretta Lynch Ple...</td>\n",
       "      <td>0.000</td>\n",
       "      <td>http://bb4sp.com/wp-content/uploads/2016/10/Fu...</td>\n",
       "      <td>0</td>\n",
       "      <td>1</td>\n",
       "      <td>0</td>\n",
       "      <td>0</td>\n",
       "      <td>0</td>\n",
       "      <td>bias</td>\n",
       "    </tr>\n",
       "    <tr>\n",
       "      <th>2</th>\n",
       "      <td>0</td>\n",
       "      <td>Barracuda Brigade</td>\n",
       "      <td>2016-10-31 01:41:49.479000+02:00</td>\n",
       "      <td>BREAKING: Weiner Cooperating With FBI On Hilla...</td>\n",
       "      <td>Red State : \\nFox News Sunday reported this mo...</td>\n",
       "      <td>english</td>\n",
       "      <td>2016-10-31T01:41:49.479+02:00</td>\n",
       "      <td>100percentfedup.com</td>\n",
       "      <td>US</td>\n",
       "      <td>25689.0</td>\n",
       "      <td>BREAKING: Weiner Cooperating With FBI On Hilla...</td>\n",
       "      <td>0.000</td>\n",
       "      <td>http://bb4sp.com/wp-content/uploads/2016/10/Fu...</td>\n",
       "      <td>0</td>\n",
       "      <td>1</td>\n",
       "      <td>0</td>\n",
       "      <td>0</td>\n",
       "      <td>0</td>\n",
       "      <td>bias</td>\n",
       "    </tr>\n",
       "    <tr>\n",
       "      <th>3</th>\n",
       "      <td>0</td>\n",
       "      <td>Fed Up</td>\n",
       "      <td>2016-11-01 05:22:00+02:00</td>\n",
       "      <td>PIN DROP SPEECH BY FATHER OF DAUGHTER Kidnappe...</td>\n",
       "      <td>Email Kayla Mueller was a prisoner and torture...</td>\n",
       "      <td>english</td>\n",
       "      <td>2016-11-01T15:46:26.304+02:00</td>\n",
       "      <td>100percentfedup.com</td>\n",
       "      <td>US</td>\n",
       "      <td>25689.0</td>\n",
       "      <td>PIN DROP SPEECH BY FATHER OF DAUGHTER Kidnappe...</td>\n",
       "      <td>0.068</td>\n",
       "      <td>http://100percentfedup.com/wp-content/uploads/...</td>\n",
       "      <td>0</td>\n",
       "      <td>0</td>\n",
       "      <td>0</td>\n",
       "      <td>0</td>\n",
       "      <td>0</td>\n",
       "      <td>bias</td>\n",
       "    </tr>\n",
       "    <tr>\n",
       "      <th>4</th>\n",
       "      <td>0</td>\n",
       "      <td>Fed Up</td>\n",
       "      <td>2016-11-01 21:56:00+02:00</td>\n",
       "      <td>FANTASTIC! TRUMP'S 7 POINT PLAN To Reform Heal...</td>\n",
       "      <td>Email HEALTHCARE REFORM TO MAKE AMERICA GREAT ...</td>\n",
       "      <td>english</td>\n",
       "      <td>2016-11-01T23:59:42.266+02:00</td>\n",
       "      <td>100percentfedup.com</td>\n",
       "      <td>US</td>\n",
       "      <td>25689.0</td>\n",
       "      <td>FANTASTIC! TRUMP'S 7 POINT PLAN To Reform Heal...</td>\n",
       "      <td>0.865</td>\n",
       "      <td>http://100percentfedup.com/wp-content/uploads/...</td>\n",
       "      <td>0</td>\n",
       "      <td>0</td>\n",
       "      <td>0</td>\n",
       "      <td>0</td>\n",
       "      <td>0</td>\n",
       "      <td>bias</td>\n",
       "    </tr>\n",
       "  </tbody>\n",
       "</table>\n",
       "</div>"
      ],
      "text/plain": [
       "   ord_in_thread                author                         published  \\\n",
       "0              0     Barracuda Brigade         2016-10-26 21:41:00+03:00   \n",
       "1              0  reasoning with facts  2016-10-29 08:47:11.259000+03:00   \n",
       "2              0     Barracuda Brigade  2016-10-31 01:41:49.479000+02:00   \n",
       "3              0                Fed Up         2016-11-01 05:22:00+02:00   \n",
       "4              0                Fed Up         2016-11-01 21:56:00+02:00   \n",
       "\n",
       "                                               title  \\\n",
       "0  Muslims BUSTED: They Stole Millions In Gov’t B...   \n",
       "1  Re: Why Did Attorney General Loretta Lynch Ple...   \n",
       "2  BREAKING: Weiner Cooperating With FBI On Hilla...   \n",
       "3  PIN DROP SPEECH BY FATHER OF DAUGHTER Kidnappe...   \n",
       "4  FANTASTIC! TRUMP'S 7 POINT PLAN To Reform Heal...   \n",
       "\n",
       "                                                text language  \\\n",
       "0  Print They should pay all the back all the mon...  english   \n",
       "1  Why Did Attorney General Loretta Lynch Plead T...  english   \n",
       "2  Red State : \\nFox News Sunday reported this mo...  english   \n",
       "3  Email Kayla Mueller was a prisoner and torture...  english   \n",
       "4  Email HEALTHCARE REFORM TO MAKE AMERICA GREAT ...  english   \n",
       "\n",
       "                         crawled             site_url country  domain_rank  \\\n",
       "0  2016-10-27T01:49:27.168+03:00  100percentfedup.com      US      25689.0   \n",
       "1  2016-10-29T08:47:11.259+03:00  100percentfedup.com      US      25689.0   \n",
       "2  2016-10-31T01:41:49.479+02:00  100percentfedup.com      US      25689.0   \n",
       "3  2016-11-01T15:46:26.304+02:00  100percentfedup.com      US      25689.0   \n",
       "4  2016-11-01T23:59:42.266+02:00  100percentfedup.com      US      25689.0   \n",
       "\n",
       "                                        thread_title  spam_score  \\\n",
       "0  Muslims BUSTED: They Stole Millions In Gov’t B...       0.000   \n",
       "1  Re: Why Did Attorney General Loretta Lynch Ple...       0.000   \n",
       "2  BREAKING: Weiner Cooperating With FBI On Hilla...       0.000   \n",
       "3  PIN DROP SPEECH BY FATHER OF DAUGHTER Kidnappe...       0.068   \n",
       "4  FANTASTIC! TRUMP'S 7 POINT PLAN To Reform Heal...       0.865   \n",
       "\n",
       "                                        main_img_url  replies_count  \\\n",
       "0  http://bb4sp.com/wp-content/uploads/2016/10/Fu...              0   \n",
       "1  http://bb4sp.com/wp-content/uploads/2016/10/Fu...              0   \n",
       "2  http://bb4sp.com/wp-content/uploads/2016/10/Fu...              0   \n",
       "3  http://100percentfedup.com/wp-content/uploads/...              0   \n",
       "4  http://100percentfedup.com/wp-content/uploads/...              0   \n",
       "\n",
       "   participants_count  likes  comments  shares  type  \n",
       "0                   1      0         0       0  bias  \n",
       "1                   1      0         0       0  bias  \n",
       "2                   1      0         0       0  bias  \n",
       "3                   0      0         0       0  bias  \n",
       "4                   0      0         0       0  bias  "
      ]
     },
     "execution_count": 24,
     "metadata": {},
     "output_type": "execute_result"
    }
   ],
   "source": [
    "df1.head()"
   ]
  },
  {
   "cell_type": "code",
   "execution_count": 25,
   "metadata": {},
   "outputs": [],
   "source": [
    "df1['published_month']= df1['published'].apply(lambda x: x.month)"
   ]
  },
  {
   "cell_type": "code",
   "execution_count": 26,
   "metadata": {},
   "outputs": [],
   "source": [
    "df1['published_date']=df1['published'].apply(lambda x: x.day)"
   ]
  },
  {
   "cell_type": "code",
   "execution_count": 27,
   "metadata": {},
   "outputs": [
    {
     "data": {
      "text/html": [
       "<div>\n",
       "<style scoped>\n",
       "    .dataframe tbody tr th:only-of-type {\n",
       "        vertical-align: middle;\n",
       "    }\n",
       "\n",
       "    .dataframe tbody tr th {\n",
       "        vertical-align: top;\n",
       "    }\n",
       "\n",
       "    .dataframe thead th {\n",
       "        text-align: right;\n",
       "    }\n",
       "</style>\n",
       "<table border=\"1\" class=\"dataframe\">\n",
       "  <thead>\n",
       "    <tr style=\"text-align: right;\">\n",
       "      <th></th>\n",
       "      <th>ord_in_thread</th>\n",
       "      <th>author</th>\n",
       "      <th>published</th>\n",
       "      <th>title</th>\n",
       "      <th>text</th>\n",
       "      <th>language</th>\n",
       "      <th>crawled</th>\n",
       "      <th>site_url</th>\n",
       "      <th>country</th>\n",
       "      <th>domain_rank</th>\n",
       "      <th>...</th>\n",
       "      <th>spam_score</th>\n",
       "      <th>main_img_url</th>\n",
       "      <th>replies_count</th>\n",
       "      <th>participants_count</th>\n",
       "      <th>likes</th>\n",
       "      <th>comments</th>\n",
       "      <th>shares</th>\n",
       "      <th>type</th>\n",
       "      <th>published_month</th>\n",
       "      <th>published_date</th>\n",
       "    </tr>\n",
       "  </thead>\n",
       "  <tbody>\n",
       "    <tr>\n",
       "      <th>0</th>\n",
       "      <td>0</td>\n",
       "      <td>Barracuda Brigade</td>\n",
       "      <td>2016-10-26 21:41:00+03:00</td>\n",
       "      <td>Muslims BUSTED: They Stole Millions In Gov’t B...</td>\n",
       "      <td>Print They should pay all the back all the mon...</td>\n",
       "      <td>english</td>\n",
       "      <td>2016-10-27T01:49:27.168+03:00</td>\n",
       "      <td>100percentfedup.com</td>\n",
       "      <td>US</td>\n",
       "      <td>25689.0</td>\n",
       "      <td>...</td>\n",
       "      <td>0.000</td>\n",
       "      <td>http://bb4sp.com/wp-content/uploads/2016/10/Fu...</td>\n",
       "      <td>0</td>\n",
       "      <td>1</td>\n",
       "      <td>0</td>\n",
       "      <td>0</td>\n",
       "      <td>0</td>\n",
       "      <td>bias</td>\n",
       "      <td>10</td>\n",
       "      <td>26</td>\n",
       "    </tr>\n",
       "    <tr>\n",
       "      <th>1</th>\n",
       "      <td>0</td>\n",
       "      <td>reasoning with facts</td>\n",
       "      <td>2016-10-29 08:47:11.259000+03:00</td>\n",
       "      <td>Re: Why Did Attorney General Loretta Lynch Ple...</td>\n",
       "      <td>Why Did Attorney General Loretta Lynch Plead T...</td>\n",
       "      <td>english</td>\n",
       "      <td>2016-10-29T08:47:11.259+03:00</td>\n",
       "      <td>100percentfedup.com</td>\n",
       "      <td>US</td>\n",
       "      <td>25689.0</td>\n",
       "      <td>...</td>\n",
       "      <td>0.000</td>\n",
       "      <td>http://bb4sp.com/wp-content/uploads/2016/10/Fu...</td>\n",
       "      <td>0</td>\n",
       "      <td>1</td>\n",
       "      <td>0</td>\n",
       "      <td>0</td>\n",
       "      <td>0</td>\n",
       "      <td>bias</td>\n",
       "      <td>10</td>\n",
       "      <td>29</td>\n",
       "    </tr>\n",
       "    <tr>\n",
       "      <th>2</th>\n",
       "      <td>0</td>\n",
       "      <td>Barracuda Brigade</td>\n",
       "      <td>2016-10-31 01:41:49.479000+02:00</td>\n",
       "      <td>BREAKING: Weiner Cooperating With FBI On Hilla...</td>\n",
       "      <td>Red State : \\nFox News Sunday reported this mo...</td>\n",
       "      <td>english</td>\n",
       "      <td>2016-10-31T01:41:49.479+02:00</td>\n",
       "      <td>100percentfedup.com</td>\n",
       "      <td>US</td>\n",
       "      <td>25689.0</td>\n",
       "      <td>...</td>\n",
       "      <td>0.000</td>\n",
       "      <td>http://bb4sp.com/wp-content/uploads/2016/10/Fu...</td>\n",
       "      <td>0</td>\n",
       "      <td>1</td>\n",
       "      <td>0</td>\n",
       "      <td>0</td>\n",
       "      <td>0</td>\n",
       "      <td>bias</td>\n",
       "      <td>10</td>\n",
       "      <td>31</td>\n",
       "    </tr>\n",
       "    <tr>\n",
       "      <th>3</th>\n",
       "      <td>0</td>\n",
       "      <td>Fed Up</td>\n",
       "      <td>2016-11-01 05:22:00+02:00</td>\n",
       "      <td>PIN DROP SPEECH BY FATHER OF DAUGHTER Kidnappe...</td>\n",
       "      <td>Email Kayla Mueller was a prisoner and torture...</td>\n",
       "      <td>english</td>\n",
       "      <td>2016-11-01T15:46:26.304+02:00</td>\n",
       "      <td>100percentfedup.com</td>\n",
       "      <td>US</td>\n",
       "      <td>25689.0</td>\n",
       "      <td>...</td>\n",
       "      <td>0.068</td>\n",
       "      <td>http://100percentfedup.com/wp-content/uploads/...</td>\n",
       "      <td>0</td>\n",
       "      <td>0</td>\n",
       "      <td>0</td>\n",
       "      <td>0</td>\n",
       "      <td>0</td>\n",
       "      <td>bias</td>\n",
       "      <td>11</td>\n",
       "      <td>1</td>\n",
       "    </tr>\n",
       "    <tr>\n",
       "      <th>4</th>\n",
       "      <td>0</td>\n",
       "      <td>Fed Up</td>\n",
       "      <td>2016-11-01 21:56:00+02:00</td>\n",
       "      <td>FANTASTIC! TRUMP'S 7 POINT PLAN To Reform Heal...</td>\n",
       "      <td>Email HEALTHCARE REFORM TO MAKE AMERICA GREAT ...</td>\n",
       "      <td>english</td>\n",
       "      <td>2016-11-01T23:59:42.266+02:00</td>\n",
       "      <td>100percentfedup.com</td>\n",
       "      <td>US</td>\n",
       "      <td>25689.0</td>\n",
       "      <td>...</td>\n",
       "      <td>0.865</td>\n",
       "      <td>http://100percentfedup.com/wp-content/uploads/...</td>\n",
       "      <td>0</td>\n",
       "      <td>0</td>\n",
       "      <td>0</td>\n",
       "      <td>0</td>\n",
       "      <td>0</td>\n",
       "      <td>bias</td>\n",
       "      <td>11</td>\n",
       "      <td>1</td>\n",
       "    </tr>\n",
       "  </tbody>\n",
       "</table>\n",
       "<p>5 rows × 21 columns</p>\n",
       "</div>"
      ],
      "text/plain": [
       "   ord_in_thread                author                         published  \\\n",
       "0              0     Barracuda Brigade         2016-10-26 21:41:00+03:00   \n",
       "1              0  reasoning with facts  2016-10-29 08:47:11.259000+03:00   \n",
       "2              0     Barracuda Brigade  2016-10-31 01:41:49.479000+02:00   \n",
       "3              0                Fed Up         2016-11-01 05:22:00+02:00   \n",
       "4              0                Fed Up         2016-11-01 21:56:00+02:00   \n",
       "\n",
       "                                               title  \\\n",
       "0  Muslims BUSTED: They Stole Millions In Gov’t B...   \n",
       "1  Re: Why Did Attorney General Loretta Lynch Ple...   \n",
       "2  BREAKING: Weiner Cooperating With FBI On Hilla...   \n",
       "3  PIN DROP SPEECH BY FATHER OF DAUGHTER Kidnappe...   \n",
       "4  FANTASTIC! TRUMP'S 7 POINT PLAN To Reform Heal...   \n",
       "\n",
       "                                                text language  \\\n",
       "0  Print They should pay all the back all the mon...  english   \n",
       "1  Why Did Attorney General Loretta Lynch Plead T...  english   \n",
       "2  Red State : \\nFox News Sunday reported this mo...  english   \n",
       "3  Email Kayla Mueller was a prisoner and torture...  english   \n",
       "4  Email HEALTHCARE REFORM TO MAKE AMERICA GREAT ...  english   \n",
       "\n",
       "                         crawled             site_url country  domain_rank  \\\n",
       "0  2016-10-27T01:49:27.168+03:00  100percentfedup.com      US      25689.0   \n",
       "1  2016-10-29T08:47:11.259+03:00  100percentfedup.com      US      25689.0   \n",
       "2  2016-10-31T01:41:49.479+02:00  100percentfedup.com      US      25689.0   \n",
       "3  2016-11-01T15:46:26.304+02:00  100percentfedup.com      US      25689.0   \n",
       "4  2016-11-01T23:59:42.266+02:00  100percentfedup.com      US      25689.0   \n",
       "\n",
       "   ... spam_score                                       main_img_url  \\\n",
       "0  ...      0.000  http://bb4sp.com/wp-content/uploads/2016/10/Fu...   \n",
       "1  ...      0.000  http://bb4sp.com/wp-content/uploads/2016/10/Fu...   \n",
       "2  ...      0.000  http://bb4sp.com/wp-content/uploads/2016/10/Fu...   \n",
       "3  ...      0.068  http://100percentfedup.com/wp-content/uploads/...   \n",
       "4  ...      0.865  http://100percentfedup.com/wp-content/uploads/...   \n",
       "\n",
       "  replies_count  participants_count  likes  comments  shares  type  \\\n",
       "0             0                   1      0         0       0  bias   \n",
       "1             0                   1      0         0       0  bias   \n",
       "2             0                   1      0         0       0  bias   \n",
       "3             0                   0      0         0       0  bias   \n",
       "4             0                   0      0         0       0  bias   \n",
       "\n",
       "  published_month  published_date  \n",
       "0              10              26  \n",
       "1              10              29  \n",
       "2              10              31  \n",
       "3              11               1  \n",
       "4              11               1  \n",
       "\n",
       "[5 rows x 21 columns]"
      ]
     },
     "execution_count": 27,
     "metadata": {},
     "output_type": "execute_result"
    }
   ],
   "source": [
    "df1.head(5)"
   ]
  },
  {
   "cell_type": "code",
   "execution_count": null,
   "metadata": {},
   "outputs": [],
   "source": []
  },
  {
   "cell_type": "code",
   "execution_count": 28,
   "metadata": {},
   "outputs": [
    {
     "data": {
      "text/html": [
       "<div>\n",
       "<style scoped>\n",
       "    .dataframe tbody tr th:only-of-type {\n",
       "        vertical-align: middle;\n",
       "    }\n",
       "\n",
       "    .dataframe tbody tr th {\n",
       "        vertical-align: top;\n",
       "    }\n",
       "\n",
       "    .dataframe thead th {\n",
       "        text-align: right;\n",
       "    }\n",
       "</style>\n",
       "<table border=\"1\" class=\"dataframe\">\n",
       "  <thead>\n",
       "    <tr style=\"text-align: right;\">\n",
       "      <th></th>\n",
       "      <th>ord_in_thread</th>\n",
       "      <th>author</th>\n",
       "      <th>published</th>\n",
       "      <th>title</th>\n",
       "      <th>text</th>\n",
       "      <th>language</th>\n",
       "      <th>crawled</th>\n",
       "      <th>site_url</th>\n",
       "      <th>country</th>\n",
       "      <th>domain_rank</th>\n",
       "      <th>...</th>\n",
       "      <th>spam_score</th>\n",
       "      <th>main_img_url</th>\n",
       "      <th>replies_count</th>\n",
       "      <th>participants_count</th>\n",
       "      <th>likes</th>\n",
       "      <th>comments</th>\n",
       "      <th>shares</th>\n",
       "      <th>type</th>\n",
       "      <th>published_month</th>\n",
       "      <th>published_date</th>\n",
       "    </tr>\n",
       "  </thead>\n",
       "  <tbody>\n",
       "    <tr>\n",
       "      <th>0</th>\n",
       "      <td>0</td>\n",
       "      <td>Barracuda Brigade</td>\n",
       "      <td>2016-10-26 21:41:00+03:00</td>\n",
       "      <td>Muslims BUSTED: They Stole Millions In Gov’t B...</td>\n",
       "      <td>Print They should pay all the back all the mon...</td>\n",
       "      <td>english</td>\n",
       "      <td>2016-10-27T01:49:27.168+03:00</td>\n",
       "      <td>100percentfedup.com</td>\n",
       "      <td>US</td>\n",
       "      <td>25689.0</td>\n",
       "      <td>...</td>\n",
       "      <td>0.000</td>\n",
       "      <td>http://bb4sp.com/wp-content/uploads/2016/10/Fu...</td>\n",
       "      <td>0</td>\n",
       "      <td>1</td>\n",
       "      <td>0</td>\n",
       "      <td>0</td>\n",
       "      <td>0</td>\n",
       "      <td>bias</td>\n",
       "      <td>10</td>\n",
       "      <td>26</td>\n",
       "    </tr>\n",
       "    <tr>\n",
       "      <th>1</th>\n",
       "      <td>0</td>\n",
       "      <td>reasoning with facts</td>\n",
       "      <td>2016-10-29 08:47:11.259000+03:00</td>\n",
       "      <td>Re: Why Did Attorney General Loretta Lynch Ple...</td>\n",
       "      <td>Why Did Attorney General Loretta Lynch Plead T...</td>\n",
       "      <td>english</td>\n",
       "      <td>2016-10-29T08:47:11.259+03:00</td>\n",
       "      <td>100percentfedup.com</td>\n",
       "      <td>US</td>\n",
       "      <td>25689.0</td>\n",
       "      <td>...</td>\n",
       "      <td>0.000</td>\n",
       "      <td>http://bb4sp.com/wp-content/uploads/2016/10/Fu...</td>\n",
       "      <td>0</td>\n",
       "      <td>1</td>\n",
       "      <td>0</td>\n",
       "      <td>0</td>\n",
       "      <td>0</td>\n",
       "      <td>bias</td>\n",
       "      <td>10</td>\n",
       "      <td>29</td>\n",
       "    </tr>\n",
       "    <tr>\n",
       "      <th>2</th>\n",
       "      <td>0</td>\n",
       "      <td>Barracuda Brigade</td>\n",
       "      <td>2016-10-31 01:41:49.479000+02:00</td>\n",
       "      <td>BREAKING: Weiner Cooperating With FBI On Hilla...</td>\n",
       "      <td>Red State : \\nFox News Sunday reported this mo...</td>\n",
       "      <td>english</td>\n",
       "      <td>2016-10-31T01:41:49.479+02:00</td>\n",
       "      <td>100percentfedup.com</td>\n",
       "      <td>US</td>\n",
       "      <td>25689.0</td>\n",
       "      <td>...</td>\n",
       "      <td>0.000</td>\n",
       "      <td>http://bb4sp.com/wp-content/uploads/2016/10/Fu...</td>\n",
       "      <td>0</td>\n",
       "      <td>1</td>\n",
       "      <td>0</td>\n",
       "      <td>0</td>\n",
       "      <td>0</td>\n",
       "      <td>bias</td>\n",
       "      <td>10</td>\n",
       "      <td>31</td>\n",
       "    </tr>\n",
       "    <tr>\n",
       "      <th>3</th>\n",
       "      <td>0</td>\n",
       "      <td>Fed Up</td>\n",
       "      <td>2016-11-01 05:22:00+02:00</td>\n",
       "      <td>PIN DROP SPEECH BY FATHER OF DAUGHTER Kidnappe...</td>\n",
       "      <td>Email Kayla Mueller was a prisoner and torture...</td>\n",
       "      <td>english</td>\n",
       "      <td>2016-11-01T15:46:26.304+02:00</td>\n",
       "      <td>100percentfedup.com</td>\n",
       "      <td>US</td>\n",
       "      <td>25689.0</td>\n",
       "      <td>...</td>\n",
       "      <td>0.068</td>\n",
       "      <td>http://100percentfedup.com/wp-content/uploads/...</td>\n",
       "      <td>0</td>\n",
       "      <td>0</td>\n",
       "      <td>0</td>\n",
       "      <td>0</td>\n",
       "      <td>0</td>\n",
       "      <td>bias</td>\n",
       "      <td>11</td>\n",
       "      <td>1</td>\n",
       "    </tr>\n",
       "    <tr>\n",
       "      <th>4</th>\n",
       "      <td>0</td>\n",
       "      <td>Fed Up</td>\n",
       "      <td>2016-11-01 21:56:00+02:00</td>\n",
       "      <td>FANTASTIC! TRUMP'S 7 POINT PLAN To Reform Heal...</td>\n",
       "      <td>Email HEALTHCARE REFORM TO MAKE AMERICA GREAT ...</td>\n",
       "      <td>english</td>\n",
       "      <td>2016-11-01T23:59:42.266+02:00</td>\n",
       "      <td>100percentfedup.com</td>\n",
       "      <td>US</td>\n",
       "      <td>25689.0</td>\n",
       "      <td>...</td>\n",
       "      <td>0.865</td>\n",
       "      <td>http://100percentfedup.com/wp-content/uploads/...</td>\n",
       "      <td>0</td>\n",
       "      <td>0</td>\n",
       "      <td>0</td>\n",
       "      <td>0</td>\n",
       "      <td>0</td>\n",
       "      <td>bias</td>\n",
       "      <td>11</td>\n",
       "      <td>1</td>\n",
       "    </tr>\n",
       "  </tbody>\n",
       "</table>\n",
       "<p>5 rows × 21 columns</p>\n",
       "</div>"
      ],
      "text/plain": [
       "   ord_in_thread                author                         published  \\\n",
       "0              0     Barracuda Brigade         2016-10-26 21:41:00+03:00   \n",
       "1              0  reasoning with facts  2016-10-29 08:47:11.259000+03:00   \n",
       "2              0     Barracuda Brigade  2016-10-31 01:41:49.479000+02:00   \n",
       "3              0                Fed Up         2016-11-01 05:22:00+02:00   \n",
       "4              0                Fed Up         2016-11-01 21:56:00+02:00   \n",
       "\n",
       "                                               title  \\\n",
       "0  Muslims BUSTED: They Stole Millions In Gov’t B...   \n",
       "1  Re: Why Did Attorney General Loretta Lynch Ple...   \n",
       "2  BREAKING: Weiner Cooperating With FBI On Hilla...   \n",
       "3  PIN DROP SPEECH BY FATHER OF DAUGHTER Kidnappe...   \n",
       "4  FANTASTIC! TRUMP'S 7 POINT PLAN To Reform Heal...   \n",
       "\n",
       "                                                text language  \\\n",
       "0  Print They should pay all the back all the mon...  english   \n",
       "1  Why Did Attorney General Loretta Lynch Plead T...  english   \n",
       "2  Red State : \\nFox News Sunday reported this mo...  english   \n",
       "3  Email Kayla Mueller was a prisoner and torture...  english   \n",
       "4  Email HEALTHCARE REFORM TO MAKE AMERICA GREAT ...  english   \n",
       "\n",
       "                         crawled             site_url country  domain_rank  \\\n",
       "0  2016-10-27T01:49:27.168+03:00  100percentfedup.com      US      25689.0   \n",
       "1  2016-10-29T08:47:11.259+03:00  100percentfedup.com      US      25689.0   \n",
       "2  2016-10-31T01:41:49.479+02:00  100percentfedup.com      US      25689.0   \n",
       "3  2016-11-01T15:46:26.304+02:00  100percentfedup.com      US      25689.0   \n",
       "4  2016-11-01T23:59:42.266+02:00  100percentfedup.com      US      25689.0   \n",
       "\n",
       "   ... spam_score                                       main_img_url  \\\n",
       "0  ...      0.000  http://bb4sp.com/wp-content/uploads/2016/10/Fu...   \n",
       "1  ...      0.000  http://bb4sp.com/wp-content/uploads/2016/10/Fu...   \n",
       "2  ...      0.000  http://bb4sp.com/wp-content/uploads/2016/10/Fu...   \n",
       "3  ...      0.068  http://100percentfedup.com/wp-content/uploads/...   \n",
       "4  ...      0.865  http://100percentfedup.com/wp-content/uploads/...   \n",
       "\n",
       "  replies_count  participants_count  likes  comments  shares  type  \\\n",
       "0             0                   1      0         0       0  bias   \n",
       "1             0                   1      0         0       0  bias   \n",
       "2             0                   1      0         0       0  bias   \n",
       "3             0                   0      0         0       0  bias   \n",
       "4             0                   0      0         0       0  bias   \n",
       "\n",
       "  published_month  published_date  \n",
       "0              10              26  \n",
       "1              10              29  \n",
       "2              10              31  \n",
       "3              11               1  \n",
       "4              11               1  \n",
       "\n",
       "[5 rows x 21 columns]"
      ]
     },
     "execution_count": 28,
     "metadata": {},
     "output_type": "execute_result"
    }
   ],
   "source": [
    "df1.head(5)"
   ]
  },
  {
   "cell_type": "code",
   "execution_count": 29,
   "metadata": {},
   "outputs": [],
   "source": [
    "df1['published_year']= df1['published'].apply(lambda x: x.year)"
   ]
  },
  {
   "cell_type": "code",
   "execution_count": 30,
   "metadata": {},
   "outputs": [],
   "source": [
    "df1['published_hour']= df1['published'].apply(lambda x: x.hour)"
   ]
  },
  {
   "cell_type": "code",
   "execution_count": 31,
   "metadata": {},
   "outputs": [
    {
     "data": {
      "text/plain": [
       "Get Ready For Civil Unrest: Survey Finds That Most Americans Are Concerned About Election Violence                        6\n",
       "“If Trump Loses, I’m Grabbing My Musket”: Former Congressman Ready to Go Full Revolution                                  5\n",
       "Will Barack Obama Delay Or Suspend The Election If Hillary Is Forced Out By The New FBI Email Investigation?              5\n",
       "Let’s Be Clear – A Vote For Warmonger Hillary Clinton Is A Vote For World War 3                                           5\n",
       "If Hillary Clinton Is Charged With Obstruction Of Justice She Could Go To Prison For 20 Years                             5\n",
       "                                                                                                                         ..\n",
       "BREAKING: FBI Deputy Director Exposed As Crooked Hillary’s Accomplice In This Shocking New Crime, She’s Totally Busted    1\n",
       "After 2016: What Is The Future Of Libertarianism?                                                                         1\n",
       "Cartoon Reveals Just How Far The Clintons’ Reach Really Goes                                                              1\n",
       "Hoping for the best and preparing for the worst: A look inside the American Redoubt movement                              1\n",
       "Texas Officer Shot Dead Outside Police HQ                                                                                 1\n",
       "Name: title, Length: 9404, dtype: int64"
      ]
     },
     "execution_count": 31,
     "metadata": {},
     "output_type": "execute_result"
    }
   ],
   "source": [
    "df1['title'].value_counts()"
   ]
  },
  {
   "cell_type": "code",
   "execution_count": 32,
   "metadata": {},
   "outputs": [
    {
     "data": {
      "text/plain": [
       "9404"
      ]
     },
     "execution_count": 32,
     "metadata": {},
     "output_type": "execute_result"
    }
   ],
   "source": [
    "len(df1['title'].value_counts())"
   ]
  },
  {
   "cell_type": "code",
   "execution_count": 33,
   "metadata": {},
   "outputs": [],
   "source": [
    "df1 = df1.dropna(subset=['title','text'])"
   ]
  },
  {
   "cell_type": "code",
   "execution_count": 34,
   "metadata": {},
   "outputs": [
    {
     "data": {
      "text/plain": [
       "english       9514\n",
       "spanish        146\n",
       "german         108\n",
       "russian         58\n",
       "french          27\n",
       "turkish          9\n",
       "ignore           7\n",
       "italian          7\n",
       "portuguese       5\n",
       "arabic           5\n",
       "norwegian        3\n",
       "greek            2\n",
       "finnish          1\n",
       "dutch            1\n",
       "polish           1\n",
       "chinese          1\n",
       "Name: language, dtype: int64"
      ]
     },
     "execution_count": 34,
     "metadata": {},
     "output_type": "execute_result"
    }
   ],
   "source": [
    "df1['language'].value_counts()"
   ]
  },
  {
   "cell_type": "code",
   "execution_count": 35,
   "metadata": {},
   "outputs": [
    {
     "data": {
      "image/png": "[encoded data removed]",
      "text/plain": [
       "<Figure size 360x288 with 1 Axes>"
      ]
     },
     "metadata": {
      "needs_background": "light"
     },
     "output_type": "display_data"
    }
   ],
   "source": [
    "df1['language'].hist(grid=False,figsize=(5,4),rwidth=0.9,color='r',xrot=90)\n",
    "plt.tight_layout()"
   ]
  },
  {
   "cell_type": "code",
   "execution_count": 36,
   "metadata": {},
   "outputs": [],
   "source": [
    "df1['crawled']= pd.to_datetime(df1['crawled'])"
   ]
  },
  {
   "cell_type": "code",
   "execution_count": 37,
   "metadata": {},
   "outputs": [],
   "source": [
    "df1['crawled_month']= df1['crawled'].apply(lambda x: x.month)"
   ]
  },
  {
   "cell_type": "code",
   "execution_count": 38,
   "metadata": {},
   "outputs": [],
   "source": [
    "df1['crawled_year']= df1['crawled'].apply(lambda x: x.year)"
   ]
  },
  {
   "cell_type": "code",
   "execution_count": 39,
   "metadata": {},
   "outputs": [],
   "source": [
    "df1['crawled_hour']= df1['crawled'].apply(lambda x: x.hour)"
   ]
  },
  {
   "cell_type": "code",
   "execution_count": 40,
   "metadata": {},
   "outputs": [],
   "source": [
    "df1['crawled_date']=df1['crawled'].apply(lambda x: x.day)"
   ]
  },
  {
   "cell_type": "code",
   "execution_count": 41,
   "metadata": {},
   "outputs": [
    {
     "data": {
      "text/html": [
       "<div>\n",
       "<style scoped>\n",
       "    .dataframe tbody tr th:only-of-type {\n",
       "        vertical-align: middle;\n",
       "    }\n",
       "\n",
       "    .dataframe tbody tr th {\n",
       "        vertical-align: top;\n",
       "    }\n",
       "\n",
       "    .dataframe thead th {\n",
       "        text-align: right;\n",
       "    }\n",
       "</style>\n",
       "<table border=\"1\" class=\"dataframe\">\n",
       "  <thead>\n",
       "    <tr style=\"text-align: right;\">\n",
       "      <th></th>\n",
       "      <th>ord_in_thread</th>\n",
       "      <th>author</th>\n",
       "      <th>published</th>\n",
       "      <th>title</th>\n",
       "      <th>text</th>\n",
       "      <th>language</th>\n",
       "      <th>crawled</th>\n",
       "      <th>site_url</th>\n",
       "      <th>country</th>\n",
       "      <th>domain_rank</th>\n",
       "      <th>...</th>\n",
       "      <th>shares</th>\n",
       "      <th>type</th>\n",
       "      <th>published_month</th>\n",
       "      <th>published_date</th>\n",
       "      <th>published_year</th>\n",
       "      <th>published_hour</th>\n",
       "      <th>crawled_month</th>\n",
       "      <th>crawled_year</th>\n",
       "      <th>crawled_hour</th>\n",
       "      <th>crawled_date</th>\n",
       "    </tr>\n",
       "  </thead>\n",
       "  <tbody>\n",
       "    <tr>\n",
       "      <th>0</th>\n",
       "      <td>0</td>\n",
       "      <td>Barracuda Brigade</td>\n",
       "      <td>2016-10-26 21:41:00+03:00</td>\n",
       "      <td>Muslims BUSTED: They Stole Millions In Gov’t B...</td>\n",
       "      <td>Print They should pay all the back all the mon...</td>\n",
       "      <td>english</td>\n",
       "      <td>2016-10-27 01:49:27.168000+03:00</td>\n",
       "      <td>100percentfedup.com</td>\n",
       "      <td>US</td>\n",
       "      <td>25689.0</td>\n",
       "      <td>...</td>\n",
       "      <td>0</td>\n",
       "      <td>bias</td>\n",
       "      <td>10</td>\n",
       "      <td>26</td>\n",
       "      <td>2016</td>\n",
       "      <td>21</td>\n",
       "      <td>10</td>\n",
       "      <td>2016</td>\n",
       "      <td>1</td>\n",
       "      <td>27</td>\n",
       "    </tr>\n",
       "  </tbody>\n",
       "</table>\n",
       "<p>1 rows × 27 columns</p>\n",
       "</div>"
      ],
      "text/plain": [
       "   ord_in_thread             author                  published  \\\n",
       "0              0  Barracuda Brigade  2016-10-26 21:41:00+03:00   \n",
       "\n",
       "                                               title  \\\n",
       "0  Muslims BUSTED: They Stole Millions In Gov’t B...   \n",
       "\n",
       "                                                text language  \\\n",
       "0  Print They should pay all the back all the mon...  english   \n",
       "\n",
       "                            crawled             site_url country  domain_rank  \\\n",
       "0  2016-10-27 01:49:27.168000+03:00  100percentfedup.com      US      25689.0   \n",
       "\n",
       "   ... shares  type published_month  published_date  published_year  \\\n",
       "0  ...      0  bias              10              26            2016   \n",
       "\n",
       "   published_hour  crawled_month  crawled_year crawled_hour  crawled_date  \n",
       "0              21             10          2016            1            27  \n",
       "\n",
       "[1 rows x 27 columns]"
      ]
     },
     "execution_count": 41,
     "metadata": {},
     "output_type": "execute_result"
    }
   ],
   "source": [
    "df1.head(1)"
   ]
  },
  {
   "cell_type": "code",
   "execution_count": 42,
   "metadata": {},
   "outputs": [
    {
     "data": {
      "text/plain": [
       "count    9895.000000\n",
       "mean       10.520061\n",
       "std         0.499623\n",
       "min        10.000000\n",
       "25%        10.000000\n",
       "50%        11.000000\n",
       "75%        11.000000\n",
       "max        11.000000\n",
       "Name: published_month, dtype: float64"
      ]
     },
     "execution_count": 42,
     "metadata": {},
     "output_type": "execute_result"
    }
   ],
   "source": [
    "df1['published_month'].describe()"
   ]
  },
  {
   "cell_type": "code",
   "execution_count": 43,
   "metadata": {},
   "outputs": [
    {
     "data": {
      "text/plain": [
       "0        100percentfedup.com\n",
       "1        100percentfedup.com\n",
       "2        100percentfedup.com\n",
       "3        100percentfedup.com\n",
       "4        100percentfedup.com\n",
       "                ...         \n",
       "12907          zerohedge.com\n",
       "12909          zerohedge.com\n",
       "12910          zerohedge.com\n",
       "12911          zerohedge.com\n",
       "12912          zerohedge.com\n",
       "Name: site_url, Length: 9895, dtype: object"
      ]
     },
     "execution_count": 43,
     "metadata": {},
     "output_type": "execute_result"
    }
   ],
   "source": [
    "df1['site_url']"
   ]
  },
  {
   "cell_type": "code",
   "execution_count": 44,
   "metadata": {},
   "outputs": [
    {
     "data": {
      "text/plain": [
       "elmundotoday.com                  100\n",
       "newsbiscuit.com                   100\n",
       "davidstockmanscontracorner.com    100\n",
       "politicususa.com                  100\n",
       "amtvmedia.com                     100\n",
       "                                 ... \n",
       "blacklistednews.com                 1\n",
       "winningdemocrats.com                1\n",
       "educateinspirechange.org            1\n",
       "therundownlive.com                  1\n",
       "proudemocrat.com                    1\n",
       "Name: site_url, Length: 183, dtype: int64"
      ]
     },
     "execution_count": 44,
     "metadata": {},
     "output_type": "execute_result"
    }
   ],
   "source": [
    "df1['site_url'].value_counts()"
   ]
  },
  {
   "cell_type": "code",
   "execution_count": 45,
   "metadata": {},
   "outputs": [],
   "source": [
    "df1['site_name']= df1['site_url'].apply(lambda x: x.split('.')[0])"
   ]
  },
  {
   "cell_type": "code",
   "execution_count": 46,
   "metadata": {},
   "outputs": [
    {
     "data": {
      "text/html": [
       "<div>\n",
       "<style scoped>\n",
       "    .dataframe tbody tr th:only-of-type {\n",
       "        vertical-align: middle;\n",
       "    }\n",
       "\n",
       "    .dataframe tbody tr th {\n",
       "        vertical-align: top;\n",
       "    }\n",
       "\n",
       "    .dataframe thead th {\n",
       "        text-align: right;\n",
       "    }\n",
       "</style>\n",
       "<table border=\"1\" class=\"dataframe\">\n",
       "  <thead>\n",
       "    <tr style=\"text-align: right;\">\n",
       "      <th></th>\n",
       "      <th>ord_in_thread</th>\n",
       "      <th>author</th>\n",
       "      <th>published</th>\n",
       "      <th>title</th>\n",
       "      <th>text</th>\n",
       "      <th>language</th>\n",
       "      <th>crawled</th>\n",
       "      <th>site_url</th>\n",
       "      <th>country</th>\n",
       "      <th>domain_rank</th>\n",
       "      <th>...</th>\n",
       "      <th>type</th>\n",
       "      <th>published_month</th>\n",
       "      <th>published_date</th>\n",
       "      <th>published_year</th>\n",
       "      <th>published_hour</th>\n",
       "      <th>crawled_month</th>\n",
       "      <th>crawled_year</th>\n",
       "      <th>crawled_hour</th>\n",
       "      <th>crawled_date</th>\n",
       "      <th>site_name</th>\n",
       "    </tr>\n",
       "  </thead>\n",
       "  <tbody>\n",
       "    <tr>\n",
       "      <th>0</th>\n",
       "      <td>0</td>\n",
       "      <td>Barracuda Brigade</td>\n",
       "      <td>2016-10-26 21:41:00+03:00</td>\n",
       "      <td>Muslims BUSTED: They Stole Millions In Gov’t B...</td>\n",
       "      <td>Print They should pay all the back all the mon...</td>\n",
       "      <td>english</td>\n",
       "      <td>2016-10-27 01:49:27.168000+03:00</td>\n",
       "      <td>100percentfedup.com</td>\n",
       "      <td>US</td>\n",
       "      <td>25689.0</td>\n",
       "      <td>...</td>\n",
       "      <td>bias</td>\n",
       "      <td>10</td>\n",
       "      <td>26</td>\n",
       "      <td>2016</td>\n",
       "      <td>21</td>\n",
       "      <td>10</td>\n",
       "      <td>2016</td>\n",
       "      <td>1</td>\n",
       "      <td>27</td>\n",
       "      <td>100percentfedup</td>\n",
       "    </tr>\n",
       "  </tbody>\n",
       "</table>\n",
       "<p>1 rows × 28 columns</p>\n",
       "</div>"
      ],
      "text/plain": [
       "   ord_in_thread             author                  published  \\\n",
       "0              0  Barracuda Brigade  2016-10-26 21:41:00+03:00   \n",
       "\n",
       "                                               title  \\\n",
       "0  Muslims BUSTED: They Stole Millions In Gov’t B...   \n",
       "\n",
       "                                                text language  \\\n",
       "0  Print They should pay all the back all the mon...  english   \n",
       "\n",
       "                            crawled             site_url country  domain_rank  \\\n",
       "0  2016-10-27 01:49:27.168000+03:00  100percentfedup.com      US      25689.0   \n",
       "\n",
       "   ...  type  published_month published_date  published_year  published_hour  \\\n",
       "0  ...  bias               10             26            2016              21   \n",
       "\n",
       "   crawled_month  crawled_year  crawled_hour crawled_date        site_name  \n",
       "0             10          2016             1           27  100percentfedup  \n",
       "\n",
       "[1 rows x 28 columns]"
      ]
     },
     "execution_count": 46,
     "metadata": {},
     "output_type": "execute_result"
    }
   ],
   "source": [
    "df1.head(1)"
   ]
  },
  {
   "cell_type": "code",
   "execution_count": 47,
   "metadata": {},
   "outputs": [],
   "source": [
    "df1 = df1.drop('site_url',axis=1)"
   ]
  },
  {
   "cell_type": "code",
   "execution_count": 48,
   "metadata": {},
   "outputs": [],
   "source": [
    "df1 = df1.dropna(subset=['country'])"
   ]
  },
  {
   "cell_type": "code",
   "execution_count": 49,
   "metadata": {},
   "outputs": [
    {
     "data": {
      "text/plain": [
       "array(['US', 'CO', 'DE', 'EU', 'NL', 'GB', 'ME', 'ES', 'RU', 'CA', 'IN',\n",
       "       'TV', 'FR', 'SE', 'ZA', 'IS', 'BG'], dtype=object)"
      ]
     },
     "execution_count": 49,
     "metadata": {},
     "output_type": "execute_result"
    }
   ],
   "source": [
    "df1['country'].unique()"
   ]
  },
  {
   "cell_type": "code",
   "execution_count": 50,
   "metadata": {},
   "outputs": [
    {
     "data": {
      "text/plain": [
       "<matplotlib.axes._subplots.AxesSubplot at 0x1aadaac0788>"
      ]
     },
     "execution_count": 50,
     "metadata": {},
     "output_type": "execute_result"
    },
    {
     "data": {
      "image/png": "[encoded data removed]",
      "text/plain": [
       "<Figure size 432x288 with 1 Axes>"
      ]
     },
     "metadata": {
      "needs_background": "light"
     },
     "output_type": "display_data"
    }
   ],
   "source": [
    "df1['country'].hist(grid=False,rwidth=0.8,color='g',bins=17)"
   ]
  },
  {
   "cell_type": "code",
   "execution_count": 51,
   "metadata": {},
   "outputs": [
    {
     "data": {
      "text/plain": [
       "102"
      ]
     },
     "execution_count": 51,
     "metadata": {},
     "output_type": "execute_result"
    }
   ],
   "source": [
    "df1['domain_rank'].nunique()"
   ]
  },
  {
   "cell_type": "code",
   "execution_count": 52,
   "metadata": {},
   "outputs": [],
   "source": [
    "df1= df1.dropna(subset=['thread_title'])"
   ]
  },
  {
   "cell_type": "code",
   "execution_count": 53,
   "metadata": {},
   "outputs": [
    {
     "data": {
      "text/plain": [
       "array(['Muslims BUSTED: They Stole Millions In Gov’t Benefits',\n",
       "       'Re: Why Did Attorney General Loretta Lynch Plead The Fifth?',\n",
       "       'BREAKING: Weiner Cooperating With FBI On Hillary Email Investigation',\n",
       "       ..., 'Rules For Rulers (Or How The World Really Works)',\n",
       "       'Caught On Tape: ISIS Destroys Iraqi Abrams With Anti-Tank Missile',\n",
       "       'ObamaCare Architect Admits \"The Law Is Working As Designed\" As Premiums Spike'],\n",
       "      dtype=object)"
      ]
     },
     "execution_count": 53,
     "metadata": {},
     "output_type": "execute_result"
    }
   ],
   "source": [
    "df1['thread_title'].unique()"
   ]
  },
  {
   "cell_type": "code",
   "execution_count": 54,
   "metadata": {},
   "outputs": [
    {
     "data": {
      "text/plain": [
       "count    9809.000000\n",
       "mean        0.014846\n",
       "std         0.096256\n",
       "min         0.000000\n",
       "25%         0.000000\n",
       "50%         0.000000\n",
       "75%         0.000000\n",
       "max         1.000000\n",
       "Name: spam_score, dtype: float64"
      ]
     },
     "execution_count": 54,
     "metadata": {},
     "output_type": "execute_result"
    }
   ],
   "source": [
    "df1['spam_score'].describe()"
   ]
  },
  {
   "cell_type": "code",
   "execution_count": 55,
   "metadata": {},
   "outputs": [
    {
     "data": {
      "text/plain": [
       "<matplotlib.axes._subplots.AxesSubplot at 0x1aadabc51c8>"
      ]
     },
     "execution_count": 55,
     "metadata": {},
     "output_type": "execute_result"
    },
    {
     "data": {
      "image/png": "[encoded data removed]",
      "text/plain": [
       "<Figure size 432x288 with 1 Axes>"
      ]
     },
     "metadata": {
      "needs_background": "light"
     },
     "output_type": "display_data"
    }
   ],
   "source": [
    "df1['spam_score'].plot(color='g',kind='line',grid=True)"
   ]
  },
  {
   "cell_type": "code",
   "execution_count": 56,
   "metadata": {},
   "outputs": [
    {
     "data": {
      "text/plain": [
       "5483"
      ]
     },
     "execution_count": 56,
     "metadata": {},
     "output_type": "execute_result"
    }
   ],
   "source": [
    "df1['main_img_url'].nunique()"
   ]
  },
  {
   "cell_type": "code",
   "execution_count": 57,
   "metadata": {},
   "outputs": [],
   "source": [
    "df1 = df1.drop('main_img_url',axis=1)"
   ]
  },
  {
   "cell_type": "code",
   "execution_count": 58,
   "metadata": {},
   "outputs": [
    {
     "data": {
      "text/html": [
       "<div>\n",
       "<style scoped>\n",
       "    .dataframe tbody tr th:only-of-type {\n",
       "        vertical-align: middle;\n",
       "    }\n",
       "\n",
       "    .dataframe tbody tr th {\n",
       "        vertical-align: top;\n",
       "    }\n",
       "\n",
       "    .dataframe thead th {\n",
       "        text-align: right;\n",
       "    }\n",
       "</style>\n",
       "<table border=\"1\" class=\"dataframe\">\n",
       "  <thead>\n",
       "    <tr style=\"text-align: right;\">\n",
       "      <th></th>\n",
       "      <th>ord_in_thread</th>\n",
       "      <th>author</th>\n",
       "      <th>published</th>\n",
       "      <th>title</th>\n",
       "      <th>text</th>\n",
       "      <th>language</th>\n",
       "      <th>crawled</th>\n",
       "      <th>country</th>\n",
       "      <th>domain_rank</th>\n",
       "      <th>thread_title</th>\n",
       "      <th>...</th>\n",
       "      <th>type</th>\n",
       "      <th>published_month</th>\n",
       "      <th>published_date</th>\n",
       "      <th>published_year</th>\n",
       "      <th>published_hour</th>\n",
       "      <th>crawled_month</th>\n",
       "      <th>crawled_year</th>\n",
       "      <th>crawled_hour</th>\n",
       "      <th>crawled_date</th>\n",
       "      <th>site_name</th>\n",
       "    </tr>\n",
       "  </thead>\n",
       "  <tbody>\n",
       "    <tr>\n",
       "      <th>0</th>\n",
       "      <td>0</td>\n",
       "      <td>Barracuda Brigade</td>\n",
       "      <td>2016-10-26 21:41:00+03:00</td>\n",
       "      <td>Muslims BUSTED: They Stole Millions In Gov’t B...</td>\n",
       "      <td>Print They should pay all the back all the mon...</td>\n",
       "      <td>english</td>\n",
       "      <td>2016-10-27 01:49:27.168000+03:00</td>\n",
       "      <td>US</td>\n",
       "      <td>25689.0</td>\n",
       "      <td>Muslims BUSTED: They Stole Millions In Gov’t B...</td>\n",
       "      <td>...</td>\n",
       "      <td>bias</td>\n",
       "      <td>10</td>\n",
       "      <td>26</td>\n",
       "      <td>2016</td>\n",
       "      <td>21</td>\n",
       "      <td>10</td>\n",
       "      <td>2016</td>\n",
       "      <td>1</td>\n",
       "      <td>27</td>\n",
       "      <td>100percentfedup</td>\n",
       "    </tr>\n",
       "  </tbody>\n",
       "</table>\n",
       "<p>1 rows × 26 columns</p>\n",
       "</div>"
      ],
      "text/plain": [
       "   ord_in_thread             author                  published  \\\n",
       "0              0  Barracuda Brigade  2016-10-26 21:41:00+03:00   \n",
       "\n",
       "                                               title  \\\n",
       "0  Muslims BUSTED: They Stole Millions In Gov’t B...   \n",
       "\n",
       "                                                text language  \\\n",
       "0  Print They should pay all the back all the mon...  english   \n",
       "\n",
       "                            crawled country  domain_rank  \\\n",
       "0  2016-10-27 01:49:27.168000+03:00      US      25689.0   \n",
       "\n",
       "                                        thread_title  ...  type  \\\n",
       "0  Muslims BUSTED: They Stole Millions In Gov’t B...  ...  bias   \n",
       "\n",
       "   published_month  published_date  published_year  published_hour  \\\n",
       "0               10              26            2016              21   \n",
       "\n",
       "   crawled_month crawled_year  crawled_hour  crawled_date        site_name  \n",
       "0             10         2016             1            27  100percentfedup  \n",
       "\n",
       "[1 rows x 26 columns]"
      ]
     },
     "execution_count": 58,
     "metadata": {},
     "output_type": "execute_result"
    }
   ],
   "source": [
    "df1.head(1)"
   ]
  },
  {
   "cell_type": "code",
   "execution_count": 59,
   "metadata": {},
   "outputs": [
    {
     "data": {
      "text/plain": [
       "ord_in_thread            0\n",
       "author                   0\n",
       "published                0\n",
       "title                    0\n",
       "text                     0\n",
       "language                 0\n",
       "crawled                  0\n",
       "country                  0\n",
       "domain_rank           3557\n",
       "thread_title             0\n",
       "spam_score               0\n",
       "replies_count            0\n",
       "participants_count       0\n",
       "likes                    0\n",
       "comments                 0\n",
       "shares                   0\n",
       "type                     0\n",
       "published_month          0\n",
       "published_date           0\n",
       "published_year           0\n",
       "published_hour           0\n",
       "crawled_month            0\n",
       "crawled_year             0\n",
       "crawled_hour             0\n",
       "crawled_date             0\n",
       "site_name                0\n",
       "dtype: int64"
      ]
     },
     "execution_count": 59,
     "metadata": {},
     "output_type": "execute_result"
    }
   ],
   "source": [
    "df1.isnull().sum(axis=0)"
   ]
  },
  {
   "cell_type": "code",
   "execution_count": 60,
   "metadata": {},
   "outputs": [
    {
     "data": {
      "text/plain": [
       "0     9791\n",
       "1       10\n",
       "5        2\n",
       "4        2\n",
       "2        2\n",
       "6        1\n",
       "17       1\n",
       "Name: replies_count, dtype: int64"
      ]
     },
     "execution_count": 60,
     "metadata": {},
     "output_type": "execute_result"
    }
   ],
   "source": [
    "df1['replies_count'].value_counts()"
   ]
  },
  {
   "cell_type": "code",
   "execution_count": 61,
   "metadata": {},
   "outputs": [
    {
     "data": {
      "text/plain": [
       "count    9809.000000\n",
       "mean        0.005607\n",
       "std         0.208088\n",
       "min         0.000000\n",
       "25%         0.000000\n",
       "50%         0.000000\n",
       "75%         0.000000\n",
       "max        17.000000\n",
       "Name: replies_count, dtype: float64"
      ]
     },
     "execution_count": 61,
     "metadata": {},
     "output_type": "execute_result"
    }
   ],
   "source": [
    "df1['replies_count'].describe()"
   ]
  },
  {
   "cell_type": "code",
   "execution_count": 62,
   "metadata": {},
   "outputs": [
    {
     "data": {
      "text/plain": [
       "<matplotlib.axes._subplots.AxesSubplot at 0x1aadac26448>"
      ]
     },
     "execution_count": 62,
     "metadata": {},
     "output_type": "execute_result"
    },
    {
     "data": {
      "image/png": "[encoded data removed]",
      "text/plain": [
       "<Figure size 432x288 with 1 Axes>"
      ]
     },
     "metadata": {
      "needs_background": "light"
     },
     "output_type": "display_data"
    }
   ],
   "source": [
    "df1['replies_count'].plot(c='g')"
   ]
  },
  {
   "cell_type": "code",
   "execution_count": 63,
   "metadata": {},
   "outputs": [
    {
     "data": {
      "text/plain": [
       "1     9379\n",
       "0      415\n",
       "2        9\n",
       "5        3\n",
       "3        2\n",
       "15       1\n",
       "Name: participants_count, dtype: int64"
      ]
     },
     "execution_count": 63,
     "metadata": {},
     "output_type": "execute_result"
    }
   ],
   "source": [
    "df1['participants_count'].value_counts()"
   ]
  },
  {
   "cell_type": "code",
   "execution_count": 64,
   "metadata": {},
   "outputs": [
    {
     "data": {
      "text/plain": [
       "count    9809.000000\n",
       "mean        0.961668\n",
       "std         0.259719\n",
       "min         0.000000\n",
       "25%         1.000000\n",
       "50%         1.000000\n",
       "75%         1.000000\n",
       "max        15.000000\n",
       "Name: participants_count, dtype: float64"
      ]
     },
     "execution_count": 64,
     "metadata": {},
     "output_type": "execute_result"
    }
   ],
   "source": [
    "df1['participants_count'].describe()"
   ]
  },
  {
   "cell_type": "code",
   "execution_count": 65,
   "metadata": {},
   "outputs": [
    {
     "data": {
      "text/plain": [
       "<matplotlib.axes._subplots.AxesSubplot at 0x1aadacb6a88>"
      ]
     },
     "execution_count": 65,
     "metadata": {},
     "output_type": "execute_result"
    },
    {
     "data": {
      "image/png": "[encoded data removed]",
      "text/plain": [
       "<Figure size 432x288 with 1 Axes>"
      ]
     },
     "metadata": {
      "needs_background": "light"
     },
     "output_type": "display_data"
    }
   ],
   "source": [
    "df1['participants_count'].plot()"
   ]
  },
  {
   "cell_type": "code",
   "execution_count": 66,
   "metadata": {},
   "outputs": [
    {
     "data": {
      "text/plain": [
       "0      9479\n",
       "3         9\n",
       "1         8\n",
       "2         5\n",
       "12        5\n",
       "       ... \n",
       "23        1\n",
       "931       1\n",
       "959       1\n",
       "699       1\n",
       "891       1\n",
       "Name: likes, Length: 231, dtype: int64"
      ]
     },
     "execution_count": 66,
     "metadata": {},
     "output_type": "execute_result"
    }
   ],
   "source": [
    "df1['likes'].value_counts()"
   ]
  },
  {
   "cell_type": "code",
   "execution_count": 67,
   "metadata": {},
   "outputs": [
    {
     "data": {
      "text/plain": [
       "count    9809.000000\n",
       "mean        9.856254\n",
       "std        76.485812\n",
       "min         0.000000\n",
       "25%         0.000000\n",
       "50%         0.000000\n",
       "75%         0.000000\n",
       "max       988.000000\n",
       "Name: likes, dtype: float64"
      ]
     },
     "execution_count": 67,
     "metadata": {},
     "output_type": "execute_result"
    }
   ],
   "source": [
    "df1['likes'].describe()"
   ]
  },
  {
   "cell_type": "code",
   "execution_count": 68,
   "metadata": {},
   "outputs": [
    {
     "data": {
      "text/plain": [
       "<matplotlib.axes._subplots.AxesSubplot at 0x1aadac1f348>"
      ]
     },
     "execution_count": 68,
     "metadata": {},
     "output_type": "execute_result"
    },
    {
     "data": {
      "image/png": "[encoded data removed]",
      "text/plain": [
       "<Figure size 432x288 with 1 Axes>"
      ]
     },
     "metadata": {
      "needs_background": "light"
     },
     "output_type": "display_data"
    }
   ],
   "source": [
    "df1['likes'].plot(c='r')"
   ]
  },
  {
   "cell_type": "code",
   "execution_count": 69,
   "metadata": {},
   "outputs": [],
   "source": [
    "c=df1['comments'].value_counts()"
   ]
  },
  {
   "cell_type": "code",
   "execution_count": 70,
   "metadata": {},
   "outputs": [
    {
     "data": {
      "text/plain": [
       "0     9771\n",
       "3        8\n",
       "1        6\n",
       "2        5\n",
       "4        4\n",
       "9        3\n",
       "7        2\n",
       "5        2\n",
       "17       2\n",
       "8        2\n",
       "15       1\n",
       "30       1\n",
       "6        1\n",
       "26       1\n",
       "Name: comments, dtype: int64"
      ]
     },
     "execution_count": 70,
     "metadata": {},
     "output_type": "execute_result"
    }
   ],
   "source": [
    "c"
   ]
  },
  {
   "cell_type": "code",
   "execution_count": 71,
   "metadata": {},
   "outputs": [
    {
     "data": {
      "text/plain": [
       "3     8\n",
       "1     6\n",
       "2     5\n",
       "4     4\n",
       "9     3\n",
       "7     2\n",
       "5     2\n",
       "17    2\n",
       "8     2\n",
       "15    1\n",
       "30    1\n",
       "6     1\n",
       "26    1\n",
       "Name: comments, dtype: int64"
      ]
     },
     "execution_count": 71,
     "metadata": {},
     "output_type": "execute_result"
    }
   ],
   "source": [
    "c[1:]"
   ]
  },
  {
   "cell_type": "code",
   "execution_count": 72,
   "metadata": {},
   "outputs": [
    {
     "data": {
      "text/plain": [
       "<matplotlib.axes._subplots.AxesSubplot at 0x1aadada45c8>"
      ]
     },
     "execution_count": 72,
     "metadata": {},
     "output_type": "execute_result"
    },
    {
     "data": {
      "image/png": "[encoded data removed]",
      "text/plain": [
       "<Figure size 432x288 with 1 Axes>"
      ]
     },
     "metadata": {
      "needs_background": "light"
     },
     "output_type": "display_data"
    }
   ],
   "source": [
    "sns.countplot(df1['comments'].value_counts()[1:])"
   ]
  },
  {
   "cell_type": "code",
   "execution_count": 73,
   "metadata": {},
   "outputs": [
    {
     "data": {
      "text/plain": [
       "0      9479\n",
       "3         9\n",
       "1         8\n",
       "2         5\n",
       "12        5\n",
       "       ... \n",
       "23        1\n",
       "931       1\n",
       "959       1\n",
       "699       1\n",
       "891       1\n",
       "Name: shares, Length: 231, dtype: int64"
      ]
     },
     "execution_count": 73,
     "metadata": {},
     "output_type": "execute_result"
    }
   ],
   "source": [
    "df1['shares'].value_counts()"
   ]
  },
  {
   "cell_type": "code",
   "execution_count": 74,
   "metadata": {},
   "outputs": [
    {
     "data": {
      "text/plain": [
       "bs            8888\n",
       "bias           290\n",
       "conspiracy     269\n",
       "hate           245\n",
       "junksci         97\n",
       "fake            14\n",
       "state            6\n",
       "Name: type, dtype: int64"
      ]
     },
     "execution_count": 74,
     "metadata": {},
     "output_type": "execute_result"
    }
   ],
   "source": [
    "df1['type'].value_counts()"
   ]
  },
  {
   "cell_type": "code",
   "execution_count": 75,
   "metadata": {},
   "outputs": [
    {
     "data": {
      "text/plain": [
       "[<matplotlib.lines.Line2D at 0x1aadade3648>]"
      ]
     },
     "execution_count": 75,
     "metadata": {},
     "output_type": "execute_result"
    },
    {
     "data": {
      "image/png": "[encoded data removed]",
      "text/plain": [
       "<Figure size 432x288 with 1 Axes>"
      ]
     },
     "metadata": {
      "needs_background": "light"
     },
     "output_type": "display_data"
    }
   ],
   "source": [
    "plt.plot(df1['type'].value_counts()[1:])"
   ]
  },
  {
   "cell_type": "code",
   "execution_count": 76,
   "metadata": {},
   "outputs": [
    {
     "data": {
      "text/plain": [
       "<matplotlib.axes._subplots.AxesSubplot at 0x1aadaf9e708>"
      ]
     },
     "execution_count": 76,
     "metadata": {},
     "output_type": "execute_result"
    },
    {
     "data": {
      "image/png": "[encoded data removed]",
      "text/plain": [
       "<Figure size 432x288 with 1 Axes>"
      ]
     },
     "metadata": {
      "needs_background": "light"
     },
     "output_type": "display_data"
    }
   ],
   "source": [
    "df1.groupby(['type']).size().plot(kind='barh')"
   ]
  },
  {
   "cell_type": "code",
   "execution_count": 77,
   "metadata": {},
   "outputs": [],
   "source": [
    "fake_news = df1[df1[\"type\"] == \"fake\"]"
   ]
  },
  {
   "cell_type": "code",
   "execution_count": 78,
   "metadata": {},
   "outputs": [
    {
     "data": {
      "text/html": [
       "<div>\n",
       "<style scoped>\n",
       "    .dataframe tbody tr th:only-of-type {\n",
       "        vertical-align: middle;\n",
       "    }\n",
       "\n",
       "    .dataframe tbody tr th {\n",
       "        vertical-align: top;\n",
       "    }\n",
       "\n",
       "    .dataframe thead th {\n",
       "        text-align: right;\n",
       "    }\n",
       "</style>\n",
       "<table border=\"1\" class=\"dataframe\">\n",
       "  <thead>\n",
       "    <tr style=\"text-align: right;\">\n",
       "      <th></th>\n",
       "      <th>ord_in_thread</th>\n",
       "      <th>author</th>\n",
       "      <th>published</th>\n",
       "      <th>title</th>\n",
       "      <th>text</th>\n",
       "      <th>language</th>\n",
       "      <th>crawled</th>\n",
       "      <th>country</th>\n",
       "      <th>domain_rank</th>\n",
       "      <th>thread_title</th>\n",
       "      <th>...</th>\n",
       "      <th>type</th>\n",
       "      <th>published_month</th>\n",
       "      <th>published_date</th>\n",
       "      <th>published_year</th>\n",
       "      <th>published_hour</th>\n",
       "      <th>crawled_month</th>\n",
       "      <th>crawled_year</th>\n",
       "      <th>crawled_hour</th>\n",
       "      <th>crawled_date</th>\n",
       "      <th>site_name</th>\n",
       "    </tr>\n",
       "  </thead>\n",
       "  <tbody>\n",
       "    <tr>\n",
       "      <th>57</th>\n",
       "      <td>0</td>\n",
       "      <td>Jimmy Rustling</td>\n",
       "      <td>2016-10-27 13:00:00+03:00</td>\n",
       "      <td>The Amish In America Commit Their Vote To Dona...</td>\n",
       "      <td>18 SHARE The Amish in America have committed t...</td>\n",
       "      <td>english</td>\n",
       "      <td>2016-10-27 15:50:22.818000+03:00</td>\n",
       "      <td>CO</td>\n",
       "      <td>65078.0</td>\n",
       "      <td>The Amish In America Commit Their Vote To Dona...</td>\n",
       "      <td>...</td>\n",
       "      <td>fake</td>\n",
       "      <td>10</td>\n",
       "      <td>27</td>\n",
       "      <td>2016</td>\n",
       "      <td>13</td>\n",
       "      <td>10</td>\n",
       "      <td>2016</td>\n",
       "      <td>15</td>\n",
       "      <td>27</td>\n",
       "      <td>abcnews</td>\n",
       "    </tr>\n",
       "  </tbody>\n",
       "</table>\n",
       "<p>1 rows × 26 columns</p>\n",
       "</div>"
      ],
      "text/plain": [
       "    ord_in_thread          author                  published  \\\n",
       "57              0  Jimmy Rustling  2016-10-27 13:00:00+03:00   \n",
       "\n",
       "                                                title  \\\n",
       "57  The Amish In America Commit Their Vote To Dona...   \n",
       "\n",
       "                                                 text language  \\\n",
       "57  18 SHARE The Amish in America have committed t...  english   \n",
       "\n",
       "                             crawled country  domain_rank  \\\n",
       "57  2016-10-27 15:50:22.818000+03:00      CO      65078.0   \n",
       "\n",
       "                                         thread_title  ...  type  \\\n",
       "57  The Amish In America Commit Their Vote To Dona...  ...  fake   \n",
       "\n",
       "    published_month  published_date  published_year  published_hour  \\\n",
       "57               10              27            2016              13   \n",
       "\n",
       "    crawled_month crawled_year  crawled_hour  crawled_date  site_name  \n",
       "57             10         2016            15            27    abcnews  \n",
       "\n",
       "[1 rows x 26 columns]"
      ]
     },
     "execution_count": 78,
     "metadata": {},
     "output_type": "execute_result"
    }
   ],
   "source": [
    "fake_news.head(1)"
   ]
  },
  {
   "cell_type": "code",
   "execution_count": 79,
   "metadata": {},
   "outputs": [],
   "source": [
    "import nltk"
   ]
  },
  {
   "cell_type": "code",
   "execution_count": 80,
   "metadata": {},
   "outputs": [],
   "source": [
    "fake_news.title.fillna(\"\", inplace=True)\n",
    "fake_news.text.fillna(\"\", inplace=True)"
   ]
  },
  {
   "cell_type": "code",
   "execution_count": 81,
   "metadata": {},
   "outputs": [],
   "source": [
    "all_text= fake_news.title.str.cat(fake_news.text, sep=' ')"
   ]
  },
  {
   "cell_type": "code",
   "execution_count": 82,
   "metadata": {},
   "outputs": [
    {
     "name": "stderr",
     "output_type": "stream",
     "text": [
      "[nltk_data] Downloading package punkt to\n",
      "[nltk_data]     C:\\Users\\Dheleepan\\AppData\\Roaming\\nltk_data...\n",
      "[nltk_data]   Package punkt is already up-to-date!\n"
     ]
    },
    {
     "data": {
      "text/plain": [
       "True"
      ]
     },
     "execution_count": 82,
     "metadata": {},
     "output_type": "execute_result"
    }
   ],
   "source": [
    "import nltk\n",
    "nltk.download('punkt')"
   ]
  },
  {
   "cell_type": "code",
   "execution_count": 83,
   "metadata": {},
   "outputs": [
    {
     "data": {
      "text/plain": [
       "57     The Amish In America Commit Their Vote To Dona...\n",
       "58     Obama Signs Executive Order Declaring Investig...\n",
       "379    Comment on HALLOWEEN IN THE CASTRO RETURNS IN ...\n",
       "380    Comment on Tutorial: Riding The Philippine Jee...\n",
       "381    Comment on What White House Executive Chef Com...\n",
       "Name: title, dtype: object"
      ]
     },
     "execution_count": 83,
     "metadata": {},
     "output_type": "execute_result"
    }
   ],
   "source": [
    "all_text.head()"
   ]
  },
  {
   "cell_type": "code",
   "execution_count": 84,
   "metadata": {},
   "outputs": [],
   "source": [
    "fake_news_words = nltk.word_tokenize(\" \".join(all_text.tolist()))"
   ]
  },
  {
   "cell_type": "code",
   "execution_count": 85,
   "metadata": {},
   "outputs": [
    {
     "data": {
      "text/plain": [
       "['The',\n",
       " 'Amish',\n",
       " 'In',\n",
       " 'America',\n",
       " 'Commit',\n",
       " 'Their',\n",
       " 'Vote',\n",
       " 'To',\n",
       " 'Donald',\n",
       " 'Trump',\n",
       " ';',\n",
       " 'Mathematically',\n",
       " 'Guaranteeing',\n",
       " 'Him',\n",
       " 'A',\n",
       " 'Presidential',\n",
       " 'Victory',\n",
       " '-',\n",
       " 'ABC',\n",
       " 'News',\n",
       " '18',\n",
       " 'SHARE',\n",
       " 'The',\n",
       " 'Amish',\n",
       " 'in',\n",
       " 'America',\n",
       " 'have',\n",
       " 'committed',\n",
       " 'their',\n",
       " 'vote',\n",
       " 'to',\n",
       " 'Donald',\n",
       " 'Trump',\n",
       " 'guaranteeing',\n",
       " 'him',\n",
       " 'the',\n",
       " 'Presidency',\n",
       " '.',\n",
       " '(',\n",
       " 'AP',\n",
       " 'Photo',\n",
       " '/',\n",
       " 'Dennis',\n",
       " 'System',\n",
       " ')',\n",
       " 'COLUMBUS',\n",
       " ',',\n",
       " 'OH',\n",
       " '(',\n",
       " 'AP',\n",
       " ')',\n",
       " '—',\n",
       " 'History',\n",
       " 'was',\n",
       " 'made',\n",
       " 'today',\n",
       " 'in',\n",
       " 'Columbus',\n",
       " ',',\n",
       " 'Ohio',\n",
       " 'when',\n",
       " 'more',\n",
       " 'than',\n",
       " '3',\n",
       " 'million',\n",
       " 'Amish',\n",
       " 'poured',\n",
       " 'into',\n",
       " 'the',\n",
       " 'city',\n",
       " 'to',\n",
       " 'see',\n",
       " 'the',\n",
       " 'American',\n",
       " 'Amish',\n",
       " 'Brotherhood',\n",
       " '(',\n",
       " 'AAB',\n",
       " ')',\n",
       " ',',\n",
       " 'an',\n",
       " 'organization',\n",
       " 'which',\n",
       " 'acts',\n",
       " 'as',\n",
       " 'an',\n",
       " 'informal',\n",
       " 'governing',\n",
       " 'body',\n",
       " 'for',\n",
       " 'the',\n",
       " 'Amish',\n",
       " 'community',\n",
       " ',',\n",
       " 'endorse',\n",
       " 'Donald',\n",
       " 'Trump',\n",
       " 'for',\n",
       " 'president',\n",
       " '.',\n",
       " 'That',\n",
       " 'number',\n",
       " 'represents',\n",
       " 'a',\n",
       " 'significant',\n",
       " 'portion',\n",
       " 'of',\n",
       " 'the',\n",
       " 'total',\n",
       " 'Amish',\n",
       " 'population',\n",
       " ',',\n",
       " 'which',\n",
       " 'the',\n",
       " 'United',\n",
       " 'States',\n",
       " 'Census',\n",
       " 'Bureau',\n",
       " 'says',\n",
       " 'numbers',\n",
       " 'more',\n",
       " 'than',\n",
       " '20',\n",
       " 'million',\n",
       " 'men',\n",
       " 'and',\n",
       " 'women',\n",
       " 'nationwide',\n",
       " 'all',\n",
       " 'pledging',\n",
       " 'their',\n",
       " 'vote',\n",
       " 'to',\n",
       " 'Trump',\n",
       " 'for',\n",
       " 'President',\n",
       " '.',\n",
       " 'With',\n",
       " 'the',\n",
       " 'full',\n",
       " 'force',\n",
       " 'of',\n",
       " 'the',\n",
       " 'Amish',\n",
       " 'community',\n",
       " 'behind',\n",
       " 'him',\n",
       " ',',\n",
       " 'Donald',\n",
       " 'Trump',\n",
       " 'is',\n",
       " 'now',\n",
       " 'mathematically',\n",
       " 'guaranteed',\n",
       " 'to',\n",
       " 'win',\n",
       " 'the',\n",
       " 'presidency',\n",
       " 'in',\n",
       " 'November',\n",
       " '.',\n",
       " 'The',\n",
       " 'organization',\n",
       " 'typically',\n",
       " 'meets',\n",
       " 'once',\n",
       " 'a',\n",
       " 'year',\n",
       " 'and',\n",
       " 'the',\n",
       " 'meetings',\n",
       " 'usually',\n",
       " 'consist',\n",
       " 'of',\n",
       " 'about',\n",
       " '300',\n",
       " 'Amish',\n",
       " 'leaders',\n",
       " 'who',\n",
       " 'meet',\n",
       " 'to',\n",
       " 'discuss',\n",
       " 'the',\n",
       " 'challenges',\n",
       " ',',\n",
       " 'such',\n",
       " 'as',\n",
       " 'urban',\n",
       " 'sprawl',\n",
       " ',',\n",
       " 'that',\n",
       " 'face',\n",
       " 'the',\n",
       " 'community',\n",
       " '.',\n",
       " 'This',\n",
       " 'year',\n",
       " ',',\n",
       " 'however',\n",
       " ',',\n",
       " 'the',\n",
       " 'organization',\n",
       " 'wanted',\n",
       " 'as',\n",
       " 'many',\n",
       " 'people',\n",
       " 'in',\n",
       " 'attendance',\n",
       " 'as',\n",
       " 'possible',\n",
       " 'so',\n",
       " 'they',\n",
       " 'can',\n",
       " 'effectively',\n",
       " 'instruct',\n",
       " 'all',\n",
       " 'Amish',\n",
       " 'men',\n",
       " 'and',\n",
       " 'women',\n",
       " 'of',\n",
       " 'legal',\n",
       " 'voting',\n",
       " 'age',\n",
       " 'to',\n",
       " 'cast',\n",
       " 'their',\n",
       " 'vote',\n",
       " 'for',\n",
       " 'the',\n",
       " 'flamboyant',\n",
       " 'Republican',\n",
       " 'nominee',\n",
       " '.',\n",
       " 'The',\n",
       " 'Amish',\n",
       " ',',\n",
       " 'who',\n",
       " 'are',\n",
       " 'direct',\n",
       " 'descendants',\n",
       " 'of',\n",
       " 'the',\n",
       " 'protestant',\n",
       " 'reformation',\n",
       " 'sect',\n",
       " 'known',\n",
       " 'as',\n",
       " 'the',\n",
       " 'Anabaptists',\n",
       " ',',\n",
       " 'have',\n",
       " 'typically',\n",
       " 'stayed',\n",
       " 'out',\n",
       " 'of',\n",
       " 'politics',\n",
       " 'in',\n",
       " 'the',\n",
       " 'past',\n",
       " '.',\n",
       " 'As',\n",
       " 'a',\n",
       " 'general',\n",
       " 'rule',\n",
       " ',',\n",
       " 'they',\n",
       " 'don',\n",
       " '’',\n",
       " 't',\n",
       " 'vote',\n",
       " ',',\n",
       " 'serve',\n",
       " 'in',\n",
       " 'the',\n",
       " 'military',\n",
       " ',',\n",
       " 'or',\n",
       " 'engage',\n",
       " 'in',\n",
       " 'any',\n",
       " 'other',\n",
       " 'displays',\n",
       " 'of',\n",
       " 'patriotism',\n",
       " '.',\n",
       " 'This',\n",
       " 'year',\n",
       " ',',\n",
       " 'however',\n",
       " ',',\n",
       " 'the',\n",
       " 'AAB',\n",
       " 'has',\n",
       " 'said',\n",
       " 'that',\n",
       " 'it',\n",
       " 'is',\n",
       " 'imperative',\n",
       " 'that',\n",
       " 'they',\n",
       " 'get',\n",
       " 'involved',\n",
       " 'in',\n",
       " 'the',\n",
       " 'democratic',\n",
       " 'process',\n",
       " '.',\n",
       " '“',\n",
       " 'Over',\n",
       " 'the',\n",
       " 'past',\n",
       " 'eight',\n",
       " 'years',\n",
       " ',',\n",
       " 'the',\n",
       " 'Democratic',\n",
       " 'Party',\n",
       " 'has',\n",
       " 'launched',\n",
       " 'a',\n",
       " 'systematic',\n",
       " 'assault',\n",
       " 'on',\n",
       " 'biblical',\n",
       " 'virtues',\n",
       " ',',\n",
       " '”',\n",
       " 'said',\n",
       " 'AAB',\n",
       " 'chairman',\n",
       " 'Menno',\n",
       " 'Simons',\n",
       " '.',\n",
       " '“',\n",
       " 'We',\n",
       " 'have',\n",
       " 'seen',\n",
       " 'more',\n",
       " 'and',\n",
       " 'more',\n",
       " 'Christians',\n",
       " 'being',\n",
       " 'persecuted',\n",
       " 'for',\n",
       " 'their',\n",
       " 'faith',\n",
       " ';',\n",
       " 'we',\n",
       " 'have',\n",
       " 'seen',\n",
       " 'the',\n",
       " 'state',\n",
       " 'defile',\n",
       " 'the',\n",
       " 'institution',\n",
       " 'of',\n",
       " 'marriage',\n",
       " '.',\n",
       " 'Now',\n",
       " ',',\n",
       " 'they',\n",
       " 'want',\n",
       " 'to',\n",
       " 'put',\n",
       " 'a',\n",
       " 'woman',\n",
       " 'in',\n",
       " 'the',\n",
       " 'nation',\n",
       " '’',\n",
       " 's',\n",
       " 'highest',\n",
       " 'leadership',\n",
       " 'role',\n",
       " 'in',\n",
       " 'direct',\n",
       " 'violation',\n",
       " 'of',\n",
       " '1',\n",
       " 'Timothy',\n",
       " '2:12',\n",
       " '.',\n",
       " 'We',\n",
       " 'need',\n",
       " 'to',\n",
       " 'stop',\n",
       " 'this',\n",
       " 'assault',\n",
       " 'and',\n",
       " 'take',\n",
       " 'a',\n",
       " 'stand',\n",
       " 'for',\n",
       " 'biblical',\n",
       " 'principles',\n",
       " '.',\n",
       " 'Donald',\n",
       " 'Trump',\n",
       " 'has',\n",
       " 'shown',\n",
       " 'in',\n",
       " 'both',\n",
       " 'action',\n",
       " 'and',\n",
       " 'deed',\n",
       " 'that',\n",
       " 'he',\n",
       " 'is',\n",
       " 'committed',\n",
       " 'to',\n",
       " 'restoring',\n",
       " 'this',\n",
       " 'country',\n",
       " 'to',\n",
       " 'the',\n",
       " 'Lord',\n",
       " '’',\n",
       " 's',\n",
       " 'way.',\n",
       " '”',\n",
       " 'According',\n",
       " 'to',\n",
       " 'statistician',\n",
       " 'Nate',\n",
       " 'Silver',\n",
       " 'of',\n",
       " 'the',\n",
       " 'website',\n",
       " 'fivethirtyeight.com',\n",
       " ',',\n",
       " 'there',\n",
       " 'are',\n",
       " 'no',\n",
       " 'possible',\n",
       " 'scenarios',\n",
       " 'in',\n",
       " 'which',\n",
       " 'Hillary',\n",
       " 'Clinton',\n",
       " 'can',\n",
       " 'win',\n",
       " 'with',\n",
       " 'Donald',\n",
       " 'Trump',\n",
       " 'carrying',\n",
       " 'the',\n",
       " 'Amish',\n",
       " 'vote',\n",
       " '.',\n",
       " '“',\n",
       " 'The',\n",
       " 'Amish',\n",
       " 'have',\n",
       " 'their',\n",
       " 'highest',\n",
       " 'numbers',\n",
       " 'in',\n",
       " 'perennial',\n",
       " 'swing',\n",
       " 'states',\n",
       " 'like',\n",
       " 'Pennsylvania',\n",
       " ',',\n",
       " 'Virginia',\n",
       " ',',\n",
       " 'Ohio',\n",
       " ',',\n",
       " 'Indiana',\n",
       " ',',\n",
       " 'and',\n",
       " 'Iowa',\n",
       " ',',\n",
       " '”',\n",
       " 'Silver',\n",
       " 'noted',\n",
       " '.',\n",
       " '“',\n",
       " 'They',\n",
       " 'also',\n",
       " 'have',\n",
       " 'strong',\n",
       " 'numbers',\n",
       " 'in',\n",
       " 'reliably',\n",
       " 'Democratic',\n",
       " 'states',\n",
       " 'like',\n",
       " 'Michigan',\n",
       " ',',\n",
       " 'Illinois',\n",
       " ',',\n",
       " 'and',\n",
       " 'New',\n",
       " 'York',\n",
       " ',',\n",
       " 'meaning',\n",
       " 'that',\n",
       " 'Hillary',\n",
       " 'will',\n",
       " 'lose',\n",
       " 'those',\n",
       " 'states',\n",
       " 'as',\n",
       " 'well',\n",
       " '.',\n",
       " 'There',\n",
       " 'is',\n",
       " 'also',\n",
       " 'a',\n",
       " 'sizeable',\n",
       " 'community',\n",
       " 'in',\n",
       " 'Florida',\n",
       " 'which',\n",
       " ',',\n",
       " 'while',\n",
       " 'not',\n",
       " 'as',\n",
       " 'large',\n",
       " 'as',\n",
       " 'it',\n",
       " 'is',\n",
       " 'in',\n",
       " 'the',\n",
       " 'Midwest',\n",
       " ',',\n",
       " 'is',\n",
       " 'still',\n",
       " 'large',\n",
       " 'enough',\n",
       " 'to',\n",
       " 'turn',\n",
       " 'Florida',\n",
       " 'for',\n",
       " 'Trump',\n",
       " '.',\n",
       " 'Over',\n",
       " 'the',\n",
       " 'next',\n",
       " 'two',\n",
       " 'weeks',\n",
       " ',',\n",
       " 'you',\n",
       " 'can',\n",
       " 'expect',\n",
       " 'Hillary',\n",
       " 'to',\n",
       " 'enter',\n",
       " 'into',\n",
       " 'a',\n",
       " 'state',\n",
       " 'of',\n",
       " 'freefall',\n",
       " 'in',\n",
       " 'all',\n",
       " 'of',\n",
       " 'my',\n",
       " 'predictive',\n",
       " 'models.',\n",
       " '”',\n",
       " 'The',\n",
       " 'Clinton',\n",
       " 'campaign',\n",
       " 'issued',\n",
       " 'a',\n",
       " 'written',\n",
       " 'statement',\n",
       " 'to',\n",
       " 'the',\n",
       " 'AAB',\n",
       " 'asking',\n",
       " 'them',\n",
       " 'to',\n",
       " 'reconsider',\n",
       " 'their',\n",
       " 'decision',\n",
       " '.',\n",
       " '“',\n",
       " 'I',\n",
       " 'don',\n",
       " '’',\n",
       " 't',\n",
       " 'believe',\n",
       " 'that',\n",
       " 'Donald',\n",
       " 'Trump',\n",
       " 'is',\n",
       " 'the',\n",
       " 'person',\n",
       " 'who',\n",
       " 'best',\n",
       " 'represents',\n",
       " 'your',\n",
       " 'interests',\n",
       " ',',\n",
       " '”',\n",
       " 'Clinton',\n",
       " 'wrote',\n",
       " 'to',\n",
       " 'the',\n",
       " 'AAB',\n",
       " '.',\n",
       " '“',\n",
       " 'As',\n",
       " 'a',\n",
       " 'career',\n",
       " 'real',\n",
       " 'estate',\n",
       " 'developer',\n",
       " ',',\n",
       " 'he',\n",
       " 'represents',\n",
       " 'a',\n",
       " 'clear',\n",
       " 'threat',\n",
       " 'to',\n",
       " 'your',\n",
       " 'simple',\n",
       " 'way',\n",
       " 'of',\n",
       " 'life',\n",
       " '.',\n",
       " 'As',\n",
       " 'former',\n",
       " 'first',\n",
       " 'lady',\n",
       " 'of',\n",
       " 'Arkansas',\n",
       " ',',\n",
       " 'I',\n",
       " 'understand',\n",
       " 'the',\n",
       " 'concerns',\n",
       " 'of',\n",
       " 'rural',\n",
       " 'Americans',\n",
       " 'more',\n",
       " 'than',\n",
       " 'any',\n",
       " 'candidate',\n",
       " 'in',\n",
       " 'this',\n",
       " 'election',\n",
       " '.',\n",
       " 'I',\n",
       " 'implore',\n",
       " 'you',\n",
       " 'to',\n",
       " 'consider',\n",
       " 'all',\n",
       " 'of',\n",
       " 'the',\n",
       " 'facts',\n",
       " 'before',\n",
       " 'voting',\n",
       " 'for',\n",
       " 'my',\n",
       " 'opponent.',\n",
       " '”',\n",
       " 'Most',\n",
       " 'pundits',\n",
       " 'believe',\n",
       " 'that',\n",
       " 'Mrs.',\n",
       " 'Clinton',\n",
       " '’',\n",
       " 's',\n",
       " 'plea',\n",
       " 'is',\n",
       " 'too',\n",
       " 'little',\n",
       " 'too',\n",
       " 'late',\n",
       " '.',\n",
       " 'During',\n",
       " 'a',\n",
       " 'press',\n",
       " 'conference',\n",
       " 'in',\n",
       " 'Manhattan',\n",
       " ',',\n",
       " 'Trump',\n",
       " 'thanked',\n",
       " 'the',\n",
       " 'AAB',\n",
       " 'for',\n",
       " 'their',\n",
       " 'support',\n",
       " 'and',\n",
       " 'promised',\n",
       " 'to',\n",
       " 'put',\n",
       " 'the',\n",
       " 'Amish',\n",
       " 'to',\n",
       " 'work',\n",
       " 'maintaining',\n",
       " 'government',\n",
       " 'buildings',\n",
       " ',',\n",
       " 'which',\n",
       " 'he',\n",
       " 'said',\n",
       " 'would',\n",
       " 'save',\n",
       " 'taxpayers',\n",
       " 'millions',\n",
       " 'because',\n",
       " '“',\n",
       " 'the',\n",
       " 'Amish',\n",
       " 'do',\n",
       " 'great',\n",
       " 'work',\n",
       " 'for',\n",
       " 'a',\n",
       " 'very',\n",
       " 'low',\n",
       " 'price.',\n",
       " '”',\n",
       " 'Though',\n",
       " 'Clinton',\n",
       " 'has',\n",
       " 'pledged',\n",
       " 'to',\n",
       " 'stay',\n",
       " 'in',\n",
       " 'the',\n",
       " 'race',\n",
       " 'until',\n",
       " 'the',\n",
       " 'very',\n",
       " 'end',\n",
       " ',',\n",
       " 'many',\n",
       " 'of',\n",
       " 'her',\n",
       " 'campaign',\n",
       " 'workers',\n",
       " 'have',\n",
       " 'already',\n",
       " 'resigned',\n",
       " '.',\n",
       " 'According',\n",
       " 'to',\n",
       " 'the',\n",
       " 'Associated',\n",
       " 'Press',\n",
       " ',',\n",
       " 'it',\n",
       " 'is',\n",
       " 'expected',\n",
       " 'that',\n",
       " 'the',\n",
       " 'Clinton',\n",
       " 'campaign',\n",
       " 'will',\n",
       " 'lose',\n",
       " '50',\n",
       " '%',\n",
       " 'of',\n",
       " 'its',\n",
       " 'staff',\n",
       " 'over',\n",
       " 'the',\n",
       " 'next',\n",
       " 'two',\n",
       " 'weeks',\n",
       " '.',\n",
       " 'There',\n",
       " 'is',\n",
       " 'a',\n",
       " 'general',\n",
       " 'mood',\n",
       " 'of',\n",
       " 'hopelessness',\n",
       " 'and',\n",
       " 'despair',\n",
       " 'in',\n",
       " 'the',\n",
       " 'Clinton',\n",
       " 'camp',\n",
       " ',',\n",
       " 'and',\n",
       " 'many',\n",
       " 'simply',\n",
       " 'want',\n",
       " 'to',\n",
       " 'cut',\n",
       " 'their',\n",
       " 'losses',\n",
       " '.',\n",
       " '“',\n",
       " 'It',\n",
       " 'looked',\n",
       " 'like',\n",
       " 'she',\n",
       " 'was',\n",
       " 'going',\n",
       " 'to',\n",
       " 'win',\n",
       " 'this',\n",
       " 'election',\n",
       " 'easily',\n",
       " ',',\n",
       " '”',\n",
       " 'said',\n",
       " 'Paul',\n",
       " 'Horner',\n",
       " ',',\n",
       " 'a',\n",
       " 'campaign',\n",
       " 'worker',\n",
       " 'in',\n",
       " 'Ohio',\n",
       " ',',\n",
       " '“',\n",
       " 'But',\n",
       " 'this',\n",
       " 'is',\n",
       " 'what',\n",
       " 'happens',\n",
       " 'when',\n",
       " 'you',\n",
       " 'wake',\n",
       " 'a',\n",
       " 'sleeping',\n",
       " 'giant',\n",
       " '.',\n",
       " 'Cleary',\n",
       " ',',\n",
       " 'Mrs.',\n",
       " 'Clinton',\n",
       " 'took',\n",
       " 'far',\n",
       " 'too',\n",
       " 'much',\n",
       " 'for',\n",
       " 'granted',\n",
       " 'in',\n",
       " 'this',\n",
       " 'race',\n",
       " ',',\n",
       " 'and',\n",
       " 'we',\n",
       " 'are',\n",
       " 'all',\n",
       " 'now',\n",
       " 'paying',\n",
       " 'the',\n",
       " 'price',\n",
       " '.',\n",
       " 'It',\n",
       " '’',\n",
       " 's',\n",
       " 'really',\n",
       " 'sad',\n",
       " 'to',\n",
       " 'see',\n",
       " 'the',\n",
       " 'campaign',\n",
       " 'end',\n",
       " 'this',\n",
       " 'way.',\n",
       " '”',\n",
       " 'If',\n",
       " 'you',\n",
       " 'are',\n",
       " 'interested',\n",
       " 'in',\n",
       " 'learning',\n",
       " 'more',\n",
       " 'about',\n",
       " 'the',\n",
       " 'Amish',\n",
       " 'community',\n",
       " 'and',\n",
       " 'the',\n",
       " 'AAB',\n",
       " ',',\n",
       " 'you',\n",
       " 'can',\n",
       " 'contact',\n",
       " 'the',\n",
       " 'Pennsylvania',\n",
       " 'Amish',\n",
       " 'Heritage',\n",
       " 'Museum',\n",
       " 'at',\n",
       " '(',\n",
       " '785',\n",
       " ')',\n",
       " '273-0325',\n",
       " '.',\n",
       " 'TAGS',\n",
       " 'Obama',\n",
       " 'Signs',\n",
       " 'Executive',\n",
       " 'Order',\n",
       " 'Declaring',\n",
       " 'Investigation',\n",
       " 'Into',\n",
       " 'Election',\n",
       " 'Results',\n",
       " ';',\n",
       " 'Revote',\n",
       " 'Planned',\n",
       " 'For',\n",
       " 'Dec.',\n",
       " '19th',\n",
       " '-',\n",
       " 'ABC',\n",
       " 'News',\n",
       " '64',\n",
       " 'SHARE',\n",
       " 'President',\n",
       " 'Obama',\n",
       " 'has',\n",
       " 'signed',\n",
       " 'an',\n",
       " 'Executive',\n",
       " 'Order',\n",
       " 'declaring',\n",
       " 'an',\n",
       " 'investigation',\n",
       " 'into',\n",
       " 'the',\n",
       " 'election',\n",
       " 'results',\n",
       " 'and',\n",
       " 'plans',\n",
       " 'for',\n",
       " 'a',\n",
       " 'revote',\n",
       " 'on',\n",
       " 'December',\n",
       " '19th',\n",
       " '.',\n",
       " '(',\n",
       " 'AP',\n",
       " 'Photo',\n",
       " '/',\n",
       " 'Dennis',\n",
       " 'System',\n",
       " ')',\n",
       " 'WASHINGTON',\n",
       " ',',\n",
       " 'D.C.',\n",
       " '(',\n",
       " 'AP',\n",
       " ')',\n",
       " '—',\n",
       " 'Following',\n",
       " 'the',\n",
       " 'results',\n",
       " 'of',\n",
       " 'Tuesday',\n",
       " 'night',\n",
       " '’',\n",
       " 's',\n",
       " 'election',\n",
       " ',',\n",
       " 'President',\n",
       " 'Obama',\n",
       " 'has',\n",
       " 'signed',\n",
       " 'Executive',\n",
       " 'Order',\n",
       " '13805',\n",
       " ',',\n",
       " 'which',\n",
       " 'orders',\n",
       " 'a',\n",
       " 'full',\n",
       " 'recount',\n",
       " 'of',\n",
       " 'all',\n",
       " 'votes',\n",
       " 'cast',\n",
       " 'in',\n",
       " 'the',\n",
       " 'election',\n",
       " 'and',\n",
       " 'calls',\n",
       " 'for',\n",
       " 'a',\n",
       " 'special',\n",
       " 'election',\n",
       " 'to',\n",
       " 'be',\n",
       " 'held',\n",
       " 'on',\n",
       " 'December',\n",
       " '19',\n",
       " 'th',\n",
       " '.',\n",
       " 'Obama',\n",
       " 'signed',\n",
       " 'the',\n",
       " ...]"
      ]
     },
     "execution_count": 85,
     "metadata": {},
     "output_type": "execute_result"
    }
   ],
   "source": [
    "fake_news_words"
   ]
  },
  {
   "cell_type": "code",
   "execution_count": 86,
   "metadata": {},
   "outputs": [
    {
     "name": "stderr",
     "output_type": "stream",
     "text": [
      "[nltk_data] Downloading package stopwords to\n",
      "[nltk_data]     C:\\Users\\Dheleepan\\AppData\\Roaming\\nltk_data...\n",
      "[nltk_data]   Package stopwords is already up-to-date!\n"
     ]
    },
    {
     "data": {
      "text/plain": [
       "True"
      ]
     },
     "execution_count": 86,
     "metadata": {},
     "output_type": "execute_result"
    }
   ],
   "source": [
    "import nltk\n",
    "nltk.download('stopwords')"
   ]
  },
  {
   "cell_type": "code",
   "execution_count": 87,
   "metadata": {},
   "outputs": [],
   "source": [
    "from nltk.corpus import stopwords\n",
    "import string"
   ]
  },
  {
   "cell_type": "code",
   "execution_count": 88,
   "metadata": {},
   "outputs": [],
   "source": [
    "stop = stopwords.words('english') "
   ]
  },
  {
   "cell_type": "code",
   "execution_count": 89,
   "metadata": {},
   "outputs": [
    {
     "data": {
      "text/plain": [
       "['i',\n",
       " 'me',\n",
       " 'my',\n",
       " 'myself',\n",
       " 'we',\n",
       " 'our',\n",
       " 'ours',\n",
       " 'ourselves',\n",
       " 'you',\n",
       " \"you're\",\n",
       " \"you've\",\n",
       " \"you'll\",\n",
       " \"you'd\",\n",
       " 'your',\n",
       " 'yours',\n",
       " 'yourself',\n",
       " 'yourselves',\n",
       " 'he',\n",
       " 'him',\n",
       " 'his',\n",
       " 'himself',\n",
       " 'she',\n",
       " \"she's\",\n",
       " 'her',\n",
       " 'hers',\n",
       " 'herself',\n",
       " 'it',\n",
       " \"it's\",\n",
       " 'its',\n",
       " 'itself',\n",
       " 'they',\n",
       " 'them',\n",
       " 'their',\n",
       " 'theirs',\n",
       " 'themselves',\n",
       " 'what',\n",
       " 'which',\n",
       " 'who',\n",
       " 'whom',\n",
       " 'this',\n",
       " 'that',\n",
       " \"that'll\",\n",
       " 'these',\n",
       " 'those',\n",
       " 'am',\n",
       " 'is',\n",
       " 'are',\n",
       " 'was',\n",
       " 'were',\n",
       " 'be',\n",
       " 'been',\n",
       " 'being',\n",
       " 'have',\n",
       " 'has',\n",
       " 'had',\n",
       " 'having',\n",
       " 'do',\n",
       " 'does',\n",
       " 'did',\n",
       " 'doing',\n",
       " 'a',\n",
       " 'an',\n",
       " 'the',\n",
       " 'and',\n",
       " 'but',\n",
       " 'if',\n",
       " 'or',\n",
       " 'because',\n",
       " 'as',\n",
       " 'until',\n",
       " 'while',\n",
       " 'of',\n",
       " 'at',\n",
       " 'by',\n",
       " 'for',\n",
       " 'with',\n",
       " 'about',\n",
       " 'against',\n",
       " 'between',\n",
       " 'into',\n",
       " 'through',\n",
       " 'during',\n",
       " 'before',\n",
       " 'after',\n",
       " 'above',\n",
       " 'below',\n",
       " 'to',\n",
       " 'from',\n",
       " 'up',\n",
       " 'down',\n",
       " 'in',\n",
       " 'out',\n",
       " 'on',\n",
       " 'off',\n",
       " 'over',\n",
       " 'under',\n",
       " 'again',\n",
       " 'further',\n",
       " 'then',\n",
       " 'once',\n",
       " 'here',\n",
       " 'there',\n",
       " 'when',\n",
       " 'where',\n",
       " 'why',\n",
       " 'how',\n",
       " 'all',\n",
       " 'any',\n",
       " 'both',\n",
       " 'each',\n",
       " 'few',\n",
       " 'more',\n",
       " 'most',\n",
       " 'other',\n",
       " 'some',\n",
       " 'such',\n",
       " 'no',\n",
       " 'nor',\n",
       " 'not',\n",
       " 'only',\n",
       " 'own',\n",
       " 'same',\n",
       " 'so',\n",
       " 'than',\n",
       " 'too',\n",
       " 'very',\n",
       " 's',\n",
       " 't',\n",
       " 'can',\n",
       " 'will',\n",
       " 'just',\n",
       " 'don',\n",
       " \"don't\",\n",
       " 'should',\n",
       " \"should've\",\n",
       " 'now',\n",
       " 'd',\n",
       " 'll',\n",
       " 'm',\n",
       " 'o',\n",
       " 're',\n",
       " 've',\n",
       " 'y',\n",
       " 'ain',\n",
       " 'aren',\n",
       " \"aren't\",\n",
       " 'couldn',\n",
       " \"couldn't\",\n",
       " 'didn',\n",
       " \"didn't\",\n",
       " 'doesn',\n",
       " \"doesn't\",\n",
       " 'hadn',\n",
       " \"hadn't\",\n",
       " 'hasn',\n",
       " \"hasn't\",\n",
       " 'haven',\n",
       " \"haven't\",\n",
       " 'isn',\n",
       " \"isn't\",\n",
       " 'ma',\n",
       " 'mightn',\n",
       " \"mightn't\",\n",
       " 'mustn',\n",
       " \"mustn't\",\n",
       " 'needn',\n",
       " \"needn't\",\n",
       " 'shan',\n",
       " \"shan't\",\n",
       " 'shouldn',\n",
       " \"shouldn't\",\n",
       " 'wasn',\n",
       " \"wasn't\",\n",
       " 'weren',\n",
       " \"weren't\",\n",
       " 'won',\n",
       " \"won't\",\n",
       " 'wouldn',\n",
       " \"wouldn't\"]"
      ]
     },
     "execution_count": 89,
     "metadata": {},
     "output_type": "execute_result"
    }
   ],
   "source": [
    "stop"
   ]
  },
  {
   "cell_type": "code",
   "execution_count": 90,
   "metadata": {},
   "outputs": [
    {
     "data": {
      "image/png": "[encoded data removed]",
      "text/plain": [
       "<Figure size 432x288 with 1 Axes>"
      ]
     },
     "metadata": {
      "needs_background": "light"
     },
     "output_type": "display_data"
    }
   ],
   "source": [
    "\n",
    "\n",
    "wordcloud2 = WordCloud(\n",
    "                          stopwords=STOPWORDS,\n",
    "                          background_color='white',\n",
    "                          width=1200,\n",
    "                          height=1000\n",
    "                         ).generate(\" \".join(fake_news_words))\n",
    "\n",
    "\n",
    "plt.imshow(wordcloud2)\n",
    "plt.axis('off')\n",
    "plt.show()"
   ]
  },
  {
   "cell_type": "code",
   "execution_count": 91,
   "metadata": {},
   "outputs": [
    {
     "data": {
      "text/html": [
       "<div>\n",
       "<style scoped>\n",
       "    .dataframe tbody tr th:only-of-type {\n",
       "        vertical-align: middle;\n",
       "    }\n",
       "\n",
       "    .dataframe tbody tr th {\n",
       "        vertical-align: top;\n",
       "    }\n",
       "\n",
       "    .dataframe thead th {\n",
       "        text-align: right;\n",
       "    }\n",
       "</style>\n",
       "<table border=\"1\" class=\"dataframe\">\n",
       "  <thead>\n",
       "    <tr style=\"text-align: right;\">\n",
       "      <th></th>\n",
       "      <th>ord_in_thread</th>\n",
       "      <th>author</th>\n",
       "      <th>published</th>\n",
       "      <th>title</th>\n",
       "      <th>text</th>\n",
       "      <th>language</th>\n",
       "      <th>crawled</th>\n",
       "      <th>country</th>\n",
       "      <th>domain_rank</th>\n",
       "      <th>thread_title</th>\n",
       "      <th>...</th>\n",
       "      <th>type</th>\n",
       "      <th>published_month</th>\n",
       "      <th>published_date</th>\n",
       "      <th>published_year</th>\n",
       "      <th>published_hour</th>\n",
       "      <th>crawled_month</th>\n",
       "      <th>crawled_year</th>\n",
       "      <th>crawled_hour</th>\n",
       "      <th>crawled_date</th>\n",
       "      <th>site_name</th>\n",
       "    </tr>\n",
       "  </thead>\n",
       "  <tbody>\n",
       "    <tr>\n",
       "      <th>0</th>\n",
       "      <td>0</td>\n",
       "      <td>Barracuda Brigade</td>\n",
       "      <td>2016-10-26 21:41:00+03:00</td>\n",
       "      <td>Muslims BUSTED: They Stole Millions In Gov’t B...</td>\n",
       "      <td>Print They should pay all the back all the mon...</td>\n",
       "      <td>english</td>\n",
       "      <td>2016-10-27 01:49:27.168000+03:00</td>\n",
       "      <td>US</td>\n",
       "      <td>25689.0</td>\n",
       "      <td>Muslims BUSTED: They Stole Millions In Gov’t B...</td>\n",
       "      <td>...</td>\n",
       "      <td>bias</td>\n",
       "      <td>10</td>\n",
       "      <td>26</td>\n",
       "      <td>2016</td>\n",
       "      <td>21</td>\n",
       "      <td>10</td>\n",
       "      <td>2016</td>\n",
       "      <td>1</td>\n",
       "      <td>27</td>\n",
       "      <td>100percentfedup</td>\n",
       "    </tr>\n",
       "  </tbody>\n",
       "</table>\n",
       "<p>1 rows × 26 columns</p>\n",
       "</div>"
      ],
      "text/plain": [
       "   ord_in_thread             author                  published  \\\n",
       "0              0  Barracuda Brigade  2016-10-26 21:41:00+03:00   \n",
       "\n",
       "                                               title  \\\n",
       "0  Muslims BUSTED: They Stole Millions In Gov’t B...   \n",
       "\n",
       "                                                text language  \\\n",
       "0  Print They should pay all the back all the mon...  english   \n",
       "\n",
       "                            crawled country  domain_rank  \\\n",
       "0  2016-10-27 01:49:27.168000+03:00      US      25689.0   \n",
       "\n",
       "                                        thread_title  ...  type  \\\n",
       "0  Muslims BUSTED: They Stole Millions In Gov’t B...  ...  bias   \n",
       "\n",
       "   published_month  published_date  published_year  published_hour  \\\n",
       "0               10              26            2016              21   \n",
       "\n",
       "   crawled_month crawled_year  crawled_hour  crawled_date        site_name  \n",
       "0             10         2016             1            27  100percentfedup  \n",
       "\n",
       "[1 rows x 26 columns]"
      ]
     },
     "execution_count": 91,
     "metadata": {},
     "output_type": "execute_result"
    }
   ],
   "source": [
    "df1.head(1)"
   ]
  },
  {
   "cell_type": "code",
   "execution_count": 92,
   "metadata": {},
   "outputs": [],
   "source": [
    "fake_news= df1[['title','text',]]"
   ]
  },
  {
   "cell_type": "code",
   "execution_count": 93,
   "metadata": {},
   "outputs": [
    {
     "data": {
      "text/plain": [
       "Index(['ord_in_thread', 'author', 'published', 'title', 'text', 'language',\n",
       "       'crawled', 'country', 'domain_rank', 'thread_title', 'spam_score',\n",
       "       'replies_count', 'participants_count', 'likes', 'comments', 'shares',\n",
       "       'type', 'published_month', 'published_date', 'published_year',\n",
       "       'published_hour', 'crawled_month', 'crawled_year', 'crawled_hour',\n",
       "       'crawled_date', 'site_name'],\n",
       "      dtype='object')"
      ]
     },
     "execution_count": 93,
     "metadata": {},
     "output_type": "execute_result"
    }
   ],
   "source": [
    "df1.columns"
   ]
  },
  {
   "cell_type": "code",
   "execution_count": 94,
   "metadata": {},
   "outputs": [
    {
     "data": {
      "text/html": [
       "<div>\n",
       "<style scoped>\n",
       "    .dataframe tbody tr th:only-of-type {\n",
       "        vertical-align: middle;\n",
       "    }\n",
       "\n",
       "    .dataframe tbody tr th {\n",
       "        vertical-align: top;\n",
       "    }\n",
       "\n",
       "    .dataframe thead th {\n",
       "        text-align: right;\n",
       "    }\n",
       "</style>\n",
       "<table border=\"1\" class=\"dataframe\">\n",
       "  <thead>\n",
       "    <tr style=\"text-align: right;\">\n",
       "      <th></th>\n",
       "      <th>title</th>\n",
       "      <th>text</th>\n",
       "    </tr>\n",
       "  </thead>\n",
       "  <tbody>\n",
       "    <tr>\n",
       "      <th>0</th>\n",
       "      <td>Muslims BUSTED: They Stole Millions In Gov’t B...</td>\n",
       "      <td>Print They should pay all the back all the mon...</td>\n",
       "    </tr>\n",
       "  </tbody>\n",
       "</table>\n",
       "</div>"
      ],
      "text/plain": [
       "                                               title  \\\n",
       "0  Muslims BUSTED: They Stole Millions In Gov’t B...   \n",
       "\n",
       "                                                text  \n",
       "0  Print They should pay all the back all the mon...  "
      ]
     },
     "execution_count": 94,
     "metadata": {},
     "output_type": "execute_result"
    }
   ],
   "source": [
    "fake_news.head(1)"
   ]
  },
  {
   "cell_type": "code",
   "execution_count": 95,
   "metadata": {},
   "outputs": [
    {
     "data": {
      "text/plain": [
       "title    0\n",
       "text     0\n",
       "dtype: int64"
      ]
     },
     "execution_count": 95,
     "metadata": {},
     "output_type": "execute_result"
    }
   ],
   "source": [
    "fake_news.isnull().sum(axis=0)"
   ]
  },
  {
   "cell_type": "code",
   "execution_count": 96,
   "metadata": {},
   "outputs": [],
   "source": [
    "fake_news['label']= 0"
   ]
  },
  {
   "cell_type": "code",
   "execution_count": 97,
   "metadata": {},
   "outputs": [
    {
     "data": {
      "text/html": [
       "<div>\n",
       "<style scoped>\n",
       "    .dataframe tbody tr th:only-of-type {\n",
       "        vertical-align: middle;\n",
       "    }\n",
       "\n",
       "    .dataframe tbody tr th {\n",
       "        vertical-align: top;\n",
       "    }\n",
       "\n",
       "    .dataframe thead th {\n",
       "        text-align: right;\n",
       "    }\n",
       "</style>\n",
       "<table border=\"1\" class=\"dataframe\">\n",
       "  <thead>\n",
       "    <tr style=\"text-align: right;\">\n",
       "      <th></th>\n",
       "      <th>title</th>\n",
       "      <th>text</th>\n",
       "      <th>label</th>\n",
       "    </tr>\n",
       "  </thead>\n",
       "  <tbody>\n",
       "    <tr>\n",
       "      <th>0</th>\n",
       "      <td>Muslims BUSTED: They Stole Millions In Gov’t B...</td>\n",
       "      <td>Print They should pay all the back all the mon...</td>\n",
       "      <td>0</td>\n",
       "    </tr>\n",
       "    <tr>\n",
       "      <th>1</th>\n",
       "      <td>Re: Why Did Attorney General Loretta Lynch Ple...</td>\n",
       "      <td>Why Did Attorney General Loretta Lynch Plead T...</td>\n",
       "      <td>0</td>\n",
       "    </tr>\n",
       "    <tr>\n",
       "      <th>2</th>\n",
       "      <td>BREAKING: Weiner Cooperating With FBI On Hilla...</td>\n",
       "      <td>Red State : \\nFox News Sunday reported this mo...</td>\n",
       "      <td>0</td>\n",
       "    </tr>\n",
       "    <tr>\n",
       "      <th>3</th>\n",
       "      <td>PIN DROP SPEECH BY FATHER OF DAUGHTER Kidnappe...</td>\n",
       "      <td>Email Kayla Mueller was a prisoner and torture...</td>\n",
       "      <td>0</td>\n",
       "    </tr>\n",
       "    <tr>\n",
       "      <th>4</th>\n",
       "      <td>FANTASTIC! TRUMP'S 7 POINT PLAN To Reform Heal...</td>\n",
       "      <td>Email HEALTHCARE REFORM TO MAKE AMERICA GREAT ...</td>\n",
       "      <td>0</td>\n",
       "    </tr>\n",
       "  </tbody>\n",
       "</table>\n",
       "</div>"
      ],
      "text/plain": [
       "                                               title  \\\n",
       "0  Muslims BUSTED: They Stole Millions In Gov’t B...   \n",
       "1  Re: Why Did Attorney General Loretta Lynch Ple...   \n",
       "2  BREAKING: Weiner Cooperating With FBI On Hilla...   \n",
       "3  PIN DROP SPEECH BY FATHER OF DAUGHTER Kidnappe...   \n",
       "4  FANTASTIC! TRUMP'S 7 POINT PLAN To Reform Heal...   \n",
       "\n",
       "                                                text  label  \n",
       "0  Print They should pay all the back all the mon...      0  \n",
       "1  Why Did Attorney General Loretta Lynch Plead T...      0  \n",
       "2  Red State : \\nFox News Sunday reported this mo...      0  \n",
       "3  Email Kayla Mueller was a prisoner and torture...      0  \n",
       "4  Email HEALTHCARE REFORM TO MAKE AMERICA GREAT ...      0  "
      ]
     },
     "execution_count": 97,
     "metadata": {},
     "output_type": "execute_result"
    }
   ],
   "source": [
    "fake_news.head(5)"
   ]
  },
  {
   "cell_type": "code",
   "execution_count": 98,
   "metadata": {},
   "outputs": [],
   "source": [
    "df3 = pd.read_csv('True.csv')"
   ]
  },
  {
   "cell_type": "code",
   "execution_count": 99,
   "metadata": {},
   "outputs": [
    {
     "data": {
      "text/html": [
       "<div>\n",
       "<style scoped>\n",
       "    .dataframe tbody tr th:only-of-type {\n",
       "        vertical-align: middle;\n",
       "    }\n",
       "\n",
       "    .dataframe tbody tr th {\n",
       "        vertical-align: top;\n",
       "    }\n",
       "\n",
       "    .dataframe thead th {\n",
       "        text-align: right;\n",
       "    }\n",
       "</style>\n",
       "<table border=\"1\" class=\"dataframe\">\n",
       "  <thead>\n",
       "    <tr style=\"text-align: right;\">\n",
       "      <th></th>\n",
       "      <th>title</th>\n",
       "      <th>text</th>\n",
       "      <th>label</th>\n",
       "    </tr>\n",
       "  </thead>\n",
       "  <tbody>\n",
       "    <tr>\n",
       "      <th>0</th>\n",
       "      <td>Muslims BUSTED: They Stole Millions In Gov’t B...</td>\n",
       "      <td>Print They should pay all the back all the mon...</td>\n",
       "      <td>0</td>\n",
       "    </tr>\n",
       "  </tbody>\n",
       "</table>\n",
       "</div>"
      ],
      "text/plain": [
       "                                               title  \\\n",
       "0  Muslims BUSTED: They Stole Millions In Gov’t B...   \n",
       "\n",
       "                                                text  label  \n",
       "0  Print They should pay all the back all the mon...      0  "
      ]
     },
     "execution_count": 99,
     "metadata": {},
     "output_type": "execute_result"
    }
   ],
   "source": [
    "fake_news.head(1)"
   ]
  },
  {
   "cell_type": "code",
   "execution_count": 100,
   "metadata": {},
   "outputs": [],
   "source": [
    "true_news = df3[['title','text']]"
   ]
  },
  {
   "cell_type": "code",
   "execution_count": 101,
   "metadata": {},
   "outputs": [
    {
     "data": {
      "text/plain": [
       "title    0\n",
       "text     0\n",
       "dtype: int64"
      ]
     },
     "execution_count": 101,
     "metadata": {},
     "output_type": "execute_result"
    }
   ],
   "source": [
    "true_news.isnull().sum(axis=0)"
   ]
  },
  {
   "cell_type": "code",
   "execution_count": 102,
   "metadata": {},
   "outputs": [],
   "source": [
    "true_news['label']= 1"
   ]
  },
  {
   "cell_type": "code",
   "execution_count": 103,
   "metadata": {},
   "outputs": [
    {
     "data": {
      "text/html": [
       "<div>\n",
       "<style scoped>\n",
       "    .dataframe tbody tr th:only-of-type {\n",
       "        vertical-align: middle;\n",
       "    }\n",
       "\n",
       "    .dataframe tbody tr th {\n",
       "        vertical-align: top;\n",
       "    }\n",
       "\n",
       "    .dataframe thead th {\n",
       "        text-align: right;\n",
       "    }\n",
       "</style>\n",
       "<table border=\"1\" class=\"dataframe\">\n",
       "  <thead>\n",
       "    <tr style=\"text-align: right;\">\n",
       "      <th></th>\n",
       "      <th>title</th>\n",
       "      <th>text</th>\n",
       "      <th>label</th>\n",
       "    </tr>\n",
       "  </thead>\n",
       "  <tbody>\n",
       "    <tr>\n",
       "      <th>0</th>\n",
       "      <td>As U.S. budget fight looms, Republicans flip t...</td>\n",
       "      <td>WASHINGTON (Reuters) - The head of a conservat...</td>\n",
       "      <td>1</td>\n",
       "    </tr>\n",
       "    <tr>\n",
       "      <th>1</th>\n",
       "      <td>U.S. military to accept transgender recruits o...</td>\n",
       "      <td>WASHINGTON (Reuters) - Transgender people will...</td>\n",
       "      <td>1</td>\n",
       "    </tr>\n",
       "    <tr>\n",
       "      <th>2</th>\n",
       "      <td>Senior U.S. Republican senator: 'Let Mr. Muell...</td>\n",
       "      <td>WASHINGTON (Reuters) - The special counsel inv...</td>\n",
       "      <td>1</td>\n",
       "    </tr>\n",
       "    <tr>\n",
       "      <th>3</th>\n",
       "      <td>FBI Russia probe helped by Australian diplomat...</td>\n",
       "      <td>WASHINGTON (Reuters) - Trump campaign adviser ...</td>\n",
       "      <td>1</td>\n",
       "    </tr>\n",
       "    <tr>\n",
       "      <th>4</th>\n",
       "      <td>Trump wants Postal Service to charge 'much mor...</td>\n",
       "      <td>SEATTLE/WASHINGTON (Reuters) - President Donal...</td>\n",
       "      <td>1</td>\n",
       "    </tr>\n",
       "  </tbody>\n",
       "</table>\n",
       "</div>"
      ],
      "text/plain": [
       "                                               title  \\\n",
       "0  As U.S. budget fight looms, Republicans flip t...   \n",
       "1  U.S. military to accept transgender recruits o...   \n",
       "2  Senior U.S. Republican senator: 'Let Mr. Muell...   \n",
       "3  FBI Russia probe helped by Australian diplomat...   \n",
       "4  Trump wants Postal Service to charge 'much mor...   \n",
       "\n",
       "                                                text  label  \n",
       "0  WASHINGTON (Reuters) - The head of a conservat...      1  \n",
       "1  WASHINGTON (Reuters) - Transgender people will...      1  \n",
       "2  WASHINGTON (Reuters) - The special counsel inv...      1  \n",
       "3  WASHINGTON (Reuters) - Trump campaign adviser ...      1  \n",
       "4  SEATTLE/WASHINGTON (Reuters) - President Donal...      1  "
      ]
     },
     "execution_count": 103,
     "metadata": {},
     "output_type": "execute_result"
    }
   ],
   "source": [
    "true_news.head(5)"
   ]
  },
  {
   "cell_type": "code",
   "execution_count": 104,
   "metadata": {},
   "outputs": [],
   "source": [
    "new_data_set = pd.concat([fake_news,true_news], axis =0 )"
   ]
  },
  {
   "cell_type": "code",
   "execution_count": 105,
   "metadata": {},
   "outputs": [
    {
     "data": {
      "text/html": [
       "<div>\n",
       "<style scoped>\n",
       "    .dataframe tbody tr th:only-of-type {\n",
       "        vertical-align: middle;\n",
       "    }\n",
       "\n",
       "    .dataframe tbody tr th {\n",
       "        vertical-align: top;\n",
       "    }\n",
       "\n",
       "    .dataframe thead th {\n",
       "        text-align: right;\n",
       "    }\n",
       "</style>\n",
       "<table border=\"1\" class=\"dataframe\">\n",
       "  <thead>\n",
       "    <tr style=\"text-align: right;\">\n",
       "      <th></th>\n",
       "      <th>title</th>\n",
       "      <th>text</th>\n",
       "      <th>label</th>\n",
       "    </tr>\n",
       "  </thead>\n",
       "  <tbody>\n",
       "    <tr>\n",
       "      <th>21407</th>\n",
       "      <td>Mata Pires, owner of embattled Brazil builder ...</td>\n",
       "      <td>SAO PAULO (Reuters) - Cesar Mata Pires, the ow...</td>\n",
       "      <td>1</td>\n",
       "    </tr>\n",
       "    <tr>\n",
       "      <th>21408</th>\n",
       "      <td>U.S., North Korea clash at U.N. forum over nuc...</td>\n",
       "      <td>GENEVA (Reuters) - North Korea and the United ...</td>\n",
       "      <td>1</td>\n",
       "    </tr>\n",
       "    <tr>\n",
       "      <th>21409</th>\n",
       "      <td>U.S., North Korea clash at U.N. arms forum on ...</td>\n",
       "      <td>GENEVA (Reuters) - North Korea and the United ...</td>\n",
       "      <td>1</td>\n",
       "    </tr>\n",
       "    <tr>\n",
       "      <th>21410</th>\n",
       "      <td>Headless torso could belong to submarine journ...</td>\n",
       "      <td>COPENHAGEN (Reuters) - Danish police said on T...</td>\n",
       "      <td>1</td>\n",
       "    </tr>\n",
       "    <tr>\n",
       "      <th>21411</th>\n",
       "      <td>North Korea shipments to Syria chemical arms a...</td>\n",
       "      <td>UNITED NATIONS (Reuters) - Two North Korean sh...</td>\n",
       "      <td>1</td>\n",
       "    </tr>\n",
       "    <tr>\n",
       "      <th>21412</th>\n",
       "      <td>'Fully committed' NATO backs new U.S. approach...</td>\n",
       "      <td>BRUSSELS (Reuters) - NATO allies on Tuesday we...</td>\n",
       "      <td>1</td>\n",
       "    </tr>\n",
       "    <tr>\n",
       "      <th>21413</th>\n",
       "      <td>LexisNexis withdrew two products from Chinese ...</td>\n",
       "      <td>LONDON (Reuters) - LexisNexis, a provider of l...</td>\n",
       "      <td>1</td>\n",
       "    </tr>\n",
       "    <tr>\n",
       "      <th>21414</th>\n",
       "      <td>Minsk cultural hub becomes haven from authorities</td>\n",
       "      <td>MINSK (Reuters) - In the shadow of disused Sov...</td>\n",
       "      <td>1</td>\n",
       "    </tr>\n",
       "    <tr>\n",
       "      <th>21415</th>\n",
       "      <td>Vatican upbeat on possibility of Pope Francis ...</td>\n",
       "      <td>MOSCOW (Reuters) - Vatican Secretary of State ...</td>\n",
       "      <td>1</td>\n",
       "    </tr>\n",
       "    <tr>\n",
       "      <th>21416</th>\n",
       "      <td>Indonesia to buy $1.14 billion worth of Russia...</td>\n",
       "      <td>JAKARTA (Reuters) - Indonesia will buy 11 Sukh...</td>\n",
       "      <td>1</td>\n",
       "    </tr>\n",
       "  </tbody>\n",
       "</table>\n",
       "</div>"
      ],
      "text/plain": [
       "                                                   title  \\\n",
       "21407  Mata Pires, owner of embattled Brazil builder ...   \n",
       "21408  U.S., North Korea clash at U.N. forum over nuc...   \n",
       "21409  U.S., North Korea clash at U.N. arms forum on ...   \n",
       "21410  Headless torso could belong to submarine journ...   \n",
       "21411  North Korea shipments to Syria chemical arms a...   \n",
       "21412  'Fully committed' NATO backs new U.S. approach...   \n",
       "21413  LexisNexis withdrew two products from Chinese ...   \n",
       "21414  Minsk cultural hub becomes haven from authorities   \n",
       "21415  Vatican upbeat on possibility of Pope Francis ...   \n",
       "21416  Indonesia to buy $1.14 billion worth of Russia...   \n",
       "\n",
       "                                                    text  label  \n",
       "21407  SAO PAULO (Reuters) - Cesar Mata Pires, the ow...      1  \n",
       "21408  GENEVA (Reuters) - North Korea and the United ...      1  \n",
       "21409  GENEVA (Reuters) - North Korea and the United ...      1  \n",
       "21410  COPENHAGEN (Reuters) - Danish police said on T...      1  \n",
       "21411  UNITED NATIONS (Reuters) - Two North Korean sh...      1  \n",
       "21412  BRUSSELS (Reuters) - NATO allies on Tuesday we...      1  \n",
       "21413  LONDON (Reuters) - LexisNexis, a provider of l...      1  \n",
       "21414  MINSK (Reuters) - In the shadow of disused Sov...      1  \n",
       "21415  MOSCOW (Reuters) - Vatican Secretary of State ...      1  \n",
       "21416  JAKARTA (Reuters) - Indonesia will buy 11 Sukh...      1  "
      ]
     },
     "execution_count": 105,
     "metadata": {},
     "output_type": "execute_result"
    }
   ],
   "source": [
    "new_data_set.tail(10)"
   ]
  },
  {
   "cell_type": "code",
   "execution_count": 106,
   "metadata": {},
   "outputs": [],
   "source": [
    "new_suf_data_set = new_data_set.sample(frac = 1)"
   ]
  },
  {
   "cell_type": "code",
   "execution_count": 107,
   "metadata": {},
   "outputs": [
    {
     "data": {
      "text/html": [
       "<div>\n",
       "<style scoped>\n",
       "    .dataframe tbody tr th:only-of-type {\n",
       "        vertical-align: middle;\n",
       "    }\n",
       "\n",
       "    .dataframe tbody tr th {\n",
       "        vertical-align: top;\n",
       "    }\n",
       "\n",
       "    .dataframe thead th {\n",
       "        text-align: right;\n",
       "    }\n",
       "</style>\n",
       "<table border=\"1\" class=\"dataframe\">\n",
       "  <thead>\n",
       "    <tr style=\"text-align: right;\">\n",
       "      <th></th>\n",
       "      <th>title</th>\n",
       "      <th>text</th>\n",
       "      <th>label</th>\n",
       "    </tr>\n",
       "  </thead>\n",
       "  <tbody>\n",
       "    <tr>\n",
       "      <th>14296</th>\n",
       "      <td>Ukraine expels Belarus diplomat over Minsk spy...</td>\n",
       "      <td>KIEV (Reuters) - Ukraine said on Tuesday it ha...</td>\n",
       "      <td>1</td>\n",
       "    </tr>\n",
       "    <tr>\n",
       "      <th>18188</th>\n",
       "      <td>Germany lauds anti-nuclear campaign winning No...</td>\n",
       "      <td>BERLIN (Reuters) - Germany on Friday welcomed ...</td>\n",
       "      <td>1</td>\n",
       "    </tr>\n",
       "    <tr>\n",
       "      <th>13982</th>\n",
       "      <td>Newly freed Pakistani Islamist calls ex-PM Naw...</td>\n",
       "      <td>LAHORE, Pakistan (Reuters) - A newly freed Pak...</td>\n",
       "      <td>1</td>\n",
       "    </tr>\n",
       "    <tr>\n",
       "      <th>19296</th>\n",
       "      <td>Factbox: How U.S. multinationals in Puerto Ric...</td>\n",
       "      <td>(Reuters) - Hurricane Maria has devastated the...</td>\n",
       "      <td>1</td>\n",
       "    </tr>\n",
       "    <tr>\n",
       "      <th>5148</th>\n",
       "      <td>Most Idiotic Comment Ever? “Sell Gold Because ...</td>\n",
       "      <td>Financial Markets , Gold , Market Manipulation...</td>\n",
       "      <td>0</td>\n",
       "    </tr>\n",
       "    <tr>\n",
       "      <th>1415</th>\n",
       "      <td>Trump tax plan expends recession-fighting U.S....</td>\n",
       "      <td>WASHINGTON (Reuters) - President Donald Trump’...</td>\n",
       "      <td>1</td>\n",
       "    </tr>\n",
       "    <tr>\n",
       "      <th>11621</th>\n",
       "      <td>No clean sweep for South Africa's Ramaphosa in...</td>\n",
       "      <td>JOHANNESBURG (Reuters) - Cyril Ramaphosa may h...</td>\n",
       "      <td>1</td>\n",
       "    </tr>\n",
       "    <tr>\n",
       "      <th>12076</th>\n",
       "      <td>Vladimir Putin – Straight From the Horse’s Mouth</td>\n",
       "      <td>Waking Times \\nVladimir Putin in particular, a...</td>\n",
       "      <td>0</td>\n",
       "    </tr>\n",
       "    <tr>\n",
       "      <th>19911</th>\n",
       "      <td>North Korea says goal is 'equilibrium' with U....</td>\n",
       "      <td>SEOUL (Reuters) - North Korea s goal is reachi...</td>\n",
       "      <td>1</td>\n",
       "    </tr>\n",
       "    <tr>\n",
       "      <th>13427</th>\n",
       "      <td>Trump's Gulf policies impulsive and dangerous:...</td>\n",
       "      <td>ROME (Reuters) - U.S. President Donald Trump s...</td>\n",
       "      <td>1</td>\n",
       "    </tr>\n",
       "  </tbody>\n",
       "</table>\n",
       "</div>"
      ],
      "text/plain": [
       "                                                   title  \\\n",
       "14296  Ukraine expels Belarus diplomat over Minsk spy...   \n",
       "18188  Germany lauds anti-nuclear campaign winning No...   \n",
       "13982  Newly freed Pakistani Islamist calls ex-PM Naw...   \n",
       "19296  Factbox: How U.S. multinationals in Puerto Ric...   \n",
       "5148   Most Idiotic Comment Ever? “Sell Gold Because ...   \n",
       "1415   Trump tax plan expends recession-fighting U.S....   \n",
       "11621  No clean sweep for South Africa's Ramaphosa in...   \n",
       "12076   Vladimir Putin – Straight From the Horse’s Mouth   \n",
       "19911  North Korea says goal is 'equilibrium' with U....   \n",
       "13427  Trump's Gulf policies impulsive and dangerous:...   \n",
       "\n",
       "                                                    text  label  \n",
       "14296  KIEV (Reuters) - Ukraine said on Tuesday it ha...      1  \n",
       "18188  BERLIN (Reuters) - Germany on Friday welcomed ...      1  \n",
       "13982  LAHORE, Pakistan (Reuters) - A newly freed Pak...      1  \n",
       "19296  (Reuters) - Hurricane Maria has devastated the...      1  \n",
       "5148   Financial Markets , Gold , Market Manipulation...      0  \n",
       "1415   WASHINGTON (Reuters) - President Donald Trump’...      1  \n",
       "11621  JOHANNESBURG (Reuters) - Cyril Ramaphosa may h...      1  \n",
       "12076  Waking Times \\nVladimir Putin in particular, a...      0  \n",
       "19911  SEOUL (Reuters) - North Korea s goal is reachi...      1  \n",
       "13427  ROME (Reuters) - U.S. President Donald Trump s...      1  "
      ]
     },
     "execution_count": 107,
     "metadata": {},
     "output_type": "execute_result"
    }
   ],
   "source": [
    "new_suf_data_set.head(10)"
   ]
  },
  {
   "cell_type": "code",
   "execution_count": 108,
   "metadata": {},
   "outputs": [
    {
     "data": {
      "text/plain": [
       "2    Red State : \\nFox News Sunday reported this mo...\n",
       "2    WASHINGTON (Reuters) - The special counsel inv...\n",
       "Name: text, dtype: object"
      ]
     },
     "execution_count": 108,
     "metadata": {},
     "output_type": "execute_result"
    }
   ],
   "source": [
    "new_suf_data_set['text'][2]"
   ]
  },
  {
   "cell_type": "code",
   "execution_count": 109,
   "metadata": {},
   "outputs": [],
   "source": [
    "new_suf_data_set.reset_index(inplace = True)\n",
    "new_suf_data_set.drop([\"index\"], axis = 1, inplace = True)"
   ]
  },
  {
   "cell_type": "code",
   "execution_count": 110,
   "metadata": {},
   "outputs": [
    {
     "data": {
      "text/html": [
       "<div>\n",
       "<style scoped>\n",
       "    .dataframe tbody tr th:only-of-type {\n",
       "        vertical-align: middle;\n",
       "    }\n",
       "\n",
       "    .dataframe tbody tr th {\n",
       "        vertical-align: top;\n",
       "    }\n",
       "\n",
       "    .dataframe thead th {\n",
       "        text-align: right;\n",
       "    }\n",
       "</style>\n",
       "<table border=\"1\" class=\"dataframe\">\n",
       "  <thead>\n",
       "    <tr style=\"text-align: right;\">\n",
       "      <th></th>\n",
       "      <th>title</th>\n",
       "      <th>text</th>\n",
       "      <th>label</th>\n",
       "    </tr>\n",
       "  </thead>\n",
       "  <tbody>\n",
       "    <tr>\n",
       "      <th>0</th>\n",
       "      <td>Ukraine expels Belarus diplomat over Minsk spy...</td>\n",
       "      <td>KIEV (Reuters) - Ukraine said on Tuesday it ha...</td>\n",
       "      <td>1</td>\n",
       "    </tr>\n",
       "    <tr>\n",
       "      <th>1</th>\n",
       "      <td>Germany lauds anti-nuclear campaign winning No...</td>\n",
       "      <td>BERLIN (Reuters) - Germany on Friday welcomed ...</td>\n",
       "      <td>1</td>\n",
       "    </tr>\n",
       "    <tr>\n",
       "      <th>2</th>\n",
       "      <td>Newly freed Pakistani Islamist calls ex-PM Naw...</td>\n",
       "      <td>LAHORE, Pakistan (Reuters) - A newly freed Pak...</td>\n",
       "      <td>1</td>\n",
       "    </tr>\n",
       "    <tr>\n",
       "      <th>3</th>\n",
       "      <td>Factbox: How U.S. multinationals in Puerto Ric...</td>\n",
       "      <td>(Reuters) - Hurricane Maria has devastated the...</td>\n",
       "      <td>1</td>\n",
       "    </tr>\n",
       "    <tr>\n",
       "      <th>4</th>\n",
       "      <td>Most Idiotic Comment Ever? “Sell Gold Because ...</td>\n",
       "      <td>Financial Markets , Gold , Market Manipulation...</td>\n",
       "      <td>0</td>\n",
       "    </tr>\n",
       "    <tr>\n",
       "      <th>5</th>\n",
       "      <td>Trump tax plan expends recession-fighting U.S....</td>\n",
       "      <td>WASHINGTON (Reuters) - President Donald Trump’...</td>\n",
       "      <td>1</td>\n",
       "    </tr>\n",
       "    <tr>\n",
       "      <th>6</th>\n",
       "      <td>No clean sweep for South Africa's Ramaphosa in...</td>\n",
       "      <td>JOHANNESBURG (Reuters) - Cyril Ramaphosa may h...</td>\n",
       "      <td>1</td>\n",
       "    </tr>\n",
       "    <tr>\n",
       "      <th>7</th>\n",
       "      <td>Vladimir Putin – Straight From the Horse’s Mouth</td>\n",
       "      <td>Waking Times \\nVladimir Putin in particular, a...</td>\n",
       "      <td>0</td>\n",
       "    </tr>\n",
       "    <tr>\n",
       "      <th>8</th>\n",
       "      <td>North Korea says goal is 'equilibrium' with U....</td>\n",
       "      <td>SEOUL (Reuters) - North Korea s goal is reachi...</td>\n",
       "      <td>1</td>\n",
       "    </tr>\n",
       "    <tr>\n",
       "      <th>9</th>\n",
       "      <td>Trump's Gulf policies impulsive and dangerous:...</td>\n",
       "      <td>ROME (Reuters) - U.S. President Donald Trump s...</td>\n",
       "      <td>1</td>\n",
       "    </tr>\n",
       "  </tbody>\n",
       "</table>\n",
       "</div>"
      ],
      "text/plain": [
       "                                               title  \\\n",
       "0  Ukraine expels Belarus diplomat over Minsk spy...   \n",
       "1  Germany lauds anti-nuclear campaign winning No...   \n",
       "2  Newly freed Pakistani Islamist calls ex-PM Naw...   \n",
       "3  Factbox: How U.S. multinationals in Puerto Ric...   \n",
       "4  Most Idiotic Comment Ever? “Sell Gold Because ...   \n",
       "5  Trump tax plan expends recession-fighting U.S....   \n",
       "6  No clean sweep for South Africa's Ramaphosa in...   \n",
       "7   Vladimir Putin – Straight From the Horse’s Mouth   \n",
       "8  North Korea says goal is 'equilibrium' with U....   \n",
       "9  Trump's Gulf policies impulsive and dangerous:...   \n",
       "\n",
       "                                                text  label  \n",
       "0  KIEV (Reuters) - Ukraine said on Tuesday it ha...      1  \n",
       "1  BERLIN (Reuters) - Germany on Friday welcomed ...      1  \n",
       "2  LAHORE, Pakistan (Reuters) - A newly freed Pak...      1  \n",
       "3  (Reuters) - Hurricane Maria has devastated the...      1  \n",
       "4  Financial Markets , Gold , Market Manipulation...      0  \n",
       "5  WASHINGTON (Reuters) - President Donald Trump’...      1  \n",
       "6  JOHANNESBURG (Reuters) - Cyril Ramaphosa may h...      1  \n",
       "7  Waking Times \\nVladimir Putin in particular, a...      0  \n",
       "8  SEOUL (Reuters) - North Korea s goal is reachi...      1  \n",
       "9  ROME (Reuters) - U.S. President Donald Trump s...      1  "
      ]
     },
     "execution_count": 110,
     "metadata": {},
     "output_type": "execute_result"
    }
   ],
   "source": [
    "new_suf_data_set.head(10)"
   ]
  },
  {
   "cell_type": "code",
   "execution_count": 111,
   "metadata": {},
   "outputs": [
    {
     "data": {
      "text/plain": [
       "'LAHORE, Pakistan (Reuters) - A newly freed Pakistani Islamist accused of masterminding a bloody 2008 assault in the Indian city of Mumbai called on Friday ousted former Prime Minister Nawaz Sharif a  traitor  for seeking peace with neighbor and arch-foe India. Hafiz Saeed, who has a $10 million U.S. bounty on his head over the Mumbai attack, spoke at Friday prayers after being freed earlier in the day from 11 months of house arrest by a court that said there was no evidence to hold him. Saeed was placed under house arrest in January while Sharif was still prime minister, a move that drew praise from India, long furious at Saeed s freedom in Pakistan. A Supreme Court ruling disqualified Sharif from office in July over a corruption investigation, though his party still runs the government. Saeed, however, said Sharif deserved to be removed for his peace overtures with Indian Prime Minister Narendra Modi.  Nawaz Sharif asks why he was ousted? I tell him he was ousted because he committed treason against Pakistan by developing friendship with Modi, killers of thousands of Muslims,  Saeed said. '"
      ]
     },
     "execution_count": 111,
     "metadata": {},
     "output_type": "execute_result"
    }
   ],
   "source": [
    "new_suf_data_set['text'][2]"
   ]
  },
  {
   "cell_type": "code",
   "execution_count": 112,
   "metadata": {},
   "outputs": [
    {
     "data": {
      "text/plain": [
       "\"Newly freed Pakistani Islamist calls ex-PM Nawaz Sharif a 'traitor'\""
      ]
     },
     "execution_count": 112,
     "metadata": {},
     "output_type": "execute_result"
    }
   ],
   "source": [
    "new_suf_data_set['title'][2]"
   ]
  },
  {
   "cell_type": "code",
   "execution_count": 113,
   "metadata": {},
   "outputs": [],
   "source": [
    "new_suf_data_set = new_suf_data_set.drop('title',axis=1)"
   ]
  },
  {
   "cell_type": "code",
   "execution_count": 114,
   "metadata": {},
   "outputs": [
    {
     "data": {
      "text/html": [
       "<div>\n",
       "<style scoped>\n",
       "    .dataframe tbody tr th:only-of-type {\n",
       "        vertical-align: middle;\n",
       "    }\n",
       "\n",
       "    .dataframe tbody tr th {\n",
       "        vertical-align: top;\n",
       "    }\n",
       "\n",
       "    .dataframe thead th {\n",
       "        text-align: right;\n",
       "    }\n",
       "</style>\n",
       "<table border=\"1\" class=\"dataframe\">\n",
       "  <thead>\n",
       "    <tr style=\"text-align: right;\">\n",
       "      <th></th>\n",
       "      <th>text</th>\n",
       "      <th>label</th>\n",
       "    </tr>\n",
       "  </thead>\n",
       "  <tbody>\n",
       "    <tr>\n",
       "      <th>0</th>\n",
       "      <td>KIEV (Reuters) - Ukraine said on Tuesday it ha...</td>\n",
       "      <td>1</td>\n",
       "    </tr>\n",
       "  </tbody>\n",
       "</table>\n",
       "</div>"
      ],
      "text/plain": [
       "                                                text  label\n",
       "0  KIEV (Reuters) - Ukraine said on Tuesday it ha...      1"
      ]
     },
     "execution_count": 114,
     "metadata": {},
     "output_type": "execute_result"
    }
   ],
   "source": [
    "new_suf_data_set.head(1)"
   ]
  },
  {
   "cell_type": "code",
   "execution_count": 115,
   "metadata": {},
   "outputs": [],
   "source": [
    "import re"
   ]
  },
  {
   "cell_type": "code",
   "execution_count": 116,
   "metadata": {},
   "outputs": [],
   "source": [
    "def wordopt(text):\n",
    "    text = text.lower()\n",
    "    text = re.sub('\\[.*?\\]', '', text)\n",
    "    text = re.sub(\"\\\\W\",\" \",text) \n",
    "    text = re.sub('https?://\\S+|www\\.\\S+', '', text)\n",
    "    text = re.sub('<.*?>+', '', text)\n",
    "    text = re.sub('[%s]' % re.escape(string.punctuation), '', text)\n",
    "    text = re.sub('\\n', '', text)\n",
    "    text = re.sub('\\w*\\d\\w*', '', text)    \n",
    "    return text\n",
    "\n",
    "\n",
    "new_suf_data_set[\"text\"] = new_suf_data_set[\"text\"].apply(wordopt)"
   ]
  },
  {
   "cell_type": "code",
   "execution_count": 117,
   "metadata": {},
   "outputs": [
    {
     "data": {
      "text/html": [
       "<div>\n",
       "<style scoped>\n",
       "    .dataframe tbody tr th:only-of-type {\n",
       "        vertical-align: middle;\n",
       "    }\n",
       "\n",
       "    .dataframe tbody tr th {\n",
       "        vertical-align: top;\n",
       "    }\n",
       "\n",
       "    .dataframe thead th {\n",
       "        text-align: right;\n",
       "    }\n",
       "</style>\n",
       "<table border=\"1\" class=\"dataframe\">\n",
       "  <thead>\n",
       "    <tr style=\"text-align: right;\">\n",
       "      <th></th>\n",
       "      <th>text</th>\n",
       "      <th>label</th>\n",
       "    </tr>\n",
       "  </thead>\n",
       "  <tbody>\n",
       "    <tr>\n",
       "      <th>0</th>\n",
       "      <td>kiev  reuters    ukraine said on tuesday it ha...</td>\n",
       "      <td>1</td>\n",
       "    </tr>\n",
       "    <tr>\n",
       "      <th>1</th>\n",
       "      <td>berlin  reuters    germany on friday welcomed ...</td>\n",
       "      <td>1</td>\n",
       "    </tr>\n",
       "    <tr>\n",
       "      <th>2</th>\n",
       "      <td>lahore  pakistan  reuters    a newly freed pak...</td>\n",
       "      <td>1</td>\n",
       "    </tr>\n",
       "    <tr>\n",
       "      <th>3</th>\n",
       "      <td>reuters    hurricane maria has devastated the...</td>\n",
       "      <td>1</td>\n",
       "    </tr>\n",
       "    <tr>\n",
       "      <th>4</th>\n",
       "      <td>financial markets   gold   market manipulation...</td>\n",
       "      <td>0</td>\n",
       "    </tr>\n",
       "  </tbody>\n",
       "</table>\n",
       "</div>"
      ],
      "text/plain": [
       "                                                text  label\n",
       "0  kiev  reuters    ukraine said on tuesday it ha...      1\n",
       "1  berlin  reuters    germany on friday welcomed ...      1\n",
       "2  lahore  pakistan  reuters    a newly freed pak...      1\n",
       "3   reuters    hurricane maria has devastated the...      1\n",
       "4  financial markets   gold   market manipulation...      0"
      ]
     },
     "execution_count": 117,
     "metadata": {},
     "output_type": "execute_result"
    }
   ],
   "source": [
    "new_suf_data_set.head(5)"
   ]
  },
  {
   "cell_type": "code",
   "execution_count": 118,
   "metadata": {},
   "outputs": [],
   "source": [
    "x = new_suf_data_set[\"text\"]\n",
    "y = new_suf_data_set[\"label\"]"
   ]
  },
  {
   "cell_type": "code",
   "execution_count": 119,
   "metadata": {},
   "outputs": [],
   "source": [
    "from sklearn.model_selection import train_test_split"
   ]
  },
  {
   "cell_type": "code",
   "execution_count": 120,
   "metadata": {},
   "outputs": [],
   "source": [
    "x_train, x_test, y_train, y_test = train_test_split(x, y, test_size=0.3,random_state=143)"
   ]
  },
  {
   "cell_type": "code",
   "execution_count": 121,
   "metadata": {},
   "outputs": [],
   "source": [
    "from sklearn.feature_extraction.text import TfidfVectorizer"
   ]
  },
  {
   "cell_type": "code",
   "execution_count": 122,
   "metadata": {},
   "outputs": [],
   "source": [
    "vectorization = TfidfVectorizer()\n",
    "xv_train = vectorization.fit_transform(x_train)\n",
    "xv_test = vectorization.transform(x_test)"
   ]
  },
  {
   "cell_type": "code",
   "execution_count": 123,
   "metadata": {},
   "outputs": [],
   "source": [
    "from sklearn.naive_bayes import GaussianNB"
   ]
  },
  {
   "cell_type": "code",
   "execution_count": 124,
   "metadata": {},
   "outputs": [],
   "source": [
    "from sklearn.linear_model import LogisticRegression"
   ]
  },
  {
   "cell_type": "code",
   "execution_count": 125,
   "metadata": {},
   "outputs": [
    {
     "data": {
      "text/plain": [
       "LogisticRegression(C=1.0, class_weight=None, dual=False, fit_intercept=True,\n",
       "                   intercept_scaling=1, l1_ratio=None, max_iter=100,\n",
       "                   multi_class='auto', n_jobs=None, penalty='l2',\n",
       "                   random_state=None, solver='lbfgs', tol=0.0001, verbose=0,\n",
       "                   warm_start=False)"
      ]
     },
     "execution_count": 125,
     "metadata": {},
     "output_type": "execute_result"
    }
   ],
   "source": [
    "regressor = LogisticRegression()\n",
    "regressor.fit(xv_train,y_train)"
   ]
  },
  {
   "cell_type": "code",
   "execution_count": 126,
   "metadata": {},
   "outputs": [],
   "source": [
    "predic_regressor=regressor.predict(xv_test)"
   ]
  },
  {
   "cell_type": "code",
   "execution_count": 127,
   "metadata": {},
   "outputs": [],
   "source": [
    "from sklearn.metrics import classification_report\n",
    "from sklearn.metrics import accuracy_score\n",
    "from sklearn.metrics import confusion_matrix\n"
   ]
  },
  {
   "cell_type": "code",
   "execution_count": 128,
   "metadata": {},
   "outputs": [
    {
     "data": {
      "text/plain": [
       "<matplotlib.axes._subplots.AxesSubplot at 0x1aadd557a08>"
      ]
     },
     "execution_count": 128,
     "metadata": {},
     "output_type": "execute_result"
    },
    {
     "data": {
      "image/png": "[encoded data removed]",
      "text/plain": [
       "<Figure size 432x288 with 1 Axes>"
      ]
     },
     "metadata": {
      "needs_background": "light"
     },
     "output_type": "display_data"
    }
   ],
   "source": [
    "sns.heatmap(confusion_matrix(y_test, predic_regressor).astype(int),annot=True,cbar=False,xticklabels=['fake','true'],yticklabels=['fake','true'],cmap='viridis_r',fmt='.1f')"
   ]
  },
  {
   "cell_type": "code",
   "execution_count": 129,
   "metadata": {},
   "outputs": [
    {
     "data": {
      "text/plain": [
       "0.9833475661827498"
      ]
     },
     "execution_count": 129,
     "metadata": {},
     "output_type": "execute_result"
    }
   ],
   "source": [
    "accuracy_score(y_test, predic_regressor)"
   ]
  },
  {
   "cell_type": "code",
   "execution_count": 130,
   "metadata": {},
   "outputs": [
    {
     "name": "stdout",
     "output_type": "stream",
     "text": [
      "              precision    recall  f1-score   support\n",
      "\n",
      "           0       0.99      0.96      0.97      2953\n",
      "           1       0.98      1.00      0.99      6415\n",
      "\n",
      "    accuracy                           0.98      9368\n",
      "   macro avg       0.99      0.98      0.98      9368\n",
      "weighted avg       0.98      0.98      0.98      9368\n",
      "\n"
     ]
    }
   ],
   "source": [
    "print(classification_report(y_test, predic_regressor))"
   ]
  },
  {
   "cell_type": "code",
   "execution_count": 131,
   "metadata": {},
   "outputs": [],
   "source": [
    "from sklearn.tree import DecisionTreeClassifier"
   ]
  },
  {
   "cell_type": "code",
   "execution_count": 132,
   "metadata": {},
   "outputs": [
    {
     "data": {
      "text/plain": [
       "DecisionTreeClassifier(ccp_alpha=0.0, class_weight=None, criterion='gini',\n",
       "                       max_depth=None, max_features=None, max_leaf_nodes=None,\n",
       "                       min_impurity_decrease=0.0, min_impurity_split=None,\n",
       "                       min_samples_leaf=1, min_samples_split=2,\n",
       "                       min_weight_fraction_leaf=0.0, presort='deprecated',\n",
       "                       random_state=None, splitter='best')"
      ]
     },
     "execution_count": 132,
     "metadata": {},
     "output_type": "execute_result"
    }
   ],
   "source": [
    "tree = DecisionTreeClassifier()\n",
    "tree.fit(xv_train, y_train)"
   ]
  },
  {
   "cell_type": "code",
   "execution_count": 133,
   "metadata": {},
   "outputs": [],
   "source": [
    "predic_tree = tree.predict(xv_test)"
   ]
  },
  {
   "cell_type": "code",
   "execution_count": 134,
   "metadata": {},
   "outputs": [
    {
     "data": {
      "text/plain": [
       "<matplotlib.axes._subplots.AxesSubplot at 0x1aadd5f63c8>"
      ]
     },
     "execution_count": 134,
     "metadata": {},
     "output_type": "execute_result"
    },
    {
     "data": {
      "image/png": "[encoded data removed]",
      "text/plain": [
       "<Figure size 432x288 with 1 Axes>"
      ]
     },
     "metadata": {
      "needs_background": "light"
     },
     "output_type": "display_data"
    }
   ],
   "source": [
    "sns.heatmap(confusion_matrix(y_test, predic_tree).astype(int),annot=True,cbar=False,xticklabels=['fake','true'],yticklabels=['fake','true'],cmap='viridis',fmt='.1f')"
   ]
  },
  {
   "cell_type": "code",
   "execution_count": 135,
   "metadata": {},
   "outputs": [
    {
     "data": {
      "text/plain": [
       "0.9929547395388557"
      ]
     },
     "execution_count": 135,
     "metadata": {},
     "output_type": "execute_result"
    }
   ],
   "source": [
    "accuracy_score(y_test, predic_tree)"
   ]
  },
  {
   "cell_type": "code",
   "execution_count": 136,
   "metadata": {},
   "outputs": [
    {
     "name": "stdout",
     "output_type": "stream",
     "text": [
      "              precision    recall  f1-score   support\n",
      "\n",
      "           0       0.99      0.99      0.99      2953\n",
      "           1       1.00      0.99      0.99      6415\n",
      "\n",
      "    accuracy                           0.99      9368\n",
      "   macro avg       0.99      0.99      0.99      9368\n",
      "weighted avg       0.99      0.99      0.99      9368\n",
      "\n"
     ]
    }
   ],
   "source": [
    "print(classification_report(y_test, predic_tree))"
   ]
  },
  {
   "cell_type": "code",
   "execution_count": 137,
   "metadata": {},
   "outputs": [],
   "source": [
    "from sklearn.ensemble import RandomForestClassifier"
   ]
  },
  {
   "cell_type": "code",
   "execution_count": 138,
   "metadata": {},
   "outputs": [
    {
     "data": {
      "text/plain": [
       "RandomForestClassifier(bootstrap=True, ccp_alpha=0.0, class_weight=None,\n",
       "                       criterion='gini', max_depth=None, max_features='auto',\n",
       "                       max_leaf_nodes=None, max_samples=None,\n",
       "                       min_impurity_decrease=0.0, min_impurity_split=None,\n",
       "                       min_samples_leaf=1, min_samples_split=2,\n",
       "                       min_weight_fraction_leaf=0.0, n_estimators=100,\n",
       "                       n_jobs=None, oob_score=False, random_state=143,\n",
       "                       verbose=0, warm_start=False)"
      ]
     },
     "execution_count": 138,
     "metadata": {},
     "output_type": "execute_result"
    }
   ],
   "source": [
    "RFC = RandomForestClassifier(random_state=143)\n",
    "RFC.fit(xv_train, y_train)"
   ]
  },
  {
   "cell_type": "code",
   "execution_count": 139,
   "metadata": {},
   "outputs": [],
   "source": [
    "predic_rfc = RFC.predict(xv_test)"
   ]
  },
  {
   "cell_type": "code",
   "execution_count": 140,
   "metadata": {},
   "outputs": [
    {
     "data": {
      "text/plain": [
       "array([[2690,  263],\n",
       "       [   8, 6407]], dtype=int64)"
      ]
     },
     "execution_count": 140,
     "metadata": {},
     "output_type": "execute_result"
    }
   ],
   "source": [
    "confusion_matrix(y_test, predic_rfc)"
   ]
  },
  {
   "cell_type": "code",
   "execution_count": 141,
   "metadata": {},
   "outputs": [
    {
     "data": {
      "text/plain": [
       "<matplotlib.axes._subplots.AxesSubplot at 0x1aadd5792c8>"
      ]
     },
     "execution_count": 141,
     "metadata": {},
     "output_type": "execute_result"
    },
    {
     "data": {
      "image/png": "[encoded data removed]",
      "text/plain": [
       "<Figure size 432x288 with 1 Axes>"
      ]
     },
     "metadata": {
      "needs_background": "light"
     },
     "output_type": "display_data"
    }
   ],
   "source": [
    "sns.heatmap(confusion_matrix(y_test, predic_rfc).astype(int),annot=True,cbar=False,xticklabels=['fake','true'],yticklabels=['fake','true'],cmap='viridis',fmt='.1f')"
   ]
  },
  {
   "cell_type": "code",
   "execution_count": 142,
   "metadata": {},
   "outputs": [
    {
     "data": {
      "text/plain": [
       "0.9710717335610589"
      ]
     },
     "execution_count": 142,
     "metadata": {},
     "output_type": "execute_result"
    }
   ],
   "source": [
    "accuracy_score(y_test, predic_rfc)"
   ]
  },
  {
   "cell_type": "code",
   "execution_count": 143,
   "metadata": {},
   "outputs": [
    {
     "name": "stdout",
     "output_type": "stream",
     "text": [
      "              precision    recall  f1-score   support\n",
      "\n",
      "           0       1.00      0.91      0.95      2953\n",
      "           1       0.96      1.00      0.98      6415\n",
      "\n",
      "    accuracy                           0.97      9368\n",
      "   macro avg       0.98      0.95      0.97      9368\n",
      "weighted avg       0.97      0.97      0.97      9368\n",
      "\n"
     ]
    }
   ],
   "source": [
    "print(classification_report(y_test, predic_rfc))"
   ]
  },
  {
   "cell_type": "code",
   "execution_count": 147,
   "metadata": {},
   "outputs": [],
   "source": [
    "\n",
    "def output_lable(n):\n",
    "    if n == 0:\n",
    "        return \"Fake News\"\n",
    "    elif n == 1:\n",
    "        return \"Not A Fake News!!!!\"\n",
    "    \n",
    "def manual_testing(news):\n",
    "    testing_news = {\"text\":[news]}\n",
    "    new_def_test = pd.DataFrame(testing_news)\n",
    "    new_def_test[\"text\"] = new_def_test[\"text\"].apply(wordopt) \n",
    "    new_x_test = new_def_test[\"text\"]\n",
    "    new_xv_test = vectorization.transform(new_x_test)\n",
    "    predic_regressor = regressor.predict(new_xv_test)\n",
    "    predic_tree = tree.predict(new_xv_test)\n",
    "    predic_RFC = RFC.predict(new_xv_test)\n",
    "\n",
    "    return print(\"\\n\\nLR Prediction: {} \\nDT Prediction: {}  \\nRFC Prediction: {}\".format(output_lable(predic_regressor[0]), \n",
    "                                                                                                              output_lable(predic_tree[0]), \n",
    "                                                                                                              output_lable(predic_RFC[0])))"
   ]
  },
  {
   "cell_type": "code",
   "execution_count": 148,
   "metadata": {},
   "outputs": [
    {
     "name": "stdout",
     "output_type": "stream",
     "text": [
      "email  a couple of weeks ago  it looked like hillary clinton was all set to cruise to victory   but now the fbi has delivered an election miracle in the nick of time  a few of my readers had criticized me for suggesting that trump might lose  but i don t know who is going to win the election  and so all i had to go on was the cold  hard numbers  and a couple of weeks ago the cold  hard numbers were telling me   was going to win  of course it is entirely possible that the national polls might have been seriously wrong  but even the state polls in the most important battleground states consistently had bad news for trump  so things didn t look good for trump at the time  but now   their   emails the poll numbers have shifted dramatically in trump s favor    as i write this article  the national polls have really tightened up  in fact  the latest abc news washington post tracking poll puts trump  point ahead of clinton  trump has all of the momentum at the moment  but that does not mean that he is going to win  as we have seen already in this race  one day can literally change everything   and as i noted yesterday   more than  million americans have already voted  and most of that voting was done during a period of time when hillary clinton was doing very well in the polls   so we shall see what happens  but if trump does win on november   there is a fact about his birthday which will start to get a lot of attention   donald trump was born on june     if you move ahead  years from that date  that brings you to june     moving forward another  months brings you to january     and moving forward another  days brings you to january      and if donald trump wins the election  january  will be his first full day in office   of course trump would be inaugurated on january   but he would only be president for part of that day   so that means that donald trump would be  years   months and  days old on his first full day as president of the united states   and this would happen during year  on the hebrew calendar   these amazing  coincidences  were first pointed out on facebook by a user named alyson kelly  some may take these numbers as a sign that donald trump is supposed to become the next president  but i want to make it exceedingly clear that i do not know what is going to happen  nor am i making any sort of prediction about what is going to happen   i just thought that this information was  interesting  and so i thought that i would share it   someone that does believe that trump is going to win is glenn beck  he was been virulently anti trump throughout this campaign  but now he is convinced that clinton will be unable to overcome this new email scandal  and he is calling this renewed investigation by the fbi  the greatest gift given to any candidate of all time in the history of america    beck also says that if clinton wins now it will be evidence that  magic exists   and he is currently projecting that trump should win the national vote by  points     let s just say he was  points  that was fair to say   points behind last week   beck said  according to a transcript posted on his website    he should win by  points    beck later added   how can the next president face a possible collapsing economy  possible war with russia  and a current war with isis  oh  and also  be under fbi investigation and indictment  can t  can t    the conservative personality called the latest fbi revelation  the greatest gift given to any candidate of all time in the history of america  and added that if clinton still managed to win  it would be akin to proof  magic exists    hopefully glenn beck is right  because none of us should want to see hillary clinton in the white house   she is the most evil  corrupt and scandal ridden politician of this generation  and i can t understand how any american in their right mind could possibly vote for her   and the hits just keep on coming  wikileaks has just released an email in which john podesta told clinton  fixer  cheryl mills that they were  going to have to dump all those emails so better to do so sooner than later     it was not entirely clear what podesta meant by that phrase  but it could potentially be smoking gun      back in   barack obama was new  intriguing and mysterious  we didn t know a lot about him  and so one can almost understand how the american people could have been fooled by him   but in   americans know more about hillary clinton than they have ever known about any candidate in modern american history   the clintons have a history of crimes and scandals that goes all the way back to the   but about half the country is choosing to ignore all of that history and vote for her anyway   i believe that this election is america s final exam  originally there were  republicans and  democrats running for the presidency  when you throw in the major third party candidates  that brings us to a total of approximately  people that the american public could have chosen from   if the american people willingly choose the most wicked candidate out of all of them after everything that has been revealed  i don t think that anyone will be able to say that we don t deserve the bitter consequences that follow that decision   the time for talking is almost over  and shortly we shall find out which path the american people have chosen   if that choice turns out to be hillary clinton after everything that we have seen during this election cycle  i truly believe that we will have reached the point of no return as a nation     shares'\n",
      "\n",
      "\n",
      "LR Prediction: Fake News \n",
      "DT Prediction: Fake News  \n",
      "RFC Prediction: Fake News\n"
     ]
    }
   ],
   "source": [
    "news = str(input())\n",
    "manual_testing(news)"
   ]
  },
  {
   "cell_type": "code",
   "execution_count": null,
   "metadata": {},
   "outputs": [],
   "source": []
  },
  {
   "cell_type": "code",
   "execution_count": 144,
   "metadata": {},
   "outputs": [
    {
     "data": {
      "text/html": [
       "<div>\n",
       "<style scoped>\n",
       "    .dataframe tbody tr th:only-of-type {\n",
       "        vertical-align: middle;\n",
       "    }\n",
       "\n",
       "    .dataframe tbody tr th {\n",
       "        vertical-align: top;\n",
       "    }\n",
       "\n",
       "    .dataframe thead th {\n",
       "        text-align: right;\n",
       "    }\n",
       "</style>\n",
       "<table border=\"1\" class=\"dataframe\">\n",
       "  <thead>\n",
       "    <tr style=\"text-align: right;\">\n",
       "      <th></th>\n",
       "      <th>text</th>\n",
       "      <th>label</th>\n",
       "    </tr>\n",
       "  </thead>\n",
       "  <tbody>\n",
       "    <tr>\n",
       "      <th>31221</th>\n",
       "      <td>email  a couple of weeks ago  it looked like h...</td>\n",
       "      <td>0</td>\n",
       "    </tr>\n",
       "    <tr>\n",
       "      <th>31222</th>\n",
       "      <td>on tuesday night  in a scenario that has only ...</td>\n",
       "      <td>0</td>\n",
       "    </tr>\n",
       "    <tr>\n",
       "      <th>31223</th>\n",
       "      <td>a leading us attorney warned staffers that man...</td>\n",
       "      <td>0</td>\n",
       "    </tr>\n",
       "    <tr>\n",
       "      <th>31224</th>\n",
       "      <td>november    iranians arrested after celebratin...</td>\n",
       "      <td>0</td>\n",
       "    </tr>\n",
       "    <tr>\n",
       "      <th>31225</th>\n",
       "      <td>hillary camp caught on camera telling tiny cro...</td>\n",
       "      <td>0</td>\n",
       "    </tr>\n",
       "  </tbody>\n",
       "</table>\n",
       "</div>"
      ],
      "text/plain": [
       "                                                    text  label\n",
       "31221  email  a couple of weeks ago  it looked like h...      0\n",
       "31222  on tuesday night  in a scenario that has only ...      0\n",
       "31223  a leading us attorney warned staffers that man...      0\n",
       "31224  november    iranians arrested after celebratin...      0\n",
       "31225  hillary camp caught on camera telling tiny cro...      0"
      ]
     },
     "execution_count": 144,
     "metadata": {},
     "output_type": "execute_result"
    }
   ],
   "source": [
    "new_suf_data_set.tail(5)"
   ]
  },
  {
   "cell_type": "code",
   "execution_count": 145,
   "metadata": {},
   "outputs": [
    {
     "data": {
      "text/html": [
       "<div>\n",
       "<style scoped>\n",
       "    .dataframe tbody tr th:only-of-type {\n",
       "        vertical-align: middle;\n",
       "    }\n",
       "\n",
       "    .dataframe tbody tr th {\n",
       "        vertical-align: top;\n",
       "    }\n",
       "\n",
       "    .dataframe thead th {\n",
       "        text-align: right;\n",
       "    }\n",
       "</style>\n",
       "<table border=\"1\" class=\"dataframe\">\n",
       "  <thead>\n",
       "    <tr style=\"text-align: right;\">\n",
       "      <th></th>\n",
       "      <th>text</th>\n",
       "      <th>label</th>\n",
       "    </tr>\n",
       "  </thead>\n",
       "  <tbody>\n",
       "    <tr>\n",
       "      <th>31216</th>\n",
       "      <td>why save american politics  by daily bell staf...</td>\n",
       "      <td>0</td>\n",
       "    </tr>\n",
       "    <tr>\n",
       "      <th>31217</th>\n",
       "      <td>kigali  reuters    a rwandan opposition offici...</td>\n",
       "      <td>1</td>\n",
       "    </tr>\n",
       "    <tr>\n",
       "      <th>31218</th>\n",
       "      <td>reuters    donald trump on wednesday picked s...</td>\n",
       "      <td>1</td>\n",
       "    </tr>\n",
       "    <tr>\n",
       "      <th>31219</th>\n",
       "      <td>shanghai beijing  reuters    when ryb educatio...</td>\n",
       "      <td>1</td>\n",
       "    </tr>\n",
       "    <tr>\n",
       "      <th>31220</th>\n",
       "      <td>washington new york  reuters    the mass shoot...</td>\n",
       "      <td>1</td>\n",
       "    </tr>\n",
       "    <tr>\n",
       "      <th>31221</th>\n",
       "      <td>email  a couple of weeks ago  it looked like h...</td>\n",
       "      <td>0</td>\n",
       "    </tr>\n",
       "    <tr>\n",
       "      <th>31222</th>\n",
       "      <td>on tuesday night  in a scenario that has only ...</td>\n",
       "      <td>0</td>\n",
       "    </tr>\n",
       "    <tr>\n",
       "      <th>31223</th>\n",
       "      <td>a leading us attorney warned staffers that man...</td>\n",
       "      <td>0</td>\n",
       "    </tr>\n",
       "    <tr>\n",
       "      <th>31224</th>\n",
       "      <td>november    iranians arrested after celebratin...</td>\n",
       "      <td>0</td>\n",
       "    </tr>\n",
       "    <tr>\n",
       "      <th>31225</th>\n",
       "      <td>hillary camp caught on camera telling tiny cro...</td>\n",
       "      <td>0</td>\n",
       "    </tr>\n",
       "  </tbody>\n",
       "</table>\n",
       "</div>"
      ],
      "text/plain": [
       "                                                    text  label\n",
       "31216  why save american politics  by daily bell staf...      0\n",
       "31217  kigali  reuters    a rwandan opposition offici...      1\n",
       "31218   reuters    donald trump on wednesday picked s...      1\n",
       "31219  shanghai beijing  reuters    when ryb educatio...      1\n",
       "31220  washington new york  reuters    the mass shoot...      1\n",
       "31221  email  a couple of weeks ago  it looked like h...      0\n",
       "31222  on tuesday night  in a scenario that has only ...      0\n",
       "31223  a leading us attorney warned staffers that man...      0\n",
       "31224  november    iranians arrested after celebratin...      0\n",
       "31225  hillary camp caught on camera telling tiny cro...      0"
      ]
     },
     "execution_count": 145,
     "metadata": {},
     "output_type": "execute_result"
    }
   ],
   "source": [
    "new_suf_data_set.tail(10)"
   ]
  },
  {
   "cell_type": "code",
   "execution_count": 146,
   "metadata": {},
   "outputs": [
    {
     "data": {
      "text/plain": [
       "'email  a couple of weeks ago  it looked like hillary clinton was all set to cruise to victory   but now the fbi has delivered an election miracle in the nick of time  a few of my readers had criticized me for suggesting that trump might lose  but i don t know who is going to win the election  and so all i had to go on was the cold  hard numbers  and a couple of weeks ago the cold  hard numbers were telling me   was going to win  of course it is entirely possible that the national polls might have been seriously wrong  but even the state polls in the most important battleground states consistently had bad news for trump  so things didn t look good for trump at the time  but now   their   emails the poll numbers have shifted dramatically in trump s favor    as i write this article  the national polls have really tightened up  in fact  the latest abc news washington post tracking poll puts trump  point ahead of clinton  trump has all of the momentum at the moment  but that does not mean that he is going to win  as we have seen already in this race  one day can literally change everything   and as i noted yesterday   more than  million americans have already voted  and most of that voting was done during a period of time when hillary clinton was doing very well in the polls   so we shall see what happens  but if trump does win on november   there is a fact about his birthday which will start to get a lot of attention   donald trump was born on june     if you move ahead  years from that date  that brings you to june     moving forward another  months brings you to january     and moving forward another  days brings you to january      and if donald trump wins the election  january  will be his first full day in office   of course trump would be inaugurated on january   but he would only be president for part of that day   so that means that donald trump would be  years   months and  days old on his first full day as president of the united states   and this would happen during year  on the hebrew calendar   these amazing  coincidences  were first pointed out on facebook by a user named alyson kelly  some may take these numbers as a sign that donald trump is supposed to become the next president  but i want to make it exceedingly clear that i do not know what is going to happen  nor am i making any sort of prediction about what is going to happen   i just thought that this information was  interesting  and so i thought that i would share it   someone that does believe that trump is going to win is glenn beck  he was been virulently anti trump throughout this campaign  but now he is convinced that clinton will be unable to overcome this new email scandal  and he is calling this renewed investigation by the fbi  the greatest gift given to any candidate of all time in the history of america    beck also says that if clinton wins now it will be evidence that  magic exists   and he is currently projecting that trump should win the national vote by  points     let s just say he was  points  that was fair to say   points behind last week   beck said  according to a transcript posted on his website    he should win by  points    beck later added   how can the next president face a possible collapsing economy  possible war with russia  and a current war with isis  oh  and also  be under fbi investigation and indictment  can t  can t    the conservative personality called the latest fbi revelation  the greatest gift given to any candidate of all time in the history of america  and added that if clinton still managed to win  it would be akin to proof  magic exists    hopefully glenn beck is right  because none of us should want to see hillary clinton in the white house   she is the most evil  corrupt and scandal ridden politician of this generation  and i can t understand how any american in their right mind could possibly vote for her   and the hits just keep on coming  wikileaks has just released an email in which john podesta told clinton  fixer  cheryl mills that they were  going to have to dump all those emails so better to do so sooner than later     it was not entirely clear what podesta meant by that phrase  but it could potentially be smoking gun      back in   barack obama was new  intriguing and mysterious  we didn t know a lot about him  and so one can almost understand how the american people could have been fooled by him   but in   americans know more about hillary clinton than they have ever known about any candidate in modern american history   the clintons have a history of crimes and scandals that goes all the way back to the   but about half the country is choosing to ignore all of that history and vote for her anyway   i believe that this election is america s final exam  originally there were  republicans and  democrats running for the presidency  when you throw in the major third party candidates  that brings us to a total of approximately  people that the american public could have chosen from   if the american people willingly choose the most wicked candidate out of all of them after everything that has been revealed  i don t think that anyone will be able to say that we don t deserve the bitter consequences that follow that decision   the time for talking is almost over  and shortly we shall find out which path the american people have chosen   if that choice turns out to be hillary clinton after everything that we have seen during this election cycle  i truly believe that we will have reached the point of no return as a nation     shares'"
      ]
     },
     "execution_count": 146,
     "metadata": {},
     "output_type": "execute_result"
    }
   ],
   "source": [
    "new_suf_data_set['text'][31221]"
   ]
  },
  {
   "cell_type": "code",
   "execution_count": null,
   "metadata": {},
   "outputs": [],
   "source": []
  },
  {
   "cell_type": "code",
   "execution_count": null,
   "metadata": {},
   "outputs": [],
   "source": []
  }
 ],
 "metadata": {
  "kernelspec": {
   "display_name": "Python 3",
   "language": "python",
   "name": "python3"
  },
  "language_info": {
   "codemirror_mode": {
    "name": "ipython",
    "version": 3
   },
   "file_extension": ".py",
   "mimetype": "text/x-python",
   "name": "python",
   "nbconvert_exporter": "python",
   "pygments_lexer": "ipython3",
   "version": "3.7.6"
  }
 },
 "nbformat": 4,
 "nbformat_minor": 4
}
